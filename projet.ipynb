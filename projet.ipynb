{
 "cells": [
  {
   "cell_type": "code",
   "execution_count": 3,
   "metadata": {},
   "outputs": [],
   "source": [
    "import pandas as pd\n",
    "import os\n",
    "\n",
    "ot_odr_filename = os.path.join(\".\", \"OT_ODR.csv.bz2\")\n",
    "ot_odr_df = pd.read_csv(ot_odr_filename, compression=\"bz2\", sep=\";\")\n",
    "\n",
    "equipements_filename = os.path.join(\".\", 'EQUIPEMENTS.csv')\n",
    "equipements_df = pd.read_csv(equipements_filename, sep=\";\")"
   ]
  },
  {
   "cell_type": "code",
   "execution_count": 7,
   "metadata": {},
   "outputs": [
    {
     "data": {
      "text/html": [
       "<div>\n",
       "<style scoped>\n",
       "    .dataframe tbody tr th:only-of-type {\n",
       "        vertical-align: middle;\n",
       "    }\n",
       "\n",
       "    .dataframe tbody tr th {\n",
       "        vertical-align: top;\n",
       "    }\n",
       "\n",
       "    .dataframe thead th {\n",
       "        text-align: right;\n",
       "    }\n",
       "</style>\n",
       "<table border=\"1\" class=\"dataframe\">\n",
       "  <thead>\n",
       "    <tr style=\"text-align: right;\">\n",
       "      <th></th>\n",
       "      <th>EQU_ID</th>\n",
       "      <th>MODELE</th>\n",
       "      <th>CONSTRUCTEUR</th>\n",
       "      <th>MOTEUR</th>\n",
       "    </tr>\n",
       "  </thead>\n",
       "  <tbody>\n",
       "    <tr>\n",
       "      <th>4882</th>\n",
       "      <td>E00271009</td>\n",
       "      <td>MD023</td>\n",
       "      <td>C007</td>\n",
       "      <td>MT021</td>\n",
       "    </tr>\n",
       "    <tr>\n",
       "      <th>4883</th>\n",
       "      <td>E00341892</td>\n",
       "      <td>MD063</td>\n",
       "      <td>C007</td>\n",
       "      <td>MT023</td>\n",
       "    </tr>\n",
       "    <tr>\n",
       "      <th>4884</th>\n",
       "      <td>E00331551</td>\n",
       "      <td>MD005</td>\n",
       "      <td>C000</td>\n",
       "      <td>MT040</td>\n",
       "    </tr>\n",
       "    <tr>\n",
       "      <th>4885</th>\n",
       "      <td>E00373890</td>\n",
       "      <td>MD021</td>\n",
       "      <td>C011</td>\n",
       "      <td>MT0-1</td>\n",
       "    </tr>\n",
       "    <tr>\n",
       "      <th>4886</th>\n",
       "      <td>E00365136</td>\n",
       "      <td>MD032</td>\n",
       "      <td>C006</td>\n",
       "      <td>MT016</td>\n",
       "    </tr>\n",
       "  </tbody>\n",
       "</table>\n",
       "</div>"
      ],
      "text/plain": [
       "         EQU_ID MODELE CONSTRUCTEUR MOTEUR\n",
       "4882  E00271009  MD023         C007  MT021\n",
       "4883  E00341892  MD063         C007  MT023\n",
       "4884  E00331551  MD005         C000  MT040\n",
       "4885  E00373890  MD021         C011  MT0-1\n",
       "4886  E00365136  MD032         C006  MT016"
      ]
     },
     "execution_count": 7,
     "metadata": {},
     "output_type": "execute_result"
    }
   ],
   "source": [
    "equipements_df.tail()\n"
   ]
  },
  {
   "cell_type": "code",
   "execution_count": 6,
   "metadata": {},
   "outputs": [
    {
     "data": {
      "text/html": [
       "<div>\n",
       "<style scoped>\n",
       "    .dataframe tbody tr th:only-of-type {\n",
       "        vertical-align: middle;\n",
       "    }\n",
       "\n",
       "    .dataframe tbody tr th {\n",
       "        vertical-align: top;\n",
       "    }\n",
       "\n",
       "    .dataframe thead th {\n",
       "        text-align: right;\n",
       "    }\n",
       "</style>\n",
       "<table border=\"1\" class=\"dataframe\">\n",
       "  <thead>\n",
       "    <tr style=\"text-align: right;\">\n",
       "      <th></th>\n",
       "      <th>OT_ID</th>\n",
       "      <th>ODR_ID</th>\n",
       "      <th>ODR_LIBELLE</th>\n",
       "      <th>TYPE_TRAVAIL</th>\n",
       "      <th>DUREE_TRAVAIL</th>\n",
       "      <th>SYSTEM_N1</th>\n",
       "      <th>SYSTEM_N2</th>\n",
       "      <th>SYSTEM_N3</th>\n",
       "      <th>EQU_ID</th>\n",
       "      <th>DATE_OT</th>\n",
       "      <th>KILOMETRAGE</th>\n",
       "      <th>SIG_ORGANE</th>\n",
       "      <th>SIG_CONTEXTE</th>\n",
       "      <th>SIG_OBS</th>\n",
       "      <th>LIGNE</th>\n",
       "    </tr>\n",
       "  </thead>\n",
       "  <tbody>\n",
       "    <tr>\n",
       "      <th>506553</th>\n",
       "      <td>OT000405952</td>\n",
       "      <td>OM000506539</td>\n",
       "      <td>REMPLACEMENT D'UN FEU DE RECUL</td>\n",
       "      <td>ELECTRICITE</td>\n",
       "      <td>0.04</td>\n",
       "      <td>EQUIPEMENT ELECTRIQUE</td>\n",
       "      <td>ECLAIRAGE-SIGNALISATION</td>\n",
       "      <td>ECLAIRAGE-SIGNALISATION EXT</td>\n",
       "      <td>E00040793</td>\n",
       "      <td>2019-09-30 20:38:09</td>\n",
       "      <td>296005.373397</td>\n",
       "      <td>ECLAIRAGE FEUX EXTERIEURS</td>\n",
       "      <td>ARRIERE/EXTERIEUR/DROIT</td>\n",
       "      <td>CASSE</td>\n",
       "      <td>L0283</td>\n",
       "    </tr>\n",
       "    <tr>\n",
       "      <th>506554</th>\n",
       "      <td>OT000405953</td>\n",
       "      <td>OM000506546</td>\n",
       "      <td>REMPLACEMENT D'UN ECLAIRAGE EXT</td>\n",
       "      <td>MECANIQUE</td>\n",
       "      <td>0.75</td>\n",
       "      <td>EQUIPEMENT ELECTRIQUE</td>\n",
       "      <td>ECLAIRAGE-SIGNALISATION</td>\n",
       "      <td>ECLAIRAGE-SIGNALISATION EXT</td>\n",
       "      <td>E00274690</td>\n",
       "      <td>2019-09-30 21:21:20</td>\n",
       "      <td>153050.080050</td>\n",
       "      <td>ECLAIRAGE FEUX EXTERIEURS</td>\n",
       "      <td>ARRIERE/LATERAL</td>\n",
       "      <td>CASSE</td>\n",
       "      <td>L0116</td>\n",
       "    </tr>\n",
       "    <tr>\n",
       "      <th>506555</th>\n",
       "      <td>OT000405954</td>\n",
       "      <td>OM000506536</td>\n",
       "      <td>REMPLACEMENT D'UN PASSE SANS CONTACT</td>\n",
       "      <td>EQUIPEMENT EMBARQUE</td>\n",
       "      <td>0.03</td>\n",
       "      <td>EQUIPEMENT EMBARQUE</td>\n",
       "      <td>TELEBILLETIQUE</td>\n",
       "      <td>PASSE SANS CONTACT</td>\n",
       "      <td>E00256452</td>\n",
       "      <td>2019-09-30 21:39:29</td>\n",
       "      <td>175063.182439</td>\n",
       "      <td>AVTT</td>\n",
       "      <td>AVANT/PORTE</td>\n",
       "      <td>INTERMITTENT</td>\n",
       "      <td>L0134</td>\n",
       "    </tr>\n",
       "    <tr>\n",
       "      <th>506556</th>\n",
       "      <td>OT000405955</td>\n",
       "      <td>OM000506545</td>\n",
       "      <td>REMPLACEMENT D'UNE LAMPE DE FEU DE GABARIT</td>\n",
       "      <td>ELECTRICITE</td>\n",
       "      <td>0.04</td>\n",
       "      <td>EQUIPEMENT ELECTRIQUE</td>\n",
       "      <td>ECLAIRAGE-SIGNALISATION</td>\n",
       "      <td>ECLAIRAGE-SIGNALISATION EXT</td>\n",
       "      <td>E00006122</td>\n",
       "      <td>2019-09-30 21:55:28</td>\n",
       "      <td>437053.614263</td>\n",
       "      <td>ECLAIRAGE FEUX EXTERIEURS</td>\n",
       "      <td>LATERAL/HAUT/GAUCHE</td>\n",
       "      <td>NE FONCTIONNE PAS</td>\n",
       "      <td>L0270</td>\n",
       "    </tr>\n",
       "    <tr>\n",
       "      <th>506557</th>\n",
       "      <td>OT000405956</td>\n",
       "      <td>OM000506547</td>\n",
       "      <td>REMPLACEMENT DE LA CASSETTE ENCREUSE D'UN VALI...</td>\n",
       "      <td>EQUIPEMENT EMBARQUE</td>\n",
       "      <td>0.03</td>\n",
       "      <td>EQUIPEMENT EMBARQUE</td>\n",
       "      <td>TELEBILLETIQUE</td>\n",
       "      <td>VALIDEUR MAGNETIQUE</td>\n",
       "      <td>E00315330</td>\n",
       "      <td>2019-09-30 23:43:42</td>\n",
       "      <td>83269.095630</td>\n",
       "      <td>AVTT</td>\n",
       "      <td>POSTE CONDUITE/AVANT</td>\n",
       "      <td>NE FONCTIONNE PAS</td>\n",
       "      <td>L0047</td>\n",
       "    </tr>\n",
       "  </tbody>\n",
       "</table>\n",
       "</div>"
      ],
      "text/plain": [
       "              OT_ID       ODR_ID  \\\n",
       "506553  OT000405952  OM000506539   \n",
       "506554  OT000405953  OM000506546   \n",
       "506555  OT000405954  OM000506536   \n",
       "506556  OT000405955  OM000506545   \n",
       "506557  OT000405956  OM000506547   \n",
       "\n",
       "                                              ODR_LIBELLE  \\\n",
       "506553                     REMPLACEMENT D'UN FEU DE RECUL   \n",
       "506554                    REMPLACEMENT D'UN ECLAIRAGE EXT   \n",
       "506555               REMPLACEMENT D'UN PASSE SANS CONTACT   \n",
       "506556         REMPLACEMENT D'UNE LAMPE DE FEU DE GABARIT   \n",
       "506557  REMPLACEMENT DE LA CASSETTE ENCREUSE D'UN VALI...   \n",
       "\n",
       "               TYPE_TRAVAIL  DUREE_TRAVAIL              SYSTEM_N1  \\\n",
       "506553          ELECTRICITE           0.04  EQUIPEMENT ELECTRIQUE   \n",
       "506554            MECANIQUE           0.75  EQUIPEMENT ELECTRIQUE   \n",
       "506555  EQUIPEMENT EMBARQUE           0.03    EQUIPEMENT EMBARQUE   \n",
       "506556          ELECTRICITE           0.04  EQUIPEMENT ELECTRIQUE   \n",
       "506557  EQUIPEMENT EMBARQUE           0.03    EQUIPEMENT EMBARQUE   \n",
       "\n",
       "                      SYSTEM_N2                    SYSTEM_N3     EQU_ID  \\\n",
       "506553  ECLAIRAGE-SIGNALISATION  ECLAIRAGE-SIGNALISATION EXT  E00040793   \n",
       "506554  ECLAIRAGE-SIGNALISATION  ECLAIRAGE-SIGNALISATION EXT  E00274690   \n",
       "506555           TELEBILLETIQUE           PASSE SANS CONTACT  E00256452   \n",
       "506556  ECLAIRAGE-SIGNALISATION  ECLAIRAGE-SIGNALISATION EXT  E00006122   \n",
       "506557           TELEBILLETIQUE          VALIDEUR MAGNETIQUE  E00315330   \n",
       "\n",
       "                    DATE_OT    KILOMETRAGE                 SIG_ORGANE  \\\n",
       "506553  2019-09-30 20:38:09  296005.373397  ECLAIRAGE FEUX EXTERIEURS   \n",
       "506554  2019-09-30 21:21:20  153050.080050  ECLAIRAGE FEUX EXTERIEURS   \n",
       "506555  2019-09-30 21:39:29  175063.182439                       AVTT   \n",
       "506556  2019-09-30 21:55:28  437053.614263  ECLAIRAGE FEUX EXTERIEURS   \n",
       "506557  2019-09-30 23:43:42   83269.095630                       AVTT   \n",
       "\n",
       "                   SIG_CONTEXTE            SIG_OBS  LIGNE  \n",
       "506553  ARRIERE/EXTERIEUR/DROIT              CASSE  L0283  \n",
       "506554          ARRIERE/LATERAL              CASSE  L0116  \n",
       "506555              AVANT/PORTE       INTERMITTENT  L0134  \n",
       "506556      LATERAL/HAUT/GAUCHE  NE FONCTIONNE PAS  L0270  \n",
       "506557     POSTE CONDUITE/AVANT  NE FONCTIONNE PAS  L0047  "
      ]
     },
     "execution_count": 6,
     "metadata": {},
     "output_type": "execute_result"
    }
   ],
   "source": [
    "ot_odr_df.tail()"
   ]
  },
  {
   "cell_type": "code",
   "execution_count": 9,
   "metadata": {},
   "outputs": [
    {
     "data": {
      "text/html": [
       "<div>\n",
       "<style scoped>\n",
       "    .dataframe tbody tr th:only-of-type {\n",
       "        vertical-align: middle;\n",
       "    }\n",
       "\n",
       "    .dataframe tbody tr th {\n",
       "        vertical-align: top;\n",
       "    }\n",
       "\n",
       "    .dataframe thead th {\n",
       "        text-align: right;\n",
       "    }\n",
       "</style>\n",
       "<table border=\"1\" class=\"dataframe\">\n",
       "  <thead>\n",
       "    <tr style=\"text-align: right;\">\n",
       "      <th></th>\n",
       "      <th>OT_ID</th>\n",
       "      <th>ODR_ID</th>\n",
       "      <th>ODR_LIBELLE</th>\n",
       "      <th>TYPE_TRAVAIL</th>\n",
       "      <th>DUREE_TRAVAIL</th>\n",
       "      <th>SYSTEM_N1</th>\n",
       "      <th>SYSTEM_N2</th>\n",
       "      <th>SYSTEM_N3</th>\n",
       "      <th>EQU_ID</th>\n",
       "      <th>DATE_OT</th>\n",
       "      <th>KILOMETRAGE</th>\n",
       "      <th>SIG_ORGANE</th>\n",
       "      <th>SIG_CONTEXTE</th>\n",
       "      <th>SIG_OBS</th>\n",
       "      <th>LIGNE</th>\n",
       "      <th>MODELE</th>\n",
       "      <th>CONSTRUCTEUR</th>\n",
       "      <th>MOTEUR</th>\n",
       "    </tr>\n",
       "  </thead>\n",
       "  <tbody>\n",
       "    <tr>\n",
       "      <th>506553</th>\n",
       "      <td>OT000403521</td>\n",
       "      <td>OM000503032</td>\n",
       "      <td>REMPLACEMENT D'UN FEU DE GABARIT</td>\n",
       "      <td>ELECTRICITE</td>\n",
       "      <td>0.04</td>\n",
       "      <td>EQUIPEMENT ELECTRIQUE</td>\n",
       "      <td>ECLAIRAGE-SIGNALISATION</td>\n",
       "      <td>ECLAIRAGE-SIGNALISATION EXT</td>\n",
       "      <td>E00364746</td>\n",
       "      <td>2019-09-17 00:22:38</td>\n",
       "      <td>1605.000000</td>\n",
       "      <td>ECLAIRAGE FEUX EXTERIEURS</td>\n",
       "      <td>LATERAL/DROIT</td>\n",
       "      <td>CASSE</td>\n",
       "      <td>L0098</td>\n",
       "      <td>MD064</td>\n",
       "      <td>C007</td>\n",
       "      <td>MT024</td>\n",
       "    </tr>\n",
       "    <tr>\n",
       "      <th>506554</th>\n",
       "      <td>OT000404355</td>\n",
       "      <td>OM000504846</td>\n",
       "      <td>REMPLACEMENT D'UN CABLAGE PASSE SANS CONTACT</td>\n",
       "      <td>ELECTRICITE</td>\n",
       "      <td>0.25</td>\n",
       "      <td>EQUIPEMENT EMBARQUE</td>\n",
       "      <td>TELEBILLETIQUE</td>\n",
       "      <td>PASSE SANS CONTACT</td>\n",
       "      <td>E00362393</td>\n",
       "      <td>2019-09-20 20:30:07</td>\n",
       "      <td>5145.078211</td>\n",
       "      <td>AVTT</td>\n",
       "      <td>GAUCHE</td>\n",
       "      <td>NE FONCTIONNE PAS</td>\n",
       "      <td>L0077</td>\n",
       "      <td>MD032</td>\n",
       "      <td>C006</td>\n",
       "      <td>MT016</td>\n",
       "    </tr>\n",
       "    <tr>\n",
       "      <th>506555</th>\n",
       "      <td>OT000405069</td>\n",
       "      <td>OM000505089</td>\n",
       "      <td>REMPLACEMENT D'UNE LAMPE DE CODE / PHARE</td>\n",
       "      <td>ELECTRICITE</td>\n",
       "      <td>0.04</td>\n",
       "      <td>EQUIPEMENT ELECTRIQUE</td>\n",
       "      <td>ECLAIRAGE-SIGNALISATION</td>\n",
       "      <td>ECLAIRAGE-SIGNALISATION EXT</td>\n",
       "      <td>E00364751</td>\n",
       "      <td>2019-09-24 23:31:41</td>\n",
       "      <td>9453.675111</td>\n",
       "      <td>ECLAIRAGE FEUX EXTERIEURS</td>\n",
       "      <td>GAUCHE/DROIT/AVANT</td>\n",
       "      <td>DESSERRE</td>\n",
       "      <td>L0098</td>\n",
       "      <td>MD064</td>\n",
       "      <td>C007</td>\n",
       "      <td>MT024</td>\n",
       "    </tr>\n",
       "    <tr>\n",
       "      <th>506556</th>\n",
       "      <td>OT000405447</td>\n",
       "      <td>OM000505789</td>\n",
       "      <td>REMPLACEMENT D'UN PASSE SANS CONTACT</td>\n",
       "      <td>EQUIPEMENT EMBARQUE</td>\n",
       "      <td>0.06</td>\n",
       "      <td>EQUIPEMENT EMBARQUE</td>\n",
       "      <td>TELEBILLETIQUE</td>\n",
       "      <td>PASSE SANS CONTACT</td>\n",
       "      <td>E00370753</td>\n",
       "      <td>2019-09-26 19:52:05</td>\n",
       "      <td>2599.051019</td>\n",
       "      <td>AVTT</td>\n",
       "      <td>EN MONTEE</td>\n",
       "      <td>VOYANT HS</td>\n",
       "      <td>L0178</td>\n",
       "      <td>MD021</td>\n",
       "      <td>C011</td>\n",
       "      <td>MT051</td>\n",
       "    </tr>\n",
       "    <tr>\n",
       "      <th>506557</th>\n",
       "      <td>OT000405447</td>\n",
       "      <td>OM000505790</td>\n",
       "      <td>REMPLACEMENT DU CONCENTRATEUR PEAGE</td>\n",
       "      <td>EQUIPEMENT EMBARQUE</td>\n",
       "      <td>0.08</td>\n",
       "      <td>EQUIPEMENT EMBARQUE</td>\n",
       "      <td>TELEBILLETIQUE</td>\n",
       "      <td>CONCENTRATEUR DE PEAGE</td>\n",
       "      <td>E00370753</td>\n",
       "      <td>2019-09-26 19:52:05</td>\n",
       "      <td>2599.051019</td>\n",
       "      <td>AVTT</td>\n",
       "      <td>EN MONTEE</td>\n",
       "      <td>VOYANT HS</td>\n",
       "      <td>L0178</td>\n",
       "      <td>MD021</td>\n",
       "      <td>C011</td>\n",
       "      <td>MT051</td>\n",
       "    </tr>\n",
       "  </tbody>\n",
       "</table>\n",
       "</div>"
      ],
      "text/plain": [
       "              OT_ID       ODR_ID  \\\n",
       "506553  OT000403521  OM000503032   \n",
       "506554  OT000404355  OM000504846   \n",
       "506555  OT000405069  OM000505089   \n",
       "506556  OT000405447  OM000505789   \n",
       "506557  OT000405447  OM000505790   \n",
       "\n",
       "                                         ODR_LIBELLE         TYPE_TRAVAIL  \\\n",
       "506553              REMPLACEMENT D'UN FEU DE GABARIT          ELECTRICITE   \n",
       "506554  REMPLACEMENT D'UN CABLAGE PASSE SANS CONTACT          ELECTRICITE   \n",
       "506555      REMPLACEMENT D'UNE LAMPE DE CODE / PHARE          ELECTRICITE   \n",
       "506556          REMPLACEMENT D'UN PASSE SANS CONTACT  EQUIPEMENT EMBARQUE   \n",
       "506557           REMPLACEMENT DU CONCENTRATEUR PEAGE  EQUIPEMENT EMBARQUE   \n",
       "\n",
       "        DUREE_TRAVAIL              SYSTEM_N1                SYSTEM_N2  \\\n",
       "506553           0.04  EQUIPEMENT ELECTRIQUE  ECLAIRAGE-SIGNALISATION   \n",
       "506554           0.25    EQUIPEMENT EMBARQUE           TELEBILLETIQUE   \n",
       "506555           0.04  EQUIPEMENT ELECTRIQUE  ECLAIRAGE-SIGNALISATION   \n",
       "506556           0.06    EQUIPEMENT EMBARQUE           TELEBILLETIQUE   \n",
       "506557           0.08    EQUIPEMENT EMBARQUE           TELEBILLETIQUE   \n",
       "\n",
       "                          SYSTEM_N3     EQU_ID              DATE_OT  \\\n",
       "506553  ECLAIRAGE-SIGNALISATION EXT  E00364746  2019-09-17 00:22:38   \n",
       "506554           PASSE SANS CONTACT  E00362393  2019-09-20 20:30:07   \n",
       "506555  ECLAIRAGE-SIGNALISATION EXT  E00364751  2019-09-24 23:31:41   \n",
       "506556           PASSE SANS CONTACT  E00370753  2019-09-26 19:52:05   \n",
       "506557       CONCENTRATEUR DE PEAGE  E00370753  2019-09-26 19:52:05   \n",
       "\n",
       "        KILOMETRAGE                 SIG_ORGANE        SIG_CONTEXTE  \\\n",
       "506553  1605.000000  ECLAIRAGE FEUX EXTERIEURS       LATERAL/DROIT   \n",
       "506554  5145.078211                       AVTT              GAUCHE   \n",
       "506555  9453.675111  ECLAIRAGE FEUX EXTERIEURS  GAUCHE/DROIT/AVANT   \n",
       "506556  2599.051019                       AVTT           EN MONTEE   \n",
       "506557  2599.051019                       AVTT           EN MONTEE   \n",
       "\n",
       "                  SIG_OBS  LIGNE MODELE CONSTRUCTEUR MOTEUR  \n",
       "506553              CASSE  L0098  MD064         C007  MT024  \n",
       "506554  NE FONCTIONNE PAS  L0077  MD032         C006  MT016  \n",
       "506555           DESSERRE  L0098  MD064         C007  MT024  \n",
       "506556          VOYANT HS  L0178  MD021         C011  MT051  \n",
       "506557          VOYANT HS  L0178  MD021         C011  MT051  "
      ]
     },
     "execution_count": 9,
     "metadata": {},
     "output_type": "execute_result"
    }
   ],
   "source": [
    "resultat_df = pd.merge(ot_odr_df, equipements_df, on=\"EQU_ID\", how=\"inner\")\n",
    "resultat_df.tail()"
   ]
  },
  {
   "attachments": {},
   "cell_type": "markdown",
   "metadata": {},
   "source": [
    "suppr OT_ID, ODR_ID, EQU_ID, DATE_OT"
   ]
  },
  {
   "cell_type": "code",
   "execution_count": 16,
   "metadata": {},
   "outputs": [
    {
     "data": {
      "text/plain": [
       "TYPE_TRAVAIL\n",
       "ELECTRICITE            258129\n",
       "MECANIQUE              130342\n",
       "CARROSSERIE             91705\n",
       "EQUIPEMENT EMBARQUE     19236\n",
       "MISE AU POINT            5495\n",
       "STATION SERVICE           726\n",
       "ROUE                      465\n",
       "EXTINCTEUR                396\n",
       "DIVERS                     42\n",
       "CLIMATISATION              16\n",
       "BATTERIE                    5\n",
       "CONTROLE                    1\n",
       "Name: count, dtype: int64"
      ]
     },
     "execution_count": 16,
     "metadata": {},
     "output_type": "execute_result"
    }
   ],
   "source": [
    "resultat_df[\"TYPE_TRAVAIL\"].value_counts()"
   ]
  },
  {
   "cell_type": "code",
   "execution_count": 17,
   "metadata": {},
   "outputs": [
    {
     "data": {
      "text/plain": [
       "DUREE_TRAVAIL\n",
       "0.04     145476\n",
       "0.25      57628\n",
       "0.50      46058\n",
       "0.08      42071\n",
       "0.33      23818\n",
       "          ...  \n",
       "30.00         1\n",
       "12.48         1\n",
       "13.48         1\n",
       "1.31          1\n",
       "4.14          1\n",
       "Name: count, Length: 237, dtype: int64"
      ]
     },
     "execution_count": 17,
     "metadata": {},
     "output_type": "execute_result"
    }
   ],
   "source": [
    "resultat_df[\"DUREE_TRAVAIL\"].value_counts()"
   ]
  },
  {
   "cell_type": "code",
   "execution_count": 18,
   "metadata": {},
   "outputs": [
    {
     "data": {
      "text/plain": [
       "SYSTEM_N1\n",
       "EQUIPEMENT ELECTRIQUE         285348\n",
       "EQUIPEMENT DE CARROSSERIE     125208\n",
       "EQUIPEMENT DE MOTORISATION     22782\n",
       "EQUIPEMENT EMBARQUE            20503\n",
       "EQUIPEMENT CHASSIS             16024\n",
       "EQUIPEMENT CLIMATIQUE          13656\n",
       "EQUIPEMENT DE FREINAGE         11730\n",
       "EQUIPEMENT PNEUMATIQUE          9883\n",
       "EQUIPEMENT DE TRANSMISSION      1377\n",
       "DIVERS                            47\n",
       "Name: count, dtype: int64"
      ]
     },
     "execution_count": 18,
     "metadata": {},
     "output_type": "execute_result"
    }
   ],
   "source": [
    "resultat_df[\"SYSTEM_N1\"].value_counts()"
   ]
  },
  {
   "cell_type": "code",
   "execution_count": 19,
   "metadata": {},
   "outputs": [
    {
     "data": {
      "text/plain": [
       "SYSTEM_N2\n",
       "ECLAIRAGE-SIGNALISATION              261949\n",
       "ELEMENT CARROSSERIE EXT               45010\n",
       "ACCESSOIRE DE VISIBILITE              34852\n",
       "PORTE                                 29794\n",
       "INDICATEUR                            15582\n",
       "CHAUFFAGE/DEGIVRAGE                   12404\n",
       "LIAISON AU SOL                        11918\n",
       "TELEBILLETIQUE                        10574\n",
       "CIRCUIT DE PRODUCTION D'AIR            9610\n",
       "FREIN PRINCIPAL                        9418\n",
       "REFROIDISSEMENT                        8541\n",
       "AMENAGEMENT INT                        6766\n",
       "POSTE DE CONDUITE                      6276\n",
       "DEPOLLUTION                            4783\n",
       "CIRCUIT DE GESTION ELECTRIQUE          4683\n",
       "AIDE A L'EXPLOITATION-MAINTENANCE      4171\n",
       "INFORMATION VOYAGEUR                   3486\n",
       "VITRAGE                                2510\n",
       "SECURITE VOYAGEUR                      2169\n",
       "MOTEUR THERMIQUE                       1884\n",
       "CIRCUIT D'ADMISSION                    1873\n",
       "CIRCUIT DE CARBURANT                   1781\n",
       "EQUIPEMENT DE DIRECTION                1645\n",
       "ACCESSIBILITE PMR                      1600\n",
       "CIRCUIT DE GESTION MOTEUR              1588\n",
       "CIRCUIT DE CHARGE                      1552\n",
       "CIRCUIT DE DEMARRAGE                   1517\n",
       "FREIN D'EXPLOITATION                   1388\n",
       "CIRCUIT D'ECHAPPEMENT                  1319\n",
       "BOITE DE VITESSES                      1235\n",
       "VENTILATION                            1127\n",
       "CIRCUIT DE LUBRIFICATION                924\n",
       "FREIN DE STATIONNEMENT                  922\n",
       "CHASSIS                                 688\n",
       "STOCKAGE D'AIR                          273\n",
       "ARTICULATION CLE                        173\n",
       "-                                       152\n",
       "TRANSMISSION                            142\n",
       "CLIMATISATION                            81\n",
       "CIRCUIT DE PUISSANCE (TRACTION)          50\n",
       "MAINTENANCE                              47\n",
       "MOTEUR ELECTRIQUE                        44\n",
       "CIRCUIT D'ALLUMAGE                       41\n",
       "ENERGIE TRACTION                         14\n",
       "FREIN SECONDAIRE                          2\n",
       "Name: count, dtype: int64"
      ]
     },
     "execution_count": 19,
     "metadata": {},
     "output_type": "execute_result"
    }
   ],
   "source": [
    "resultat_df[\"SYSTEM_N2\"].value_counts()"
   ]
  },
  {
   "cell_type": "code",
   "execution_count": 20,
   "metadata": {},
   "outputs": [
    {
     "data": {
      "text/plain": [
       "SYSTEM_N3\n",
       "ECLAIRAGE-SIGNALISATION EXT     245663\n",
       "RETROVISION EXT                  23474\n",
       "ECLAIRAGE-SIGNALISATION INT      15911\n",
       "INDICATEUR LUMINEUX / SONORE     13422\n",
       "COMMANDE PORTE                   13015\n",
       "                                 ...  \n",
       "VIDEOSURVEILLANCE EVE 2              3\n",
       "STOCKAGE ENERGIE                     3\n",
       "COMMANDE RALENTISSEUR                2\n",
       "CABLAGE DEMARRAGE                    1\n",
       "VIDEOSURVEILLANCE EVE 3              1\n",
       "Name: count, Length: 150, dtype: int64"
      ]
     },
     "execution_count": 20,
     "metadata": {},
     "output_type": "execute_result"
    }
   ],
   "source": [
    "resultat_df[\"SYSTEM_N3\"].value_counts()"
   ]
  },
  {
   "cell_type": "code",
   "execution_count": 25,
   "metadata": {},
   "outputs": [
    {
     "data": {
      "text/plain": [
       "116"
      ]
     },
     "execution_count": 25,
     "metadata": {},
     "output_type": "execute_result"
    }
   ],
   "source": [
    "resultat_df[\"SIG_ORGANE\"].value_counts()"
   ]
  },
  {
   "cell_type": "code",
   "execution_count": 21,
   "metadata": {},
   "outputs": [
    {
     "data": {
      "text/plain": [
       "{'pyagrum': '1.8.1'}"
      ]
     },
     "execution_count": 21,
     "metadata": {},
     "output_type": "execute_result"
    }
   ],
   "source": [
    "import os\n",
    "import pyAgrum as gum # La librairie pyAgrum\n",
    "\n",
    "# Vérification des versions\n",
    "{\n",
    "    \"pyagrum\": gum.__version__, \n",
    "}"
   ]
  },
  {
   "cell_type": "code",
   "execution_count": 22,
   "metadata": {},
   "outputs": [
    {
     "data": {
      "text/plain": [
       "(pyAgrum.BayesNet<double>@000001F44A7FA890) BN{nodes: 0, arcs: 0, domainSize: 1, dim: 0, mem: 0o}"
      ]
     },
     "execution_count": 22,
     "metadata": {},
     "output_type": "execute_result"
    }
   ],
   "source": [
    "bn = gum.BayesNet(\"ProjetMS\")\n",
    "bn"
   ]
  },
  {
   "cell_type": "code",
   "execution_count": 26,
   "metadata": {},
   "outputs": [],
   "source": [
    "bn_SYG_ORGANE = gum.LabelizedVariable(\"SYS_ORGANE\", \"Signalement du conducteur sur la partie organe ?\", 116)\n",
    "bn_SYSTEM_N1 = gum.LabelizedVariable(\"SYSTEM_N1\", \"Identifiant de système de niveau 1 concerné par l'ODR ?\", 10)"
   ]
  },
  {
   "cell_type": "code",
   "execution_count": 30,
   "metadata": {},
   "outputs": [
    {
     "data": {
      "text/plain": [
       "SIG_ORGANE\n",
       "ECLAIRAGE FEUX EXTERIEURS    189559\n",
       "CLIGNOTANTS/ DETRESSE         38986\n",
       "PARE-CHOCS                    33191\n",
       "RETROVISEUR                   25005\n",
       "PORTE                         23043\n",
       "                              ...  \n",
       "HAUT-PARLEUR                      2\n",
       "COLMATAGE.F.AIR                   1\n",
       "ISSUE SEC.                        1\n",
       "LUBRIMATIC                        1\n",
       "PILE BTSAM                        1\n",
       "Name: count, Length: 116, dtype: int64"
      ]
     },
     "execution_count": 30,
     "metadata": {},
     "output_type": "execute_result"
    }
   ],
   "source": [
    "df_tmp = resultat_df[\"SIG_ORGANE\"].value_counts()\n",
    "df_tmp"
   ]
  },
  {
   "cell_type": "code",
   "execution_count": 37,
   "metadata": {},
   "outputs": [
    {
     "data": {
      "text/html": [
       "<div>\n",
       "<style scoped>\n",
       "    .dataframe tbody tr th:only-of-type {\n",
       "        vertical-align: middle;\n",
       "    }\n",
       "\n",
       "    .dataframe tbody tr th {\n",
       "        vertical-align: top;\n",
       "    }\n",
       "\n",
       "    .dataframe thead th {\n",
       "        text-align: right;\n",
       "    }\n",
       "</style>\n",
       "<table border=\"1\" class=\"dataframe\">\n",
       "  <thead>\n",
       "    <tr style=\"text-align: right;\">\n",
       "      <th></th>\n",
       "      <th>index</th>\n",
       "      <th>SIG_ORGANE</th>\n",
       "      <th>count</th>\n",
       "    </tr>\n",
       "  </thead>\n",
       "  <tbody>\n",
       "    <tr>\n",
       "      <th>0</th>\n",
       "      <td>0</td>\n",
       "      <td>ECLAIRAGE FEUX EXTERIEURS</td>\n",
       "      <td>189559</td>\n",
       "    </tr>\n",
       "    <tr>\n",
       "      <th>1</th>\n",
       "      <td>1</td>\n",
       "      <td>CLIGNOTANTS/ DETRESSE</td>\n",
       "      <td>38986</td>\n",
       "    </tr>\n",
       "    <tr>\n",
       "      <th>2</th>\n",
       "      <td>2</td>\n",
       "      <td>PARE-CHOCS</td>\n",
       "      <td>33191</td>\n",
       "    </tr>\n",
       "    <tr>\n",
       "      <th>3</th>\n",
       "      <td>3</td>\n",
       "      <td>RETROVISEUR</td>\n",
       "      <td>25005</td>\n",
       "    </tr>\n",
       "    <tr>\n",
       "      <th>4</th>\n",
       "      <td>4</td>\n",
       "      <td>PORTE</td>\n",
       "      <td>23043</td>\n",
       "    </tr>\n",
       "    <tr>\n",
       "      <th>...</th>\n",
       "      <td>...</td>\n",
       "      <td>...</td>\n",
       "      <td>...</td>\n",
       "    </tr>\n",
       "    <tr>\n",
       "      <th>111</th>\n",
       "      <td>111</td>\n",
       "      <td>HAUT-PARLEUR</td>\n",
       "      <td>2</td>\n",
       "    </tr>\n",
       "    <tr>\n",
       "      <th>112</th>\n",
       "      <td>112</td>\n",
       "      <td>COLMATAGE.F.AIR</td>\n",
       "      <td>1</td>\n",
       "    </tr>\n",
       "    <tr>\n",
       "      <th>113</th>\n",
       "      <td>113</td>\n",
       "      <td>ISSUE SEC.</td>\n",
       "      <td>1</td>\n",
       "    </tr>\n",
       "    <tr>\n",
       "      <th>114</th>\n",
       "      <td>114</td>\n",
       "      <td>LUBRIMATIC</td>\n",
       "      <td>1</td>\n",
       "    </tr>\n",
       "    <tr>\n",
       "      <th>115</th>\n",
       "      <td>115</td>\n",
       "      <td>PILE BTSAM</td>\n",
       "      <td>1</td>\n",
       "    </tr>\n",
       "  </tbody>\n",
       "</table>\n",
       "<p>116 rows × 3 columns</p>\n",
       "</div>"
      ],
      "text/plain": [
       "     index                 SIG_ORGANE   count\n",
       "0        0  ECLAIRAGE FEUX EXTERIEURS  189559\n",
       "1        1      CLIGNOTANTS/ DETRESSE   38986\n",
       "2        2                 PARE-CHOCS   33191\n",
       "3        3                RETROVISEUR   25005\n",
       "4        4                      PORTE   23043\n",
       "..     ...                        ...     ...\n",
       "111    111               HAUT-PARLEUR       2\n",
       "112    112            COLMATAGE.F.AIR       1\n",
       "113    113                 ISSUE SEC.       1\n",
       "114    114                 LUBRIMATIC       1\n",
       "115    115                 PILE BTSAM       1\n",
       "\n",
       "[116 rows x 3 columns]"
      ]
     },
     "execution_count": 37,
     "metadata": {},
     "output_type": "execute_result"
    }
   ],
   "source": [
    "df_tmp = df_tmp.reset_index()\n",
    "df_tmp"
   ]
  },
  {
   "cell_type": "code",
   "execution_count": 50,
   "metadata": {},
   "outputs": [
    {
     "ename": "AttributeError",
     "evalue": "'Series' object has no attribute 'changeLabel'",
     "output_type": "error",
     "traceback": [
      "\u001b[1;31m---------------------------------------------------------------------------\u001b[0m",
      "\u001b[1;31mAttributeError\u001b[0m                            Traceback (most recent call last)",
      "\u001b[1;32m~\\AppData\\Local\\Temp\\ipykernel_109664\\1470097549.py\u001b[0m in \u001b[0;36m?\u001b[1;34m()\u001b[0m\n\u001b[0;32m      1\u001b[0m \u001b[1;32mfor\u001b[0m \u001b[0mindex\u001b[0m\u001b[1;33m,\u001b[0m \u001b[0mrow\u001b[0m \u001b[1;32min\u001b[0m \u001b[0mdf_tmp\u001b[0m\u001b[1;33m.\u001b[0m\u001b[0miterrows\u001b[0m\u001b[1;33m(\u001b[0m\u001b[1;33m)\u001b[0m\u001b[1;33m:\u001b[0m\u001b[1;33m\u001b[0m\u001b[1;33m\u001b[0m\u001b[0m\n\u001b[0;32m      2\u001b[0m \u001b[1;33m\u001b[0m\u001b[0m\n\u001b[1;32m----> 3\u001b[1;33m     \u001b[0mrow\u001b[0m\u001b[1;33m.\u001b[0m\u001b[0mchangeLabel\u001b[0m\u001b[1;33m(\u001b[0m\u001b[0mindex\u001b[0m\u001b[1;33m,\u001b[0m \u001b[0mrow\u001b[0m\u001b[1;33m.\u001b[0m\u001b[0mloc\u001b[0m\u001b[1;33m[\u001b[0m\u001b[1;34m\"SIG_ORGANE\"\u001b[0m\u001b[1;33m]\u001b[0m\u001b[1;33m)\u001b[0m\u001b[1;33m\u001b[0m\u001b[1;33m\u001b[0m\u001b[0m\n\u001b[0m",
      "\u001b[1;32m~\\AppData\\Local\\Packages\\PythonSoftwareFoundation.Python.3.10_qbz5n2kfra8p0\\LocalCache\\local-packages\\Python310\\site-packages\\pandas\\core\\generic.py\u001b[0m in \u001b[0;36m?\u001b[1;34m(self, name)\u001b[0m\n\u001b[0;32m   5985\u001b[0m             \u001b[1;32mand\u001b[0m \u001b[0mname\u001b[0m \u001b[1;32mnot\u001b[0m \u001b[1;32min\u001b[0m \u001b[0mself\u001b[0m\u001b[1;33m.\u001b[0m\u001b[0m_accessors\u001b[0m\u001b[1;33m\u001b[0m\u001b[1;33m\u001b[0m\u001b[0m\n\u001b[0;32m   5986\u001b[0m             \u001b[1;32mand\u001b[0m \u001b[0mself\u001b[0m\u001b[1;33m.\u001b[0m\u001b[0m_info_axis\u001b[0m\u001b[1;33m.\u001b[0m\u001b[0m_can_hold_identifiers_and_holds_name\u001b[0m\u001b[1;33m(\u001b[0m\u001b[0mname\u001b[0m\u001b[1;33m)\u001b[0m\u001b[1;33m\u001b[0m\u001b[1;33m\u001b[0m\u001b[0m\n\u001b[0;32m   5987\u001b[0m         ):\n\u001b[0;32m   5988\u001b[0m             \u001b[1;32mreturn\u001b[0m \u001b[0mself\u001b[0m\u001b[1;33m[\u001b[0m\u001b[0mname\u001b[0m\u001b[1;33m]\u001b[0m\u001b[1;33m\u001b[0m\u001b[1;33m\u001b[0m\u001b[0m\n\u001b[1;32m-> 5989\u001b[1;33m         \u001b[1;32mreturn\u001b[0m \u001b[0mobject\u001b[0m\u001b[1;33m.\u001b[0m\u001b[0m__getattribute__\u001b[0m\u001b[1;33m(\u001b[0m\u001b[0mself\u001b[0m\u001b[1;33m,\u001b[0m \u001b[0mname\u001b[0m\u001b[1;33m)\u001b[0m\u001b[1;33m\u001b[0m\u001b[1;33m\u001b[0m\u001b[0m\n\u001b[0m",
      "\u001b[1;31mAttributeError\u001b[0m: 'Series' object has no attribute 'changeLabel'"
     ]
    }
   ],
   "source": [
    "for index, row in df_tmp.iterrows():\n",
    "    row.changeLabel(index, row.loc[\"SIG_ORGANE\"])\n"
   ]
  }
 ],
 "metadata": {
  "kernelspec": {
   "display_name": "Python 3",
   "language": "python",
   "name": "python3"
  },
  "language_info": {
   "codemirror_mode": {
    "name": "ipython",
    "version": 3
   },
   "file_extension": ".py",
   "mimetype": "text/x-python",
   "name": "python",
   "nbconvert_exporter": "python",
   "pygments_lexer": "ipython3",
   "version": "3.10.11"
  },
  "orig_nbformat": 4
 },
 "nbformat": 4,
 "nbformat_minor": 2
}
