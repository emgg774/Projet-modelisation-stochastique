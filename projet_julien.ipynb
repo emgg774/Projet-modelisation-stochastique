{
 "cells": [
  {
   "cell_type": "code",
   "execution_count": 34,
   "metadata": {},
   "outputs": [],
   "source": [
    "import pandas as pd\n",
    "import os\n",
    "\n",
    "ot_odr_filename = os.path.join(\".\", \"OT_ODR.csv.bz2\")\n",
    "ot_odr_df = pd.read_csv(ot_odr_filename, compression=\"bz2\", sep=\";\")\n",
    "longueur_ot_odr_df = len(ot_odr_df)\n",
    "\n",
    "equipements_filename = os.path.join(\".\", 'EQUIPEMENTS.csv')\n",
    "equipements_df = pd.read_csv(equipements_filename, sep=\";\")\n"
   ]
  },
  {
   "cell_type": "code",
   "execution_count": 35,
   "metadata": {},
   "outputs": [
    {
     "data": {
      "text/html": [
       "<div>\n",
       "<style scoped>\n",
       "    .dataframe tbody tr th:only-of-type {\n",
       "        vertical-align: middle;\n",
       "    }\n",
       "\n",
       "    .dataframe tbody tr th {\n",
       "        vertical-align: top;\n",
       "    }\n",
       "\n",
       "    .dataframe thead th {\n",
       "        text-align: right;\n",
       "    }\n",
       "</style>\n",
       "<table border=\"1\" class=\"dataframe\">\n",
       "  <thead>\n",
       "    <tr style=\"text-align: right;\">\n",
       "      <th></th>\n",
       "      <th>EQU_ID</th>\n",
       "      <th>MODELE</th>\n",
       "      <th>CONSTRUCTEUR</th>\n",
       "      <th>MOTEUR</th>\n",
       "    </tr>\n",
       "  </thead>\n",
       "  <tbody>\n",
       "    <tr>\n",
       "      <th>4882</th>\n",
       "      <td>E00271009</td>\n",
       "      <td>MD023</td>\n",
       "      <td>C007</td>\n",
       "      <td>MT021</td>\n",
       "    </tr>\n",
       "    <tr>\n",
       "      <th>4883</th>\n",
       "      <td>E00341892</td>\n",
       "      <td>MD063</td>\n",
       "      <td>C007</td>\n",
       "      <td>MT023</td>\n",
       "    </tr>\n",
       "    <tr>\n",
       "      <th>4884</th>\n",
       "      <td>E00331551</td>\n",
       "      <td>MD005</td>\n",
       "      <td>C000</td>\n",
       "      <td>MT040</td>\n",
       "    </tr>\n",
       "    <tr>\n",
       "      <th>4885</th>\n",
       "      <td>E00373890</td>\n",
       "      <td>MD021</td>\n",
       "      <td>C011</td>\n",
       "      <td>MT0-1</td>\n",
       "    </tr>\n",
       "    <tr>\n",
       "      <th>4886</th>\n",
       "      <td>E00365136</td>\n",
       "      <td>MD032</td>\n",
       "      <td>C006</td>\n",
       "      <td>MT016</td>\n",
       "    </tr>\n",
       "  </tbody>\n",
       "</table>\n",
       "</div>"
      ],
      "text/plain": [
       "         EQU_ID MODELE CONSTRUCTEUR MOTEUR\n",
       "4882  E00271009  MD023         C007  MT021\n",
       "4883  E00341892  MD063         C007  MT023\n",
       "4884  E00331551  MD005         C000  MT040\n",
       "4885  E00373890  MD021         C011  MT0-1\n",
       "4886  E00365136  MD032         C006  MT016"
      ]
     },
     "execution_count": 35,
     "metadata": {},
     "output_type": "execute_result"
    }
   ],
   "source": [
    "equipements_df.tail()\n"
   ]
  },
  {
   "cell_type": "code",
   "execution_count": 36,
   "metadata": {},
   "outputs": [
    {
     "data": {
      "text/html": [
       "<div>\n",
       "<style scoped>\n",
       "    .dataframe tbody tr th:only-of-type {\n",
       "        vertical-align: middle;\n",
       "    }\n",
       "\n",
       "    .dataframe tbody tr th {\n",
       "        vertical-align: top;\n",
       "    }\n",
       "\n",
       "    .dataframe thead th {\n",
       "        text-align: right;\n",
       "    }\n",
       "</style>\n",
       "<table border=\"1\" class=\"dataframe\">\n",
       "  <thead>\n",
       "    <tr style=\"text-align: right;\">\n",
       "      <th></th>\n",
       "      <th>OT_ID</th>\n",
       "      <th>ODR_ID</th>\n",
       "      <th>ODR_LIBELLE</th>\n",
       "      <th>TYPE_TRAVAIL</th>\n",
       "      <th>DUREE_TRAVAIL</th>\n",
       "      <th>SYSTEM_N1</th>\n",
       "      <th>SYSTEM_N2</th>\n",
       "      <th>SYSTEM_N3</th>\n",
       "      <th>EQU_ID</th>\n",
       "      <th>DATE_OT</th>\n",
       "      <th>KILOMETRAGE</th>\n",
       "      <th>SIG_ORGANE</th>\n",
       "      <th>SIG_CONTEXTE</th>\n",
       "      <th>SIG_OBS</th>\n",
       "      <th>LIGNE</th>\n",
       "    </tr>\n",
       "  </thead>\n",
       "  <tbody>\n",
       "    <tr>\n",
       "      <th>506553</th>\n",
       "      <td>OT000405952</td>\n",
       "      <td>OM000506539</td>\n",
       "      <td>REMPLACEMENT D'UN FEU DE RECUL</td>\n",
       "      <td>ELECTRICITE</td>\n",
       "      <td>0.04</td>\n",
       "      <td>EQUIPEMENT ELECTRIQUE</td>\n",
       "      <td>ECLAIRAGE-SIGNALISATION</td>\n",
       "      <td>ECLAIRAGE-SIGNALISATION EXT</td>\n",
       "      <td>E00040793</td>\n",
       "      <td>2019-09-30 20:38:09</td>\n",
       "      <td>296005.373397</td>\n",
       "      <td>ECLAIRAGE FEUX EXTERIEURS</td>\n",
       "      <td>ARRIERE/EXTERIEUR/DROIT</td>\n",
       "      <td>CASSE</td>\n",
       "      <td>L0283</td>\n",
       "    </tr>\n",
       "    <tr>\n",
       "      <th>506554</th>\n",
       "      <td>OT000405953</td>\n",
       "      <td>OM000506546</td>\n",
       "      <td>REMPLACEMENT D'UN ECLAIRAGE EXT</td>\n",
       "      <td>MECANIQUE</td>\n",
       "      <td>0.75</td>\n",
       "      <td>EQUIPEMENT ELECTRIQUE</td>\n",
       "      <td>ECLAIRAGE-SIGNALISATION</td>\n",
       "      <td>ECLAIRAGE-SIGNALISATION EXT</td>\n",
       "      <td>E00274690</td>\n",
       "      <td>2019-09-30 21:21:20</td>\n",
       "      <td>153050.080050</td>\n",
       "      <td>ECLAIRAGE FEUX EXTERIEURS</td>\n",
       "      <td>ARRIERE/LATERAL</td>\n",
       "      <td>CASSE</td>\n",
       "      <td>L0116</td>\n",
       "    </tr>\n",
       "    <tr>\n",
       "      <th>506555</th>\n",
       "      <td>OT000405954</td>\n",
       "      <td>OM000506536</td>\n",
       "      <td>REMPLACEMENT D'UN PASSE SANS CONTACT</td>\n",
       "      <td>EQUIPEMENT EMBARQUE</td>\n",
       "      <td>0.03</td>\n",
       "      <td>EQUIPEMENT EMBARQUE</td>\n",
       "      <td>TELEBILLETIQUE</td>\n",
       "      <td>PASSE SANS CONTACT</td>\n",
       "      <td>E00256452</td>\n",
       "      <td>2019-09-30 21:39:29</td>\n",
       "      <td>175063.182439</td>\n",
       "      <td>AVTT</td>\n",
       "      <td>AVANT/PORTE</td>\n",
       "      <td>INTERMITTENT</td>\n",
       "      <td>L0134</td>\n",
       "    </tr>\n",
       "    <tr>\n",
       "      <th>506556</th>\n",
       "      <td>OT000405955</td>\n",
       "      <td>OM000506545</td>\n",
       "      <td>REMPLACEMENT D'UNE LAMPE DE FEU DE GABARIT</td>\n",
       "      <td>ELECTRICITE</td>\n",
       "      <td>0.04</td>\n",
       "      <td>EQUIPEMENT ELECTRIQUE</td>\n",
       "      <td>ECLAIRAGE-SIGNALISATION</td>\n",
       "      <td>ECLAIRAGE-SIGNALISATION EXT</td>\n",
       "      <td>E00006122</td>\n",
       "      <td>2019-09-30 21:55:28</td>\n",
       "      <td>437053.614263</td>\n",
       "      <td>ECLAIRAGE FEUX EXTERIEURS</td>\n",
       "      <td>LATERAL/HAUT/GAUCHE</td>\n",
       "      <td>NE FONCTIONNE PAS</td>\n",
       "      <td>L0270</td>\n",
       "    </tr>\n",
       "    <tr>\n",
       "      <th>506557</th>\n",
       "      <td>OT000405956</td>\n",
       "      <td>OM000506547</td>\n",
       "      <td>REMPLACEMENT DE LA CASSETTE ENCREUSE D'UN VALI...</td>\n",
       "      <td>EQUIPEMENT EMBARQUE</td>\n",
       "      <td>0.03</td>\n",
       "      <td>EQUIPEMENT EMBARQUE</td>\n",
       "      <td>TELEBILLETIQUE</td>\n",
       "      <td>VALIDEUR MAGNETIQUE</td>\n",
       "      <td>E00315330</td>\n",
       "      <td>2019-09-30 23:43:42</td>\n",
       "      <td>83269.095630</td>\n",
       "      <td>AVTT</td>\n",
       "      <td>POSTE CONDUITE/AVANT</td>\n",
       "      <td>NE FONCTIONNE PAS</td>\n",
       "      <td>L0047</td>\n",
       "    </tr>\n",
       "  </tbody>\n",
       "</table>\n",
       "</div>"
      ],
      "text/plain": [
       "              OT_ID       ODR_ID   \n",
       "506553  OT000405952  OM000506539  \\\n",
       "506554  OT000405953  OM000506546   \n",
       "506555  OT000405954  OM000506536   \n",
       "506556  OT000405955  OM000506545   \n",
       "506557  OT000405956  OM000506547   \n",
       "\n",
       "                                              ODR_LIBELLE   \n",
       "506553                     REMPLACEMENT D'UN FEU DE RECUL  \\\n",
       "506554                    REMPLACEMENT D'UN ECLAIRAGE EXT   \n",
       "506555               REMPLACEMENT D'UN PASSE SANS CONTACT   \n",
       "506556         REMPLACEMENT D'UNE LAMPE DE FEU DE GABARIT   \n",
       "506557  REMPLACEMENT DE LA CASSETTE ENCREUSE D'UN VALI...   \n",
       "\n",
       "               TYPE_TRAVAIL  DUREE_TRAVAIL              SYSTEM_N1   \n",
       "506553          ELECTRICITE           0.04  EQUIPEMENT ELECTRIQUE  \\\n",
       "506554            MECANIQUE           0.75  EQUIPEMENT ELECTRIQUE   \n",
       "506555  EQUIPEMENT EMBARQUE           0.03    EQUIPEMENT EMBARQUE   \n",
       "506556          ELECTRICITE           0.04  EQUIPEMENT ELECTRIQUE   \n",
       "506557  EQUIPEMENT EMBARQUE           0.03    EQUIPEMENT EMBARQUE   \n",
       "\n",
       "                      SYSTEM_N2                    SYSTEM_N3     EQU_ID   \n",
       "506553  ECLAIRAGE-SIGNALISATION  ECLAIRAGE-SIGNALISATION EXT  E00040793  \\\n",
       "506554  ECLAIRAGE-SIGNALISATION  ECLAIRAGE-SIGNALISATION EXT  E00274690   \n",
       "506555           TELEBILLETIQUE           PASSE SANS CONTACT  E00256452   \n",
       "506556  ECLAIRAGE-SIGNALISATION  ECLAIRAGE-SIGNALISATION EXT  E00006122   \n",
       "506557           TELEBILLETIQUE          VALIDEUR MAGNETIQUE  E00315330   \n",
       "\n",
       "                    DATE_OT    KILOMETRAGE                 SIG_ORGANE   \n",
       "506553  2019-09-30 20:38:09  296005.373397  ECLAIRAGE FEUX EXTERIEURS  \\\n",
       "506554  2019-09-30 21:21:20  153050.080050  ECLAIRAGE FEUX EXTERIEURS   \n",
       "506555  2019-09-30 21:39:29  175063.182439                       AVTT   \n",
       "506556  2019-09-30 21:55:28  437053.614263  ECLAIRAGE FEUX EXTERIEURS   \n",
       "506557  2019-09-30 23:43:42   83269.095630                       AVTT   \n",
       "\n",
       "                   SIG_CONTEXTE            SIG_OBS  LIGNE  \n",
       "506553  ARRIERE/EXTERIEUR/DROIT              CASSE  L0283  \n",
       "506554          ARRIERE/LATERAL              CASSE  L0116  \n",
       "506555              AVANT/PORTE       INTERMITTENT  L0134  \n",
       "506556      LATERAL/HAUT/GAUCHE  NE FONCTIONNE PAS  L0270  \n",
       "506557     POSTE CONDUITE/AVANT  NE FONCTIONNE PAS  L0047  "
      ]
     },
     "execution_count": 36,
     "metadata": {},
     "output_type": "execute_result"
    }
   ],
   "source": [
    "ot_odr_df.tail()"
   ]
  },
  {
   "cell_type": "code",
   "execution_count": 37,
   "metadata": {},
   "outputs": [
    {
     "data": {
      "text/plain": [
       "SIG_ORGANE\n",
       "ECLAIRAGE FEUX EXTERIEURS    189559\n",
       "CLIGNOTANTS/ DETRESSE         38986\n",
       "PARE-CHOCS                    33191\n",
       "RETROVISEUR                   25005\n",
       "PORTE                         23043\n",
       "                              ...  \n",
       "TACHYGRAPHE                       2\n",
       "LUBRIMATIC                        1\n",
       "COLMATAGE.F.AIR                   1\n",
       "PILE BTSAM                        1\n",
       "ISSUE SEC.                        1\n",
       "Name: count, Length: 116, dtype: int64"
      ]
     },
     "execution_count": 37,
     "metadata": {},
     "output_type": "execute_result"
    }
   ],
   "source": [
    "ot_odr_df['SIG_ORGANE'].value_counts()"
   ]
  },
  {
   "cell_type": "code",
   "execution_count": 38,
   "metadata": {},
   "outputs": [
    {
     "name": "stdout",
     "output_type": "stream",
     "text": [
      "<class 'pandas.core.frame.DataFrame'>\n",
      "RangeIndex: 506558 entries, 0 to 506557\n",
      "Data columns (total 15 columns):\n",
      " #   Column         Non-Null Count   Dtype   \n",
      "---  ------         --------------   -----   \n",
      " 0   OT_ID          506558 non-null  object  \n",
      " 1   ODR_ID         506558 non-null  object  \n",
      " 2   ODR_LIBELLE    506558 non-null  category\n",
      " 3   TYPE_TRAVAIL   506558 non-null  category\n",
      " 4   DUREE_TRAVAIL  506558 non-null  float64 \n",
      " 5   SYSTEM_N1      506558 non-null  category\n",
      " 6   SYSTEM_N2      506558 non-null  category\n",
      " 7   SYSTEM_N3      506558 non-null  category\n",
      " 8   EQU_ID         506558 non-null  object  \n",
      " 9   DATE_OT        506558 non-null  object  \n",
      " 10  KILOMETRAGE    506557 non-null  float64 \n",
      " 11  SIG_ORGANE     506558 non-null  category\n",
      " 12  SIG_CONTEXTE   506558 non-null  category\n",
      " 13  SIG_OBS        506558 non-null  category\n",
      " 14  LIGNE          506558 non-null  category\n",
      "dtypes: category(9), float64(2), object(4)\n",
      "memory usage: 29.7+ MB\n"
     ]
    }
   ],
   "source": [
    "var_cat = ['ODR_LIBELLE', 'TYPE_TRAVAIL',\n",
    "           'SYSTEM_N1', 'SYSTEM_N2', 'SYSTEM_N3', \n",
    "           'SIG_ORGANE', 'SIG_CONTEXTE', 'SIG_OBS', 'LIGNE']\n",
    "for var in var_cat:\n",
    "    ot_odr_df[var] = ot_odr_df[var].astype('category')\n",
    "\n",
    "ot_odr_df.info()"
   ]
  },
  {
   "attachments": {},
   "cell_type": "markdown",
   "metadata": {},
   "source": [
    "### PyAgrum"
   ]
  },
  {
   "cell_type": "code",
   "execution_count": 39,
   "metadata": {},
   "outputs": [
    {
     "name": "stdout",
     "output_type": "stream",
     "text": [
      "Requirement already satisfied: pyAgrum in c:\\users\\jujo6\\appdata\\local\\packages\\pythonsoftwarefoundation.python.3.11_qbz5n2kfra8p0\\localcache\\local-packages\\python311\\site-packages (1.8.1)\n",
      "Requirement already satisfied: numpy in c:\\users\\jujo6\\appdata\\local\\packages\\pythonsoftwarefoundation.python.3.11_qbz5n2kfra8p0\\localcache\\local-packages\\python311\\site-packages (from pyAgrum) (1.24.3)\n",
      "Requirement already satisfied: matplotlib in c:\\users\\jujo6\\appdata\\local\\packages\\pythonsoftwarefoundation.python.3.11_qbz5n2kfra8p0\\localcache\\local-packages\\python311\\site-packages (from pyAgrum) (3.7.1)\n",
      "Requirement already satisfied: pydot in c:\\users\\jujo6\\appdata\\local\\packages\\pythonsoftwarefoundation.python.3.11_qbz5n2kfra8p0\\localcache\\local-packages\\python311\\site-packages (from pyAgrum) (1.4.2)\n",
      "Requirement already satisfied: contourpy>=1.0.1 in c:\\users\\jujo6\\appdata\\local\\packages\\pythonsoftwarefoundation.python.3.11_qbz5n2kfra8p0\\localcache\\local-packages\\python311\\site-packages (from matplotlib->pyAgrum) (1.0.7)\n",
      "Requirement already satisfied: cycler>=0.10 in c:\\users\\jujo6\\appdata\\local\\packages\\pythonsoftwarefoundation.python.3.11_qbz5n2kfra8p0\\localcache\\local-packages\\python311\\site-packages (from matplotlib->pyAgrum) (0.11.0)\n",
      "Requirement already satisfied: fonttools>=4.22.0 in c:\\users\\jujo6\\appdata\\local\\packages\\pythonsoftwarefoundation.python.3.11_qbz5n2kfra8p0\\localcache\\local-packages\\python311\\site-packages (from matplotlib->pyAgrum) (4.39.4)\n",
      "Requirement already satisfied: kiwisolver>=1.0.1 in c:\\users\\jujo6\\appdata\\local\\packages\\pythonsoftwarefoundation.python.3.11_qbz5n2kfra8p0\\localcache\\local-packages\\python311\\site-packages (from matplotlib->pyAgrum) (1.4.4)\n",
      "Requirement already satisfied: packaging>=20.0 in c:\\users\\jujo6\\appdata\\local\\packages\\pythonsoftwarefoundation.python.3.11_qbz5n2kfra8p0\\localcache\\local-packages\\python311\\site-packages (from matplotlib->pyAgrum) (23.1)\n",
      "Requirement already satisfied: pillow>=6.2.0 in c:\\users\\jujo6\\appdata\\local\\packages\\pythonsoftwarefoundation.python.3.11_qbz5n2kfra8p0\\localcache\\local-packages\\python311\\site-packages (from matplotlib->pyAgrum) (9.5.0)\n",
      "Requirement already satisfied: pyparsing>=2.3.1 in c:\\users\\jujo6\\appdata\\local\\packages\\pythonsoftwarefoundation.python.3.11_qbz5n2kfra8p0\\localcache\\local-packages\\python311\\site-packages (from matplotlib->pyAgrum) (3.0.9)\n",
      "Requirement already satisfied: python-dateutil>=2.7 in c:\\users\\jujo6\\appdata\\local\\packages\\pythonsoftwarefoundation.python.3.11_qbz5n2kfra8p0\\localcache\\local-packages\\python311\\site-packages (from matplotlib->pyAgrum) (2.8.2)\n",
      "Requirement already satisfied: six>=1.5 in c:\\users\\jujo6\\appdata\\local\\packages\\pythonsoftwarefoundation.python.3.11_qbz5n2kfra8p0\\localcache\\local-packages\\python311\\site-packages (from python-dateutil>=2.7->matplotlib->pyAgrum) (1.16.0)\n"
     ]
    }
   ],
   "source": [
    "!pip install pyAgrum\n",
    "import pyAgrum as gum\n",
    "\n",
    "rb_projet =  gum.BayesNet(\"Réseau bayésien\")"
   ]
  },
  {
   "attachments": {},
   "cell_type": "markdown",
   "metadata": {},
   "source": [
    "## Création du noeud de SIG_ORGANE"
   ]
  },
  {
   "cell_type": "code",
   "execution_count": 40,
   "metadata": {},
   "outputs": [],
   "source": [
    "\n",
    "SIG_ORGANE_ELEMENT = ot_odr_df['SIG_ORGANE'].value_counts()\n",
    "\n",
    "va_SIG_ORGANE = gum.LabelizedVariable(\"SIG_ORGANE\", \"SIG_ORGANE\", len(SIG_ORGANE_ELEMENT))\n",
    "\n",
    "i = 0\n",
    "for liste in ot_odr_df['SIG_ORGANE'].unique():\n",
    "    va_SIG_ORGANE.changeLabel(i,liste)\n",
    "    i += 1\n"
   ]
  },
  {
   "cell_type": "code",
   "execution_count": 41,
   "metadata": {},
   "outputs": [],
   "source": [
    "\n",
    "SIG_SYSTEM_N1 = ot_odr_df['SYSTEM_N1'].value_counts()\n",
    "\n",
    "va_SYSTEM_N1 = gum.LabelizedVariable(\"SYSTEM_N1\", \"SYSTEM_N1\", len(SIG_SYSTEM_N1))\n",
    "\n",
    "i = 0\n",
    "for liste in ot_odr_df['SYSTEM_N1'].unique():\n",
    "    va_SYSTEM_N1.changeLabel(i,liste)\n",
    "    i += 1\n"
   ]
  },
  {
   "cell_type": "code",
   "execution_count": 42,
   "metadata": {},
   "outputs": [],
   "source": [
    "for va in [va_SIG_ORGANE,va_SYSTEM_N1]:\n",
    "    rb_projet.add(va)"
   ]
  },
  {
   "cell_type": "code",
   "execution_count": 43,
   "metadata": {},
   "outputs": [],
   "source": [
    "rb_projet.addArc(\"SIG_ORGANE\",\"SYSTEM_N1\")"
   ]
  },
  {
   "attachments": {},
   "cell_type": "markdown",
   "metadata": {},
   "source": [
    "# Affichage"
   ]
  },
  {
   "cell_type": "code",
   "execution_count": 44,
   "metadata": {},
   "outputs": [
    {
     "data": {
      "image/png": "[encoded data removed]",
      "text/plain": [
       "<IPython.core.display.Image object>"
      ]
     },
     "metadata": {},
     "output_type": "display_data"
    }
   ],
   "source": [
    "import pyAgrum.lib.ipython as gnb\n",
    "\n",
    "gnb.showBN(rb_projet)"
   ]
  },
  {
   "attachments": {},
   "cell_type": "markdown",
   "metadata": {},
   "source": [
    "## Probabilité pour SIG_ORGANE"
   ]
  },
  {
   "cell_type": "code",
   "execution_count": 45,
   "metadata": {},
   "outputs": [],
   "source": [
    "def Create_Probabilite(df,element,all_element):\n",
    "    longueur_df = len(df)\n",
    "    count_element = []\n",
    "    for liste in all_element:\n",
    "        if liste in df[element].unique():\n",
    "            count_element.append(len(df.loc[df[element] == liste]) / longueur_df)\n",
    "        else:\n",
    "            count_element.append(0)\n",
    "    return count_element"
   ]
  },
  {
   "cell_type": "code",
   "execution_count": 46,
   "metadata": {},
   "outputs": [
    {
     "data": {
      "text/plain": [
       "(pyAgrum.Potential<double>@0000023292C15F40) \n",
       "  SIG_ORGANE                                                                                                                                                                                                                                                                                                                                                                                                                                                                                                                                                                                                                                                                                                                                                                                                                                                                                                                                                                                                                                                                                                                                                                                           |\n",
       "GLACE/BAI|KLAXON/GO|VOITURE  |PARE-CHOC|SECURITE |VOLANT   |ECLAIRAGE|PANNEAU  |GIROUETTE|PORTE    |BOUTON/ P|VOYANT AL|HABILLAGE|FREIN EXP|ESSUIE-GL|VOYANT AL|AIR      |CLIGNOTAN|MOTEUR   |LUNETTE-A|DEMANDE A|ROUE/PNEU|FEU ANTIB|ABS/ASR  |GIROUETTE|LAVE-GLAC|RETROVISE|ECLAIRAGE|RAMPE UFR|SELF-SERV|FREIN DE |COMMODO  |PORTILLON|ARTICULAT|ANNONCEUR|VIDEO-SUR|VENTILATI|BOITE VIT|PURGE POR|VOYANT DE|VOYANT IT|FEU CLIGN|EAU      |HUILE MOT|COMMANDE |SIEGE VOY|COMPTAGE |CAOU.JOIN|INFORMATI|BAGUETTE |FEU STOP |DIRECTION|CHAUFFAGE|AERATEURS|FREIN A P|FEU MARCH|TRAPPE GA|ARRET URG|BRUITEUR |PARE-BRIS|SUSPENSIO|POIGNEE  |DEMARRAGE|CARBURANT|PEDALE DE|ECHAPPEME|BARRE    |TEMOIN DI|FEU GABAR|ACCELERAT|TOIT     |PARE-SOLE|VIDEO POR|SIEGE MAC|ANNONCEUR|MANOMETRE|SOUFFLET |MICRO    |PUBLICITE|RALENTISS|PEDALE AC|TIROIR CA|COMPTEUR/|DEGIVRAGE|RADIO    |SYSTEME D|ARRET MOT|AVTT     |S A E I V|VITESSE  |BOITIER G|PUPITRE.I|RALENTI  |HUILE DIR|MARCHE AR|ALARME DI|MARTEAU B|EXTINCTEU|ACCOUDOIR|SELECTEUR|BOITIER P|SELECTEUR|COMBINE R|AUTO-RADI|PAPIER BU|DEPART AU|COLMATAGE|CLOCHE EC|LUBRIMATI|PARE-JAMB|VOYAGEUR |HAUT-PARL|SIGNALEME|PILE BTSA|ISSUE SEC|TACHYGRAP|\n",
       "---------|---------|---------|---------|---------|---------|---------|---------|---------|---------|---------|---------|---------|---------|---------|---------|---------|---------|---------|---------|---------|---------|---------|---------|---------|---------|---------|---------|---------|---------|---------|---------|---------|---------|---------|---------|---------|---------|---------|---------|---------|---------|---------|---------|---------|---------|---------|---------|---------|---------|---------|---------|---------|---------|---------|---------|---------|---------|---------|---------|---------|---------|---------|---------|---------|---------|---------|---------|---------|---------|---------|---------|---------|---------|---------|---------|---------|---------|---------|---------|---------|---------|---------|---------|---------|---------|---------|---------|---------|---------|---------|---------|---------|---------|---------|---------|---------|---------|---------|---------|---------|---------|---------|---------|---------|---------|---------|---------|---------|---------|---------|---------|---------|---------|---------|---------|\n",
       " 0.0024  | 0.0009  | 0.0169  | 0.0655  | 0.0008  | 0.0015  | 0.3742  | 0.0373  | 0.0029  | 0.0455  | 0.0139  | 0.0349  | 0.0013  | 0.0040  | 0.0100  | 0.0114  | 0.0224  | 0.0770  | 0.0077  | 0.0001  | 0.0136  | 0.0042  | 0.0003  | 0.0025  | 0.0034  | 0.0010  | 0.0494  | 0.0312  | 0.0031  | 0.0007  | 0.0032  | 0.0005  | 0.0042  | 0.0001  | 0.0009  | 0.0035  | 0.0050  | 0.0021  | 0.0008  | 0.0014  | 0.0008  | 0.0020  | 0.0088  | 0.0011  | 0.0004  | 0.0042  | 0.0003  | 0.0028  | 0.0004  | 0.0016  | 0.0051  | 0.0025  | 0.0187  | 0.0014  | 0.0035  | 0.0002  | 0.0007  | 0.0001  | 0.0003  | 0.0007  | 0.0189  | 0.0017  | 0.0011  | 0.0030  | 0.0004  | 0.0010  | 0.0004  | 0.0006  | 0.0020  | 0.0005  | 0.0003  | 0.0048  | 0.0019  | 0.0041  | 0.0016  | 0.0002  | 0.0002  | 0.0011  | 0.0004  | 0.0007  | 0.0001  | 0.0008  | 0.0004  | 0.0007  | 0.0040  | 0.0003  | 0.0006  | 0.0203  | 0.0017  | 0.0000  | 0.0001  | 0.0012  | 0.0001  | 0.0000  | 0.0001  | 0.0011  | 0.0046  | 0.0006  | 0.0000  | 0.0004  | 0.0002  | 0.0004  | 0.0000  | 0.0000  | 0.0000  | 0.0000  | 0.0000  | 0.0000  | 0.0000  | 0.0000  | 0.0000  | 0.0000  | 0.0000  | 0.0000  | 0.0000  | 0.0000  |"
      ]
     },
     "execution_count": 46,
     "metadata": {},
     "output_type": "execute_result"
    }
   ],
   "source": [
    "\n",
    "\n",
    "rb_projet.cpt(\"SIG_ORGANE\")[:] = Create_Probabilite(ot_odr_df,\"SIG_ORGANE\",ot_odr_df[\"SIG_ORGANE\"].unique())\n",
    "\n",
    "rb_projet.cpt(\"SIG_ORGANE\")\n"
   ]
  },
  {
   "attachments": {},
   "cell_type": "markdown",
   "metadata": {},
   "source": [
    "## Probabilité pour SYSTEM_N1"
   ]
  },
  {
   "cell_type": "code",
   "execution_count": 47,
   "metadata": {},
   "outputs": [
    {
     "data": {
      "text/plain": [
       "(pyAgrum.Potential<double>@00000232B5CFFB20) \n",
       "      ||  SYSTEM_N1                                                                                        |\n",
       "SIG_OR||EQUIPEMEN|EQUIPEMEN|EQUIPEMEN|EQUIPEMEN|EQUIPEMEN|EQUIPEMEN|EQUIPEMEN|EQUIPEMEN|EQUIPEMEN|DIVERS   |\n",
       "------||---------|---------|---------|---------|---------|---------|---------|---------|---------|---------|\n",
       "GLACE/|| 0.9122  | 0.0648  | 0.0090  | 0.0008  | 0.0057  | 0.0000  | 0.0025  | 0.0008  | 0.0041  | 0.0000  |\n",
       "KLAXON|| 0.1170  | 0.8578  | 0.0023  | 0.0000  | 0.0000  | 0.0069  | 0.0023  | 0.0000  | 0.0138  | 0.0000  |\n",
       "VOITUR|| 0.2984  | 0.1254  | 0.1062  | 0.0326  | 0.0268  | 0.0905  | 0.2126  | 0.0179  | 0.0893  | 0.0004  |\n",
       "PARE-C|| 0.7831  | 0.1978  | 0.0111  | 0.0004  | 0.0004  | 0.0002  | 0.0058  | 0.0002  | 0.0011  | 0.0000  |\n",
       "SECURI|| 0.7463  | 0.1915  | 0.0000  | 0.0323  | 0.0025  | 0.0075  | 0.0050  | 0.0050  | 0.0100  | 0.0000  |\n",
       "VOLANT|| 0.3020  | 0.0503  | 0.5361  | 0.0000  | 0.0041  | 0.0340  | 0.0122  | 0.0068  | 0.0544  | 0.0000  |\n",
       "[...104 more line(s) ...]\n",
       "VOYAGE|| 1.0000  | 0.0000  | 0.0000  | 0.0000  | 0.0000  | 0.0000  | 0.0000  | 0.0000  | 0.0000  | 0.0000  |\n",
       "HAUT-P|| 0.0000  | 0.0000  | 0.0000  | 1.0000  | 0.0000  | 0.0000  | 0.0000  | 0.0000  | 0.0000  | 0.0000  |\n",
       "SIGNAL|| 0.0000  | 0.0000  | 0.0556  | 0.0000  | 0.0000  | 0.7222  | 0.1667  | 0.0000  | 0.0556  | 0.0000  |\n",
       "PILE B|| 0.0000  | 0.0000  | 0.0000  | 1.0000  | 0.0000  | 0.0000  | 0.0000  | 0.0000  | 0.0000  | 0.0000  |\n",
       "ISSUE || 1.0000  | 0.0000  | 0.0000  | 0.0000  | 0.0000  | 0.0000  | 0.0000  | 0.0000  | 0.0000  | 0.0000  |\n",
       "TACHYG|| 0.0000  | 1.0000  | 0.0000  | 0.0000  | 0.0000  | 0.0000  | 0.0000  | 0.0000  | 0.0000  | 0.0000  |"
      ]
     },
     "execution_count": 47,
     "metadata": {},
     "output_type": "execute_result"
    }
   ],
   "source": [
    "for liste_SIG in ot_odr_df['SIG_ORGANE'].unique():\n",
    "    count_SYSTEM_N1 = []\n",
    "    ot_odf_SIG_ORANE = ot_odr_df.loc[ot_odr_df['SIG_ORGANE'] == liste_SIG]\n",
    "    rb_projet.cpt(\"SYSTEM_N1\")[{\"SIG_ORGANE\":liste_SIG}] = Create_Probabilite(ot_odf_SIG_ORANE,\"SYSTEM_N1\",ot_odr_df[\"SYSTEM_N1\"].unique())\n",
    "\n",
    "rb_projet.cpt(\"SYSTEM_N1\")"
   ]
  },
  {
   "cell_type": "code",
   "execution_count": 48,
   "metadata": {},
   "outputs": [
    {
     "data": {
      "text/html": [
       "<div>\n",
       "<style scoped>\n",
       "    .dataframe tbody tr th:only-of-type {\n",
       "        vertical-align: middle;\n",
       "    }\n",
       "\n",
       "    .dataframe tbody tr th {\n",
       "        vertical-align: top;\n",
       "    }\n",
       "\n",
       "    .dataframe thead th {\n",
       "        text-align: right;\n",
       "    }\n",
       "</style>\n",
       "<table border=\"1\" class=\"dataframe\">\n",
       "  <thead>\n",
       "    <tr style=\"text-align: right;\">\n",
       "      <th></th>\n",
       "      <th>OT_ID</th>\n",
       "      <th>ODR_ID</th>\n",
       "      <th>ODR_LIBELLE</th>\n",
       "      <th>TYPE_TRAVAIL</th>\n",
       "      <th>DUREE_TRAVAIL</th>\n",
       "      <th>SYSTEM_N1</th>\n",
       "      <th>SYSTEM_N2</th>\n",
       "      <th>SYSTEM_N3</th>\n",
       "      <th>EQU_ID</th>\n",
       "      <th>DATE_OT</th>\n",
       "      <th>KILOMETRAGE</th>\n",
       "      <th>SIG_ORGANE</th>\n",
       "      <th>SIG_CONTEXTE</th>\n",
       "      <th>SIG_OBS</th>\n",
       "      <th>LIGNE</th>\n",
       "    </tr>\n",
       "  </thead>\n",
       "  <tbody>\n",
       "    <tr>\n",
       "      <th>370118</th>\n",
       "      <td>OT000298752</td>\n",
       "      <td>OM000370745</td>\n",
       "      <td>REMPLACEMENT DU COMPTEUR DE VITESSE</td>\n",
       "      <td>ELECTRICITE</td>\n",
       "      <td>0.5</td>\n",
       "      <td>EQUIPEMENT ELECTRIQUE</td>\n",
       "      <td>INDICATEUR</td>\n",
       "      <td>INDICATEUR DE VITESSE</td>\n",
       "      <td>E00006076</td>\n",
       "      <td>2018-04-03 15:41:45</td>\n",
       "      <td>289549.415881</td>\n",
       "      <td>TACHYGRAPHE</td>\n",
       "      <td>TABLEAU DE BORD</td>\n",
       "      <td>INTERMITTENT</td>\n",
       "      <td>L0158</td>\n",
       "    </tr>\n",
       "    <tr>\n",
       "      <th>403241</th>\n",
       "      <td>OT000324747</td>\n",
       "      <td>OM000403053</td>\n",
       "      <td>REMPLACEMENT D'UN ECRAN LCD</td>\n",
       "      <td>MECANIQUE</td>\n",
       "      <td>2.0</td>\n",
       "      <td>EQUIPEMENT ELECTRIQUE</td>\n",
       "      <td>INDICATEUR</td>\n",
       "      <td>ORDINATEUR DE BORD</td>\n",
       "      <td>E00006179</td>\n",
       "      <td>2018-08-25 01:00:53</td>\n",
       "      <td>454669.743071</td>\n",
       "      <td>TACHYGRAPHE</td>\n",
       "      <td>TABLEAU DE BORD/CENTRE/CENTRALE/AVANT</td>\n",
       "      <td>FONCTIONNE MAL</td>\n",
       "      <td>L0212</td>\n",
       "    </tr>\n",
       "  </tbody>\n",
       "</table>\n",
       "</div>"
      ],
      "text/plain": [
       "              OT_ID       ODR_ID                          ODR_LIBELLE   \n",
       "370118  OT000298752  OM000370745  REMPLACEMENT DU COMPTEUR DE VITESSE  \\\n",
       "403241  OT000324747  OM000403053          REMPLACEMENT D'UN ECRAN LCD   \n",
       "\n",
       "       TYPE_TRAVAIL  DUREE_TRAVAIL              SYSTEM_N1   SYSTEM_N2   \n",
       "370118  ELECTRICITE            0.5  EQUIPEMENT ELECTRIQUE  INDICATEUR  \\\n",
       "403241    MECANIQUE            2.0  EQUIPEMENT ELECTRIQUE  INDICATEUR   \n",
       "\n",
       "                    SYSTEM_N3     EQU_ID              DATE_OT    KILOMETRAGE   \n",
       "370118  INDICATEUR DE VITESSE  E00006076  2018-04-03 15:41:45  289549.415881  \\\n",
       "403241     ORDINATEUR DE BORD  E00006179  2018-08-25 01:00:53  454669.743071   \n",
       "\n",
       "         SIG_ORGANE                           SIG_CONTEXTE         SIG_OBS   \n",
       "370118  TACHYGRAPHE                        TABLEAU DE BORD    INTERMITTENT  \\\n",
       "403241  TACHYGRAPHE  TABLEAU DE BORD/CENTRE/CENTRALE/AVANT  FONCTIONNE MAL   \n",
       "\n",
       "        LIGNE  \n",
       "370118  L0158  \n",
       "403241  L0212  "
      ]
     },
     "execution_count": 48,
     "metadata": {},
     "output_type": "execute_result"
    }
   ],
   "source": [
    "ot_odf_SIG_ORANE.tail()"
   ]
  }
 ],
 "metadata": {
  "kernelspec": {
   "display_name": "Python 3",
   "language": "python",
   "name": "python3"
  },
  "language_info": {
   "codemirror_mode": {
    "name": "ipython",
    "version": 3
   },
   "file_extension": ".py",
   "mimetype": "text/x-python",
   "name": "python",
   "nbconvert_exporter": "python",
   "pygments_lexer": "ipython3",
   "version": "3.11.3"
  },
  "orig_nbformat": 4
 },
 "nbformat": 4,
 "nbformat_minor": 2
}
