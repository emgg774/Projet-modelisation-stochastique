{
 "cells": [
  {
   "cell_type": "code",
   "execution_count": 49,
   "metadata": {},
   "outputs": [],
   "source": [
    "import pandas as pd\n",
    "import os\n",
    "\n",
    "ot_odr_filename = os.path.join(\".\", \"OT_ODR.csv.bz2\")\n",
    "ot_odr_df = pd.read_csv(ot_odr_filename, compression=\"bz2\", sep=\";\")\n",
    "longueur_ot_odr_df = len(ot_odr_df)\n",
    "\n",
    "equipements_filename = os.path.join(\".\", 'EQUIPEMENTS.csv')\n",
    "equipements_df = pd.read_csv(equipements_filename, sep=\";\")\n"
   ]
  },
  {
   "cell_type": "code",
   "execution_count": 50,
   "metadata": {},
   "outputs": [
    {
     "data": {
      "text/html": [
       "<div>\n",
       "<style scoped>\n",
       "    .dataframe tbody tr th:only-of-type {\n",
       "        vertical-align: middle;\n",
       "    }\n",
       "\n",
       "    .dataframe tbody tr th {\n",
       "        vertical-align: top;\n",
       "    }\n",
       "\n",
       "    .dataframe thead th {\n",
       "        text-align: right;\n",
       "    }\n",
       "</style>\n",
       "<table border=\"1\" class=\"dataframe\">\n",
       "  <thead>\n",
       "    <tr style=\"text-align: right;\">\n",
       "      <th></th>\n",
       "      <th>EQU_ID</th>\n",
       "      <th>MODELE</th>\n",
       "      <th>CONSTRUCTEUR</th>\n",
       "      <th>MOTEUR</th>\n",
       "    </tr>\n",
       "  </thead>\n",
       "  <tbody>\n",
       "    <tr>\n",
       "      <th>4882</th>\n",
       "      <td>E00271009</td>\n",
       "      <td>MD023</td>\n",
       "      <td>C007</td>\n",
       "      <td>MT021</td>\n",
       "    </tr>\n",
       "    <tr>\n",
       "      <th>4883</th>\n",
       "      <td>E00341892</td>\n",
       "      <td>MD063</td>\n",
       "      <td>C007</td>\n",
       "      <td>MT023</td>\n",
       "    </tr>\n",
       "    <tr>\n",
       "      <th>4884</th>\n",
       "      <td>E00331551</td>\n",
       "      <td>MD005</td>\n",
       "      <td>C000</td>\n",
       "      <td>MT040</td>\n",
       "    </tr>\n",
       "    <tr>\n",
       "      <th>4885</th>\n",
       "      <td>E00373890</td>\n",
       "      <td>MD021</td>\n",
       "      <td>C011</td>\n",
       "      <td>MT0-1</td>\n",
       "    </tr>\n",
       "    <tr>\n",
       "      <th>4886</th>\n",
       "      <td>E00365136</td>\n",
       "      <td>MD032</td>\n",
       "      <td>C006</td>\n",
       "      <td>MT016</td>\n",
       "    </tr>\n",
       "  </tbody>\n",
       "</table>\n",
       "</div>"
      ],
      "text/plain": [
       "         EQU_ID MODELE CONSTRUCTEUR MOTEUR\n",
       "4882  E00271009  MD023         C007  MT021\n",
       "4883  E00341892  MD063         C007  MT023\n",
       "4884  E00331551  MD005         C000  MT040\n",
       "4885  E00373890  MD021         C011  MT0-1\n",
       "4886  E00365136  MD032         C006  MT016"
      ]
     },
     "execution_count": 50,
     "metadata": {},
     "output_type": "execute_result"
    }
   ],
   "source": [
    "equipements_df.tail()\n"
   ]
  },
  {
   "cell_type": "code",
   "execution_count": 51,
   "metadata": {},
   "outputs": [
    {
     "data": {
      "text/html": [
       "<div>\n",
       "<style scoped>\n",
       "    .dataframe tbody tr th:only-of-type {\n",
       "        vertical-align: middle;\n",
       "    }\n",
       "\n",
       "    .dataframe tbody tr th {\n",
       "        vertical-align: top;\n",
       "    }\n",
       "\n",
       "    .dataframe thead th {\n",
       "        text-align: right;\n",
       "    }\n",
       "</style>\n",
       "<table border=\"1\" class=\"dataframe\">\n",
       "  <thead>\n",
       "    <tr style=\"text-align: right;\">\n",
       "      <th></th>\n",
       "      <th>OT_ID</th>\n",
       "      <th>ODR_ID</th>\n",
       "      <th>ODR_LIBELLE</th>\n",
       "      <th>TYPE_TRAVAIL</th>\n",
       "      <th>DUREE_TRAVAIL</th>\n",
       "      <th>SYSTEM_N1</th>\n",
       "      <th>SYSTEM_N2</th>\n",
       "      <th>SYSTEM_N3</th>\n",
       "      <th>EQU_ID</th>\n",
       "      <th>DATE_OT</th>\n",
       "      <th>KILOMETRAGE</th>\n",
       "      <th>SIG_ORGANE</th>\n",
       "      <th>SIG_CONTEXTE</th>\n",
       "      <th>SIG_OBS</th>\n",
       "      <th>LIGNE</th>\n",
       "    </tr>\n",
       "  </thead>\n",
       "  <tbody>\n",
       "    <tr>\n",
       "      <th>506553</th>\n",
       "      <td>OT000405952</td>\n",
       "      <td>OM000506539</td>\n",
       "      <td>REMPLACEMENT D'UN FEU DE RECUL</td>\n",
       "      <td>ELECTRICITE</td>\n",
       "      <td>0.04</td>\n",
       "      <td>EQUIPEMENT ELECTRIQUE</td>\n",
       "      <td>ECLAIRAGE-SIGNALISATION</td>\n",
       "      <td>ECLAIRAGE-SIGNALISATION EXT</td>\n",
       "      <td>E00040793</td>\n",
       "      <td>2019-09-30 20:38:09</td>\n",
       "      <td>296005.373397</td>\n",
       "      <td>ECLAIRAGE FEUX EXTERIEURS</td>\n",
       "      <td>ARRIERE/EXTERIEUR/DROIT</td>\n",
       "      <td>CASSE</td>\n",
       "      <td>L0283</td>\n",
       "    </tr>\n",
       "    <tr>\n",
       "      <th>506554</th>\n",
       "      <td>OT000405953</td>\n",
       "      <td>OM000506546</td>\n",
       "      <td>REMPLACEMENT D'UN ECLAIRAGE EXT</td>\n",
       "      <td>MECANIQUE</td>\n",
       "      <td>0.75</td>\n",
       "      <td>EQUIPEMENT ELECTRIQUE</td>\n",
       "      <td>ECLAIRAGE-SIGNALISATION</td>\n",
       "      <td>ECLAIRAGE-SIGNALISATION EXT</td>\n",
       "      <td>E00274690</td>\n",
       "      <td>2019-09-30 21:21:20</td>\n",
       "      <td>153050.080050</td>\n",
       "      <td>ECLAIRAGE FEUX EXTERIEURS</td>\n",
       "      <td>ARRIERE/LATERAL</td>\n",
       "      <td>CASSE</td>\n",
       "      <td>L0116</td>\n",
       "    </tr>\n",
       "    <tr>\n",
       "      <th>506555</th>\n",
       "      <td>OT000405954</td>\n",
       "      <td>OM000506536</td>\n",
       "      <td>REMPLACEMENT D'UN PASSE SANS CONTACT</td>\n",
       "      <td>EQUIPEMENT EMBARQUE</td>\n",
       "      <td>0.03</td>\n",
       "      <td>EQUIPEMENT EMBARQUE</td>\n",
       "      <td>TELEBILLETIQUE</td>\n",
       "      <td>PASSE SANS CONTACT</td>\n",
       "      <td>E00256452</td>\n",
       "      <td>2019-09-30 21:39:29</td>\n",
       "      <td>175063.182439</td>\n",
       "      <td>AVTT</td>\n",
       "      <td>AVANT/PORTE</td>\n",
       "      <td>INTERMITTENT</td>\n",
       "      <td>L0134</td>\n",
       "    </tr>\n",
       "    <tr>\n",
       "      <th>506556</th>\n",
       "      <td>OT000405955</td>\n",
       "      <td>OM000506545</td>\n",
       "      <td>REMPLACEMENT D'UNE LAMPE DE FEU DE GABARIT</td>\n",
       "      <td>ELECTRICITE</td>\n",
       "      <td>0.04</td>\n",
       "      <td>EQUIPEMENT ELECTRIQUE</td>\n",
       "      <td>ECLAIRAGE-SIGNALISATION</td>\n",
       "      <td>ECLAIRAGE-SIGNALISATION EXT</td>\n",
       "      <td>E00006122</td>\n",
       "      <td>2019-09-30 21:55:28</td>\n",
       "      <td>437053.614263</td>\n",
       "      <td>ECLAIRAGE FEUX EXTERIEURS</td>\n",
       "      <td>LATERAL/HAUT/GAUCHE</td>\n",
       "      <td>NE FONCTIONNE PAS</td>\n",
       "      <td>L0270</td>\n",
       "    </tr>\n",
       "    <tr>\n",
       "      <th>506557</th>\n",
       "      <td>OT000405956</td>\n",
       "      <td>OM000506547</td>\n",
       "      <td>REMPLACEMENT DE LA CASSETTE ENCREUSE D'UN VALI...</td>\n",
       "      <td>EQUIPEMENT EMBARQUE</td>\n",
       "      <td>0.03</td>\n",
       "      <td>EQUIPEMENT EMBARQUE</td>\n",
       "      <td>TELEBILLETIQUE</td>\n",
       "      <td>VALIDEUR MAGNETIQUE</td>\n",
       "      <td>E00315330</td>\n",
       "      <td>2019-09-30 23:43:42</td>\n",
       "      <td>83269.095630</td>\n",
       "      <td>AVTT</td>\n",
       "      <td>POSTE CONDUITE/AVANT</td>\n",
       "      <td>NE FONCTIONNE PAS</td>\n",
       "      <td>L0047</td>\n",
       "    </tr>\n",
       "  </tbody>\n",
       "</table>\n",
       "</div>"
      ],
      "text/plain": [
       "              OT_ID       ODR_ID  \\\n",
       "506553  OT000405952  OM000506539   \n",
       "506554  OT000405953  OM000506546   \n",
       "506555  OT000405954  OM000506536   \n",
       "506556  OT000405955  OM000506545   \n",
       "506557  OT000405956  OM000506547   \n",
       "\n",
       "                                              ODR_LIBELLE  \\\n",
       "506553                     REMPLACEMENT D'UN FEU DE RECUL   \n",
       "506554                    REMPLACEMENT D'UN ECLAIRAGE EXT   \n",
       "506555               REMPLACEMENT D'UN PASSE SANS CONTACT   \n",
       "506556         REMPLACEMENT D'UNE LAMPE DE FEU DE GABARIT   \n",
       "506557  REMPLACEMENT DE LA CASSETTE ENCREUSE D'UN VALI...   \n",
       "\n",
       "               TYPE_TRAVAIL  DUREE_TRAVAIL              SYSTEM_N1  \\\n",
       "506553          ELECTRICITE           0.04  EQUIPEMENT ELECTRIQUE   \n",
       "506554            MECANIQUE           0.75  EQUIPEMENT ELECTRIQUE   \n",
       "506555  EQUIPEMENT EMBARQUE           0.03    EQUIPEMENT EMBARQUE   \n",
       "506556          ELECTRICITE           0.04  EQUIPEMENT ELECTRIQUE   \n",
       "506557  EQUIPEMENT EMBARQUE           0.03    EQUIPEMENT EMBARQUE   \n",
       "\n",
       "                      SYSTEM_N2                    SYSTEM_N3     EQU_ID  \\\n",
       "506553  ECLAIRAGE-SIGNALISATION  ECLAIRAGE-SIGNALISATION EXT  E00040793   \n",
       "506554  ECLAIRAGE-SIGNALISATION  ECLAIRAGE-SIGNALISATION EXT  E00274690   \n",
       "506555           TELEBILLETIQUE           PASSE SANS CONTACT  E00256452   \n",
       "506556  ECLAIRAGE-SIGNALISATION  ECLAIRAGE-SIGNALISATION EXT  E00006122   \n",
       "506557           TELEBILLETIQUE          VALIDEUR MAGNETIQUE  E00315330   \n",
       "\n",
       "                    DATE_OT    KILOMETRAGE                 SIG_ORGANE  \\\n",
       "506553  2019-09-30 20:38:09  296005.373397  ECLAIRAGE FEUX EXTERIEURS   \n",
       "506554  2019-09-30 21:21:20  153050.080050  ECLAIRAGE FEUX EXTERIEURS   \n",
       "506555  2019-09-30 21:39:29  175063.182439                       AVTT   \n",
       "506556  2019-09-30 21:55:28  437053.614263  ECLAIRAGE FEUX EXTERIEURS   \n",
       "506557  2019-09-30 23:43:42   83269.095630                       AVTT   \n",
       "\n",
       "                   SIG_CONTEXTE            SIG_OBS  LIGNE  \n",
       "506553  ARRIERE/EXTERIEUR/DROIT              CASSE  L0283  \n",
       "506554          ARRIERE/LATERAL              CASSE  L0116  \n",
       "506555              AVANT/PORTE       INTERMITTENT  L0134  \n",
       "506556      LATERAL/HAUT/GAUCHE  NE FONCTIONNE PAS  L0270  \n",
       "506557     POSTE CONDUITE/AVANT  NE FONCTIONNE PAS  L0047  "
      ]
     },
     "execution_count": 51,
     "metadata": {},
     "output_type": "execute_result"
    }
   ],
   "source": [
    "ot_odr_df.tail()"
   ]
  },
  {
   "attachments": {},
   "cell_type": "markdown",
   "metadata": {},
   "source": [
    "# Normaliser le texte"
   ]
  },
  {
   "attachments": {},
   "cell_type": "markdown",
   "metadata": {},
   "source": [
    "### Supprimer les caractères spéciaux"
   ]
  },
  {
   "cell_type": "code",
   "execution_count": 52,
   "metadata": {},
   "outputs": [],
   "source": [
    "import unicodedata\n",
    "\n",
    "def Replace_accents(word):\n",
    "    try:\n",
    "        word = unicodedata.normalize('NFD', word).encode('ascii', 'ignore').decode('utf-8')\n",
    "    except:\n",
    "        pass\n",
    "    return word\n",
    "\n",
    "\n",
    "def Delete_special_caractere(word):\n",
    "    word = Replace_accents(word)\n",
    "    try:\n",
    "        word = word.replace('\\\\', '_').replace('/', '_').replace('-', '_').replace(\"'\", ' ').replace('\"', ' ').replace('`', ' ').replace('!', ' ').replace('@', ' ').replace('#', ' ').replace('$', ' ').replace('%', ' ').replace('^', ' ').replace('&', ' ').replace('*', ' ').replace('(', ' ').replace(')', ' ').replace('[', ' ').replace(']', ' ').replace('{', ' ').replace('}', ' ').replace('<', ' ').replace('>', ' ').replace('~', ' ').replace(':', ' ').replace(';', ' ').replace('.', ' ').replace(',', ' ').replace('?', ' ').replace('+', ' ').replace('=', ' ').replace('|', ' ').replace('\\\\', ' ').replace('\\n', ' ').replace('\\r', ' ')\n",
    "    except:\n",
    "        pass\n",
    "    return word\n"
   ]
  },
  {
   "cell_type": "code",
   "execution_count": 53,
   "metadata": {},
   "outputs": [
    {
     "data": {
      "text/plain": [
       "SIG_ORGANE\n",
       "ECLAIRAGE FEUX EXTERIEURS    189559\n",
       "CLIGNOTANTS/ DETRESSE         38986\n",
       "PARE-CHOCS                    33191\n",
       "RETROVISEUR                   25005\n",
       "PORTE                         23043\n",
       "                              ...  \n",
       "TACHYGRAPHE                       2\n",
       "LUBRIMATIC                        1\n",
       "COLMATAGE.F.AIR                   1\n",
       "PILE BTSAM                        1\n",
       "ISSUE SEC.                        1\n",
       "Name: count, Length: 116, dtype: int64"
      ]
     },
     "execution_count": 53,
     "metadata": {},
     "output_type": "execute_result"
    }
   ],
   "source": [
    "ot_odr_df['SIG_ORGANE'].value_counts()"
   ]
  },
  {
   "cell_type": "code",
   "execution_count": 54,
   "metadata": {},
   "outputs": [
    {
     "name": "stdout",
     "output_type": "stream",
     "text": [
      "<class 'pandas.core.frame.DataFrame'>\n",
      "RangeIndex: 506558 entries, 0 to 506557\n",
      "Data columns (total 15 columns):\n",
      " #   Column         Non-Null Count   Dtype   \n",
      "---  ------         --------------   -----   \n",
      " 0   OT_ID          506558 non-null  object  \n",
      " 1   ODR_ID         506558 non-null  object  \n",
      " 2   ODR_LIBELLE    506558 non-null  category\n",
      " 3   TYPE_TRAVAIL   506558 non-null  category\n",
      " 4   DUREE_TRAVAIL  506558 non-null  float64 \n",
      " 5   SYSTEM_N1      506558 non-null  category\n",
      " 6   SYSTEM_N2      506558 non-null  category\n",
      " 7   SYSTEM_N3      506558 non-null  category\n",
      " 8   EQU_ID         506558 non-null  object  \n",
      " 9   DATE_OT        506558 non-null  object  \n",
      " 10  KILOMETRAGE    506557 non-null  float64 \n",
      " 11  SIG_ORGANE     506558 non-null  category\n",
      " 12  SIG_CONTEXTE   506558 non-null  category\n",
      " 13  SIG_OBS        506558 non-null  category\n",
      " 14  LIGNE          506558 non-null  category\n",
      "dtypes: category(9), float64(2), object(4)\n",
      "memory usage: 29.7+ MB\n"
     ]
    }
   ],
   "source": [
    "var_cat = ['ODR_LIBELLE', 'TYPE_TRAVAIL',\n",
    "           'SYSTEM_N1', 'SYSTEM_N2', 'SYSTEM_N3', \n",
    "           'SIG_ORGANE', 'SIG_CONTEXTE', 'SIG_OBS', 'LIGNE']\n",
    "for var in var_cat:\n",
    "    ot_odr_df[var] = ot_odr_df[var].astype('category')\n",
    "\n",
    "ot_odr_df.info()"
   ]
  },
  {
   "attachments": {},
   "cell_type": "markdown",
   "metadata": {},
   "source": [
    "### PyAgrum"
   ]
  },
  {
   "cell_type": "code",
   "execution_count": 55,
   "metadata": {},
   "outputs": [
    {
     "name": "stdout",
     "output_type": "stream",
     "text": [
      "Requirement already satisfied: pyAgrum in c:\\users\\jujo6\\appdata\\local\\programs\\python\\python311\\lib\\site-packages (1.8.2)\n",
      "Requirement already satisfied: numpy in c:\\users\\jujo6\\appdata\\local\\programs\\python\\python311\\lib\\site-packages (from pyAgrum) (1.23.5)\n",
      "Requirement already satisfied: matplotlib in c:\\users\\jujo6\\appdata\\local\\programs\\python\\python311\\lib\\site-packages (from pyAgrum) (3.7.1)\n",
      "Requirement already satisfied: pydot in c:\\users\\jujo6\\appdata\\local\\programs\\python\\python311\\lib\\site-packages (from pyAgrum) (1.4.2)\n",
      "Requirement already satisfied: contourpy>=1.0.1 in c:\\users\\jujo6\\appdata\\local\\programs\\python\\python311\\lib\\site-packages (from matplotlib->pyAgrum) (1.0.7)\n",
      "Requirement already satisfied: cycler>=0.10 in c:\\users\\jujo6\\appdata\\local\\programs\\python\\python311\\lib\\site-packages (from matplotlib->pyAgrum) (0.11.0)\n",
      "Requirement already satisfied: fonttools>=4.22.0 in c:\\users\\jujo6\\appdata\\local\\programs\\python\\python311\\lib\\site-packages (from matplotlib->pyAgrum) (4.39.4)\n",
      "Requirement already satisfied: kiwisolver>=1.0.1 in c:\\users\\jujo6\\appdata\\local\\programs\\python\\python311\\lib\\site-packages (from matplotlib->pyAgrum) (1.4.4)\n",
      "Requirement already satisfied: packaging>=20.0 in c:\\users\\jujo6\\appdata\\local\\programs\\python\\python311\\lib\\site-packages (from matplotlib->pyAgrum) (23.1)\n",
      "Requirement already satisfied: pillow>=6.2.0 in c:\\users\\jujo6\\appdata\\local\\programs\\python\\python311\\lib\\site-packages (from matplotlib->pyAgrum) (9.5.0)\n",
      "Requirement already satisfied: pyparsing>=2.3.1 in c:\\users\\jujo6\\appdata\\local\\programs\\python\\python311\\lib\\site-packages (from matplotlib->pyAgrum) (3.0.9)\n",
      "Requirement already satisfied: python-dateutil>=2.7 in c:\\users\\jujo6\\appdata\\local\\programs\\python\\python311\\lib\\site-packages (from matplotlib->pyAgrum) (2.8.2)\n",
      "Requirement already satisfied: six>=1.5 in c:\\users\\jujo6\\appdata\\local\\programs\\python\\python311\\lib\\site-packages (from python-dateutil>=2.7->matplotlib->pyAgrum) (1.16.0)\n"
     ]
    },
    {
     "name": "stderr",
     "output_type": "stream",
     "text": [
      "\n",
      "[notice] A new release of pip available: 22.3.1 -> 23.1.2\n",
      "[notice] To update, run: python.exe -m pip install --upgrade pip\n"
     ]
    }
   ],
   "source": [
    "!pip install pyAgrum\n",
    "import pyAgrum as gum\n",
    "\n",
    "rb_projet =  gum.BayesNet(\"Projet\")"
   ]
  },
  {
   "attachments": {},
   "cell_type": "markdown",
   "metadata": {},
   "source": [
    "# Creation du réseau"
   ]
  },
  {
   "cell_type": "code",
   "execution_count": 56,
   "metadata": {},
   "outputs": [],
   "source": [
    "def Create_noeud(nom_du_noeud, ot_odr_df):\n",
    "    Nombre_element = ot_odr_df[nom_du_noeud].value_counts()\n",
    "    va = gum.LabelizedVariable(nom_du_noeud, nom_du_noeud, len(Nombre_element))\n",
    "    i = 0\n",
    "    for liste in ot_odr_df[nom_du_noeud].unique():\n",
    "        liste = Delete_special_caractere(liste)\n",
    "        try:\n",
    "            va.changeLabel(i, str(liste))\n",
    "        except gum.DuplicateElement as e:\n",
    "            i -= 1\n",
    "            print(f\"Erreur de duplication dans le noeud '{nom_du_noeud}' pour la valeur : {liste}\")\n",
    "        i += 1\n",
    "    return va"
   ]
  },
  {
   "attachments": {},
   "cell_type": "markdown",
   "metadata": {},
   "source": [
    "## Création des noeud"
   ]
  },
  {
   "attachments": {},
   "cell_type": "markdown",
   "metadata": {},
   "source": [
    "### Création du noeud de SIG_ORGANE"
   ]
  },
  {
   "cell_type": "code",
   "execution_count": 57,
   "metadata": {},
   "outputs": [],
   "source": [
    "va_SIG_ORGANE = Create_noeud('SIG_ORGANE',ot_odr_df)\n"
   ]
  },
  {
   "attachments": {},
   "cell_type": "markdown",
   "metadata": {},
   "source": [
    "### Création du noeud de SIG_OBS"
   ]
  },
  {
   "cell_type": "code",
   "execution_count": 58,
   "metadata": {},
   "outputs": [],
   "source": [
    "va_SIG_OBS = Create_noeud('SIG_OBS',ot_odr_df)\n"
   ]
  },
  {
   "attachments": {},
   "cell_type": "markdown",
   "metadata": {},
   "source": [
    "### Création du noeud de LIGNE"
   ]
  },
  {
   "cell_type": "code",
   "execution_count": 59,
   "metadata": {},
   "outputs": [],
   "source": [
    "va_LIGNE = Create_noeud('LIGNE',ot_odr_df)\n"
   ]
  },
  {
   "attachments": {},
   "cell_type": "markdown",
   "metadata": {},
   "source": [
    "### Création du noeud de SIG_CONTEXTE"
   ]
  },
  {
   "cell_type": "code",
   "execution_count": 60,
   "metadata": {},
   "outputs": [],
   "source": [
    "va_SIG_CONTEXTE = Create_noeud('SIG_CONTEXTE',ot_odr_df)\n"
   ]
  },
  {
   "attachments": {},
   "cell_type": "markdown",
   "metadata": {},
   "source": [
    "### Création du noeud de SYSTEM_N1"
   ]
  },
  {
   "cell_type": "code",
   "execution_count": 61,
   "metadata": {},
   "outputs": [],
   "source": [
    "va_SYSTEM_N1 = Create_noeud('SYSTEM_N1',ot_odr_df)"
   ]
  },
  {
   "attachments": {},
   "cell_type": "markdown",
   "metadata": {},
   "source": [
    "### Création du noeud de SYSTEM_N2"
   ]
  },
  {
   "cell_type": "code",
   "execution_count": 62,
   "metadata": {},
   "outputs": [],
   "source": [
    "va_SYSTEM_N2 = Create_noeud('SYSTEM_N2',ot_odr_df)"
   ]
  },
  {
   "attachments": {},
   "cell_type": "markdown",
   "metadata": {},
   "source": [
    "### Création du noeud de SYSTEM_N3"
   ]
  },
  {
   "cell_type": "code",
   "execution_count": 63,
   "metadata": {},
   "outputs": [],
   "source": [
    "va_SYSTEM_N3 = Create_noeud('SYSTEM_N3',ot_odr_df)"
   ]
  },
  {
   "attachments": {},
   "cell_type": "markdown",
   "metadata": {},
   "source": [
    "### Création du noeud de TYPE_TRAVAIL"
   ]
  },
  {
   "cell_type": "code",
   "execution_count": 64,
   "metadata": {},
   "outputs": [],
   "source": [
    "va_TYPE_TRAVAIL = Create_noeud('TYPE_TRAVAIL',ot_odr_df)"
   ]
  },
  {
   "attachments": {},
   "cell_type": "markdown",
   "metadata": {},
   "source": [
    "### Création du noeud de DUREE_TRAVAIL"
   ]
  },
  {
   "cell_type": "code",
   "execution_count": 65,
   "metadata": {},
   "outputs": [],
   "source": [
    "va_DUREE_TRAVAIL = Create_noeud('DUREE_TRAVAIL',ot_odr_df)"
   ]
  },
  {
   "attachments": {},
   "cell_type": "markdown",
   "metadata": {},
   "source": [
    "### Création du noeud de ODR_LIBELLE"
   ]
  },
  {
   "cell_type": "code",
   "execution_count": 66,
   "metadata": {},
   "outputs": [
    {
     "name": "stdout",
     "output_type": "stream",
     "text": [
      "Erreur de duplication dans le noeud 'ODR_LIBELLE' pour la valeur : REMPLACEMENT D UNE GIROUETTE GRAPHIQUE LATERALE AV\n"
     ]
    }
   ],
   "source": [
    "va_ODR_LIBELLE = Create_noeud('ODR_LIBELLE',ot_odr_df)"
   ]
  },
  {
   "attachments": {},
   "cell_type": "markdown",
   "metadata": {},
   "source": [
    "### Ajout des noeuds"
   ]
  },
  {
   "cell_type": "code",
   "execution_count": 67,
   "metadata": {},
   "outputs": [],
   "source": [
    "for va in [va_SIG_ORGANE,va_SYSTEM_N1,va_SYSTEM_N2,va_SYSTEM_N3,va_TYPE_TRAVAIL,va_DUREE_TRAVAIL,va_ODR_LIBELLE,va_SIG_OBS,va_LIGNE,va_SIG_CONTEXTE]:\n",
    "    rb_projet.add(va)"
   ]
  },
  {
   "attachments": {},
   "cell_type": "markdown",
   "metadata": {},
   "source": [
    "## Création des fixations"
   ]
  },
  {
   "cell_type": "code",
   "execution_count": 68,
   "metadata": {},
   "outputs": [],
   "source": [
    "rb_projet.addArc(\"SIG_ORGANE\",\"SYSTEM_N1\")\n",
    "rb_projet.addArc(\"SIG_OBS\",\"SYSTEM_N1\")\n",
    "\n",
    "rb_projet.addArc(\"SYSTEM_N1\",\"SYSTEM_N2\")\n",
    "rb_projet.addArc(\"SYSTEM_N2\",\"SYSTEM_N3\")\n",
    "\n",
    "rb_projet.addArc(\"SYSTEM_N3\",\"ODR_LIBELLE\")\n",
    "rb_projet.addArc(\"SYSTEM_N2\",\"ODR_LIBELLE\")\n",
    "rb_projet.addArc(\"SYSTEM_N1\",\"ODR_LIBELLE\")\n",
    "\n",
    "\n",
    "rb_projet.addArc(\"ODR_LIBELLE\",\"DUREE_TRAVAIL\")\n",
    "rb_projet.addArc(\"ODR_LIBELLE\",\"TYPE_TRAVAIL\")\n",
    "\n"
   ]
  },
  {
   "attachments": {},
   "cell_type": "markdown",
   "metadata": {},
   "source": [
    "# Affichage"
   ]
  },
  {
   "cell_type": "code",
   "execution_count": 69,
   "metadata": {},
   "outputs": [
    {
     "data": {
      "image/png": "[encoded data removed]",
      "text/plain": [
       "<IPython.core.display.Image object>"
      ]
     },
     "metadata": {},
     "output_type": "display_data"
    }
   ],
   "source": [
    "import pyAgrum.lib.ipython as gnb # \n",
    "\n",
    "gnb.showBN(rb_projet)"
   ]
  },
  {
   "attachments": {},
   "cell_type": "markdown",
   "metadata": {},
   "source": [
    "# Calcul des probabilite"
   ]
  },
  {
   "cell_type": "code",
   "execution_count": 70,
   "metadata": {},
   "outputs": [],
   "source": [
    "def Create_Probabilite(df,element,all_element):\n",
    "    longueur_df = len(df)\n",
    "    count_element = []\n",
    "    for liste in all_element:\n",
    "        if liste in df[element].unique():\n",
    "            count_element.append(len(df.loc[df[element] == liste]) / longueur_df)\n",
    "        else: # On met un 0 si le champ n'est pas remplit, si la probabilité n'existe pas\n",
    "            count_element.append(0)\n",
    "    return count_element"
   ]
  },
  {
   "attachments": {},
   "cell_type": "markdown",
   "metadata": {},
   "source": [
    "### Calcul des probabilité de SIG_ORGANE"
   ]
  },
  {
   "cell_type": "code",
   "execution_count": 71,
   "metadata": {},
   "outputs": [
    {
     "data": {
      "text/plain": [
       "(pyAgrum.Potential<double>@0000017030A44720) \n",
       "  SIG_ORGANE                                                                                                                                                                                                                                                                                                                                                                                                                                                                                                                                                                                                                                                                                                                                                                                                                                                                                                                                                                                                                                                                                                                                                                                           |\n",
       "GLACE_BAI|KLAXON_GO|VOITURE  |PARE_CHOC|SECURITE |VOLANT   |ECLAIRAGE|PANNEAU  |GIROUETTE|PORTE    |BOUTON_ P|VOYANT AL|HABILLAGE|FREIN EXP|ESSUIE_GL|VOYANT AL|AIR      |CLIGNOTAN|MOTEUR   |LUNETTE_A|DEMANDE A|ROUE_PNEU|FEU ANTIB|ABS_ASR  |GIROUETTE|LAVE_GLAC|RETROVISE|ECLAIRAGE|RAMPE UFR|SELF_SERV|FREIN DE |COMMODO  |PORTILLON|ARTICULAT|ANNONCEUR|VIDEO_SUR|VENTILATI|BOITE VIT|PURGE POR|VOYANT DE|VOYANT IT|FEU CLIGN|EAU      |HUILE MOT|COMMANDE |SIEGE VOY|COMPTAGE |CAOU JOIN|INFORMATI|BAGUETTE |FEU STOP |DIRECTION|CHAUFFAGE|AERATEURS|FREIN A P|FEU MARCH|TRAPPE GA|ARRET URG|BRUITEUR |PARE_BRIS|SUSPENSIO|POIGNEE  |DEMARRAGE|CARBURANT|PEDALE DE|ECHAPPEME|BARRE    |TEMOIN DI|FEU GABAR|ACCELERAT|TOIT     |PARE_SOLE|VIDEO POR|SIEGE MAC|ANNONCEUR|MANOMETRE|SOUFFLET |MICRO    |PUBLICITE|RALENTISS|PEDALE AC|TIROIR CA|COMPTEUR_|DEGIVRAGE|RADIO    |SYSTEME D|ARRET MOT|AVTT     |S A E I V|VITESSE  |BOITIER G|PUPITRE I|RALENTI  |HUILE DIR|MARCHE AR|ALARME DI|MARTEAU B|EXTINCTEU|ACCOUDOIR|SELECTEUR|BOITIER P|SELECTEUR|COMBINE R|AUTO_RADI|PAPIER BU|DEPART AU|COLMATAGE|CLOCHE EC|LUBRIMATI|PARE_JAMB|VOYAGEUR |HAUT_PARL|SIGNALEME|PILE BTSA|ISSUE SEC|TACHYGRAP|\n",
       "---------|---------|---------|---------|---------|---------|---------|---------|---------|---------|---------|---------|---------|---------|---------|---------|---------|---------|---------|---------|---------|---------|---------|---------|---------|---------|---------|---------|---------|---------|---------|---------|---------|---------|---------|---------|---------|---------|---------|---------|---------|---------|---------|---------|---------|---------|---------|---------|---------|---------|---------|---------|---------|---------|---------|---------|---------|---------|---------|---------|---------|---------|---------|---------|---------|---------|---------|---------|---------|---------|---------|---------|---------|---------|---------|---------|---------|---------|---------|---------|---------|---------|---------|---------|---------|---------|---------|---------|---------|---------|---------|---------|---------|---------|---------|---------|---------|---------|---------|---------|---------|---------|---------|---------|---------|---------|---------|---------|---------|---------|---------|---------|---------|---------|---------|---------|\n",
       " 0.0024  | 0.0009  | 0.0169  | 0.0655  | 0.0008  | 0.0015  | 0.3742  | 0.0373  | 0.0029  | 0.0455  | 0.0139  | 0.0349  | 0.0013  | 0.0040  | 0.0100  | 0.0114  | 0.0224  | 0.0770  | 0.0077  | 0.0001  | 0.0136  | 0.0042  | 0.0003  | 0.0025  | 0.0034  | 0.0010  | 0.0494  | 0.0312  | 0.0031  | 0.0007  | 0.0032  | 0.0005  | 0.0042  | 0.0001  | 0.0009  | 0.0035  | 0.0050  | 0.0021  | 0.0008  | 0.0014  | 0.0008  | 0.0020  | 0.0088  | 0.0011  | 0.0004  | 0.0042  | 0.0003  | 0.0028  | 0.0004  | 0.0016  | 0.0051  | 0.0025  | 0.0187  | 0.0014  | 0.0035  | 0.0002  | 0.0007  | 0.0001  | 0.0003  | 0.0007  | 0.0189  | 0.0017  | 0.0011  | 0.0030  | 0.0004  | 0.0010  | 0.0004  | 0.0006  | 0.0020  | 0.0005  | 0.0003  | 0.0048  | 0.0019  | 0.0041  | 0.0016  | 0.0002  | 0.0002  | 0.0011  | 0.0004  | 0.0007  | 0.0001  | 0.0008  | 0.0004  | 0.0007  | 0.0040  | 0.0003  | 0.0006  | 0.0203  | 0.0017  | 0.0000  | 0.0001  | 0.0012  | 0.0001  | 0.0000  | 0.0001  | 0.0011  | 0.0046  | 0.0006  | 0.0000  | 0.0004  | 0.0002  | 0.0004  | 0.0000  | 0.0000  | 0.0000  | 0.0000  | 0.0000  | 0.0000  | 0.0000  | 0.0000  | 0.0000  | 0.0000  | 0.0000  | 0.0000  | 0.0000  | 0.0000  |"
      ]
     },
     "execution_count": 71,
     "metadata": {},
     "output_type": "execute_result"
    }
   ],
   "source": [
    "rb_projet.cpt(\"SIG_ORGANE\")[:] = Create_Probabilite(ot_odr_df,\"SIG_ORGANE\",ot_odr_df[\"SIG_ORGANE\"].unique())\n",
    "\n",
    "rb_projet.cpt(\"SIG_ORGANE\")\n"
   ]
  },
  {
   "attachments": {},
   "cell_type": "markdown",
   "metadata": {},
   "source": [
    "### Calcul des probabilité de SIG_OBS"
   ]
  },
  {
   "cell_type": "code",
   "execution_count": 72,
   "metadata": {},
   "outputs": [
    {
     "data": {
      "text/plain": [
       "(pyAgrum.Potential<double>@0000017030A44AE0) \n",
       "  SIG_OBS                                                                                                                                                                                                                                                                                                                                                                                                                                                                                                                                                                                                    |\n",
       "DEBOITE  |ABSENT   |VIBRE    |CASSE    |BLOQUE   |ENFONCE  |DESSERRE |RAYE     |LACERE   |INTERRUPT|MANQUE   |ODEUR    |CLAQUE   |FERME MAL|FONCTIONN|VOYANT AL|ARRACHE  |NE FONCTI|INSUFFISA|FUITE    |DUR      |FUME_CHAU|ASPIRER  |BRUYANT  |DEGONFLE |VOYANT HS|JEU      |TAGUE    |BRUTAL   |USE_VIDE |INTERMITT|CLIGNOTE |BLESSE   |INCOMPLET|CALE     |FAUX CONT|BALANCE  |TEMOIN OU|MAUVAIS  |A_COUPS  |TIRE A GA|ALLUME   |CREVE    |TIRE A DR|FENDU    |DEREGLE  |NE TIRE P|TORDU    |SALE     |PATINE   |REFUSE TI|N EMET PA|N ENCRE P|DELOCALIS|OUVRE MAL|BROUTE   |SECOUSSE |TANGUE   |DECLENCHE|\n",
       "---------|---------|---------|---------|---------|---------|---------|---------|---------|---------|---------|---------|---------|---------|---------|---------|---------|---------|---------|---------|---------|---------|---------|---------|---------|---------|---------|---------|---------|---------|---------|---------|---------|---------|---------|---------|---------|---------|---------|---------|---------|---------|---------|---------|---------|---------|---------|---------|---------|---------|---------|---------|---------|---------|---------|---------|---------|---------|---------|\n",
       " 0.0263  | 0.0978  | 0.0015  | 0.1964  | 0.0278  | 0.0155  | 0.0077  | 0.0245  | 0.0077  | 0.0090  | 0.0220  | 0.0016  | 0.0053  | 0.0010  | 0.0745  | 0.0494  | 0.0084  | 0.2976  | 0.0145  | 0.0436  | 0.0034  | 0.0036  | 0.0001  | 0.0152  | 0.0063  | 0.0135  | 0.0000  | 0.0003  | 0.0001  | 0.0013  | 0.0050  | 0.0047  | 0.0004  | 0.0011  | 0.0005  | 0.0004  | 0.0016  | 0.0010  | 0.0000  | 0.0032  | 0.0003  | 0.0000  | 0.0005  | 0.0004  | 0.0002  | 0.0003  | 0.0022  | 0.0003  | 0.0003  | 0.0002  | 0.0008  | 0.0000  | 0.0001  | 0.0005  | 0.0001  | 0.0000  | 0.0000  | 0.0000  | 0.0000  |"
      ]
     },
     "execution_count": 72,
     "metadata": {},
     "output_type": "execute_result"
    }
   ],
   "source": [
    "rb_projet.cpt(\"SIG_OBS\")[:] = Create_Probabilite(ot_odr_df,\"SIG_OBS\",ot_odr_df[\"SIG_OBS\"].unique())\n",
    "\n",
    "rb_projet.cpt(\"SIG_OBS\")"
   ]
  },
  {
   "attachments": {},
   "cell_type": "markdown",
   "metadata": {},
   "source": [
    "### Calcul des probabilité de SIG_CONTEXTE"
   ]
  },
  {
   "cell_type": "code",
   "execution_count": null,
   "metadata": {},
   "outputs": [],
   "source": [
    "rb_projet.cpt(\"SIG_CONTEXTE\")[:] = Create_Probabilite(ot_odr_df,\"SIG_CONTEXTE\",ot_odr_df[\"SIG_CONTEXTE\"].unique())\n",
    "\n",
    "rb_projet.cpt(\"SIG_CONTEXTE\")"
   ]
  },
  {
   "attachments": {},
   "cell_type": "markdown",
   "metadata": {},
   "source": [
    "### Calcul des probabilité de SYSTEM_N1 en fonction de SIG_ORGANE"
   ]
  },
  {
   "cell_type": "code",
   "execution_count": 73,
   "metadata": {},
   "outputs": [
    {
     "data": {
      "text/plain": [
       "'\\nfor liste_SIG in ot_odr_df[\\'SIG_ORGANE\\'].unique():\\n    ot_odf_SIG_ORANE = ot_odr_df.loc[ot_odr_df[\\'SIG_ORGANE\\'] == liste_SIG]\\n    liste_SIG = Delete_special_caractere(liste_SIG)\\n\\n    rb_projet.cpt(\"SYSTEM_N1\")[{\"SIG_ORGANE\":liste_SIG}] = Create_Probabilite(ot_odf_SIG_ORANE,\"SYSTEM_N1\",ot_odr_df[\"SYSTEM_N1\"].unique())\\n\\nrb_projet.cpt(\"SYSTEM_N1\")\\n'"
      ]
     },
     "execution_count": 73,
     "metadata": {},
     "output_type": "execute_result"
    }
   ],
   "source": [
    "'''\n",
    "for liste_SIG in ot_odr_df['SIG_ORGANE'].unique():\n",
    "    ot_odf_SIG_ORANE = ot_odr_df.loc[ot_odr_df['SIG_ORGANE'] == liste_SIG]\n",
    "    liste_SIG = Delete_special_caractere(liste_SIG)\n",
    "\n",
    "    rb_projet.cpt(\"SYSTEM_N1\")[{\"SIG_ORGANE\":liste_SIG}] = Create_Probabilite(ot_odf_SIG_ORANE,\"SYSTEM_N1\",ot_odr_df[\"SYSTEM_N1\"].unique())\n",
    "\n",
    "rb_projet.cpt(\"SYSTEM_N1\")\n",
    "'''"
   ]
  },
  {
   "attachments": {},
   "cell_type": "markdown",
   "metadata": {},
   "source": [
    "### Calcul des probabilité de SYSTEM_N1 en fonction de SIG_ORGANE et SIG_OBS"
   ]
  },
  {
   "cell_type": "code",
   "execution_count": 74,
   "metadata": {},
   "outputs": [
    {
     "name": "stdout",
     "output_type": "stream",
     "text": [
      "\n",
      "             ||  SYSTEM_N1                                                                                        |\n",
      "SIG_OR|SIG_OB||EQUIPEMEN|EQUIPEMEN|EQUIPEMEN|EQUIPEMEN|EQUIPEMEN|EQUIPEMEN|EQUIPEMEN|EQUIPEMEN|EQUIPEMEN|DIVERS   |\n",
      "------|------||---------|---------|---------|---------|---------|---------|---------|---------|---------|---------|\n",
      "GLACE_|DEBOIT|| 0.9943  | 0.0057  | 0.0000  | 0.0000  | 0.0000  | 0.0000  | 0.0000  | 0.0000  | 0.0000  | 0.0000  |\n",
      "KLAXON|DEBOIT|| 0.2500  | 0.7500  | 0.0000  | 0.0000  | 0.0000  | 0.0000  | 0.0000  | 0.0000  | 0.0000  | 0.0000  |\n",
      "VOITUR|DEBOIT|| 0.0000  | 0.0000  | 0.0000  | 0.0000  | 0.0000  | 0.0000  | 0.0000  | 0.0000  | 0.0000  | 0.0000  |\n",
      "PARE_C|DEBOIT|| 0.7202  | 0.2599  | 0.0097  | 0.0005  | 0.0000  | 0.0005  | 0.0087  | 0.0000  | 0.0005  | 0.0000  |\n",
      "SECURI|DEBOIT|| 0.0000  | 0.0000  | 0.0000  | 0.0000  | 0.0000  | 0.0000  | 0.0000  | 0.0000  | 0.0000  | 0.0000  |\n",
      "VOLANT|DEBOIT|| 0.0000  | 0.0000  | 0.0000  | 0.0000  | 0.0000  | 0.0000  | 0.0000  | 0.0000  | 0.0000  | 0.0000  |\n",
      "[...6832 more line(s) ...]\n",
      "VOYAGE|DECLEN|| 0.0000  | 0.0000  | 0.0000  | 0.0000  | 0.0000  | 0.0000  | 0.0000  | 0.0000  | 0.0000  | 0.0000  |\n",
      "HAUT_P|DECLEN|| 0.0000  | 0.0000  | 0.0000  | 0.0000  | 0.0000  | 0.0000  | 0.0000  | 0.0000  | 0.0000  | 0.0000  |\n",
      "SIGNAL|DECLEN|| 0.0000  | 0.0000  | 0.0556  | 0.0000  | 0.0000  | 0.7222  | 0.1667  | 0.0000  | 0.0556  | 0.0000  |\n",
      "PILE B|DECLEN|| 0.0000  | 0.0000  | 0.0000  | 1.0000  | 0.0000  | 0.0000  | 0.0000  | 0.0000  | 0.0000  | 0.0000  |\n",
      "ISSUE |DECLEN|| 0.0000  | 0.0000  | 0.0000  | 0.0000  | 0.0000  | 0.0000  | 0.0000  | 0.0000  | 0.0000  | 0.0000  |\n",
      "TACHYG|DECLEN|| 0.0000  | 0.0000  | 0.0000  | 0.0000  | 0.0000  | 0.0000  | 0.0000  | 0.0000  | 0.0000  | 0.0000  |\n",
      "\n"
     ]
    }
   ],
   "source": [
    "for sig_organe in ot_odr_df['SIG_ORGANE'].unique():\n",
    "    ot_odf_sig_organe = ot_odr_df.loc[ot_odr_df['SIG_ORGANE'] == sig_organe]\n",
    "    sig_organe = Delete_special_caractere(sig_organe)\n",
    "    \n",
    "    for sig_obs in ot_odr_df['SIG_OBS'].unique():\n",
    "        ot_odf_sig_obs = ot_odf_sig_organe.loc[ot_odf_sig_organe['SIG_OBS'] == sig_obs]\n",
    "        sig_obs = Delete_special_caractere(sig_obs)\n",
    "\n",
    "        rb_projet.cpt(\"SYSTEM_N1\")[{\"SIG_ORGANE\": sig_organe, \"SIG_OBS\": sig_obs}] = Create_Probabilite(ot_odf_sig_obs, \"SYSTEM_N1\", ot_odr_df[\"SYSTEM_N1\"].unique())\n",
    "\n",
    "print(rb_projet.cpt(\"SYSTEM_N1\"))\n"
   ]
  },
  {
   "attachments": {},
   "cell_type": "markdown",
   "metadata": {},
   "source": [
    "### Calcul des probabilité de SYSTEM_N2 en fonction de SYSTEM_N1"
   ]
  },
  {
   "cell_type": "code",
   "execution_count": 75,
   "metadata": {},
   "outputs": [
    {
     "data": {
      "text/plain": [
       "(pyAgrum.Potential<double>@0000017030A44C00) \n",
       "      ||  SYSTEM_N2                                                                                                                                                                                                                                                                                                                                                                                                                                                      |\n",
       "SYSTEM||VITRAGE  |ECLAIRAGE|EQUIPEMEN|ELEMENT C|PORTE    |INFORMATI|VENTILATI|LIAISON A|FREIN D E|ACCESSOIR|MOTEUR TH|DEPOLLUTI|CHASSIS  |FREIN PRI|BOITE DE |ARTICULAT|CIRCUIT D|TRANSMISS|CLIMATISA|CIRCUIT D|AMENAGEME|CIRCUIT D|CIRCUIT D|REFROIDIS|CIRCUIT D|CIRCUIT D|CIRCUIT D|CHAUFFAGE|CIRCUIT D|FREIN DE |_        |POSTE DE |ACCESSIBI|INDICATEU|CIRCUIT D|AIDE A L |STOCKAGE |CIRCUIT D|SECURITE |TELEBILLE|MAINTENAN|ENERGIE T|MOTEUR EL|CIRCUIT D|FREIN SEC|\n",
       "------||---------|---------|---------|---------|---------|---------|---------|---------|---------|---------|---------|---------|---------|---------|---------|---------|---------|---------|---------|---------|---------|---------|---------|---------|---------|---------|---------|---------|---------|---------|---------|---------|---------|---------|---------|---------|---------|---------|---------|---------|---------|---------|---------|---------|---------|\n",
       "EQUIPE|| 0.0200  | 0.0000  | 0.0000  | 0.3595  | 0.2380  | 0.0000  | 0.0000  | 0.0000  | 0.0000  | 0.2784  | 0.0000  | 0.0000  | 0.0000  | 0.0000  | 0.0000  | 0.0000  | 0.0000  | 0.0000  | 0.0000  | 0.0000  | 0.0540  | 0.0000  | 0.0000  | 0.0000  | 0.0000  | 0.0000  | 0.0000  | 0.0000  | 0.0000  | 0.0000  | 0.0000  | 0.0501  | 0.0000  | 0.0000  | 0.0000  | 0.0000  | 0.0000  | 0.0000  | 0.0000  | 0.0000  | 0.0000  | 0.0000  | 0.0000  | 0.0000  | 0.0000  |\n",
       "EQUIPE|| 0.0000  | 0.9180  | 0.0000  | 0.0000  | 0.0000  | 0.0000  | 0.0000  | 0.0000  | 0.0000  | 0.0000  | 0.0000  | 0.0000  | 0.0000  | 0.0000  | 0.0000  | 0.0000  | 0.0000  | 0.0000  | 0.0000  | 0.0053  | 0.0000  | 0.0000  | 0.0000  | 0.0000  | 0.0164  | 0.0000  | 0.0000  | 0.0000  | 0.0000  | 0.0000  | 0.0000  | 0.0000  | 0.0000  | 0.0546  | 0.0054  | 0.0000  | 0.0000  | 0.0000  | 0.0000  | 0.0000  | 0.0000  | 0.0000  | 0.0000  | 0.0002  | 0.0000  |\n",
       "EQUIPE|| 0.0000  | 0.0000  | 0.1027  | 0.0000  | 0.0000  | 0.0000  | 0.0000  | 0.7438  | 0.0000  | 0.0000  | 0.0000  | 0.0000  | 0.0429  | 0.0000  | 0.0000  | 0.0108  | 0.0000  | 0.0000  | 0.0000  | 0.0000  | 0.0000  | 0.0000  | 0.0000  | 0.0000  | 0.0000  | 0.0000  | 0.0000  | 0.0000  | 0.0000  | 0.0000  | 0.0000  | 0.0000  | 0.0999  | 0.0000  | 0.0000  | 0.0000  | 0.0000  | 0.0000  | 0.0000  | 0.0000  | 0.0000  | 0.0000  | 0.0000  | 0.0000  | 0.0000  |\n",
       "EQUIPE|| 0.0000  | 0.0000  | 0.0000  | 0.0000  | 0.0000  | 0.1700  | 0.0000  | 0.0000  | 0.0000  | 0.0000  | 0.0000  | 0.0000  | 0.0000  | 0.0000  | 0.0000  | 0.0000  | 0.0000  | 0.0000  | 0.0000  | 0.0000  | 0.0000  | 0.0000  | 0.0000  | 0.0000  | 0.0000  | 0.0000  | 0.0000  | 0.0000  | 0.0000  | 0.0000  | 0.0050  | 0.0000  | 0.0000  | 0.0000  | 0.0000  | 0.2034  | 0.0000  | 0.0000  | 0.1058  | 0.5157  | 0.0000  | 0.0000  | 0.0000  | 0.0000  | 0.0000  |\n",
       "EQUIPE|| 0.0000  | 0.0000  | 0.0000  | 0.0000  | 0.0000  | 0.0000  | 0.0825  | 0.0000  | 0.0000  | 0.0000  | 0.0000  | 0.0000  | 0.0000  | 0.0000  | 0.0000  | 0.0000  | 0.0000  | 0.0000  | 0.0059  | 0.0000  | 0.0000  | 0.0000  | 0.0000  | 0.0000  | 0.0000  | 0.0000  | 0.0000  | 0.9083  | 0.0000  | 0.0000  | 0.0032  | 0.0000  | 0.0000  | 0.0000  | 0.0000  | 0.0000  | 0.0000  | 0.0000  | 0.0000  | 0.0000  | 0.0000  | 0.0000  | 0.0000  | 0.0000  | 0.0000  |\n",
       "EQUIPE|| 0.0000  | 0.0000  | 0.0000  | 0.0000  | 0.0000  | 0.0000  | 0.0000  | 0.0000  | 0.1183  | 0.0000  | 0.0000  | 0.0000  | 0.0000  | 0.8029  | 0.0000  | 0.0000  | 0.0000  | 0.0000  | 0.0000  | 0.0000  | 0.0000  | 0.0000  | 0.0000  | 0.0000  | 0.0000  | 0.0000  | 0.0000  | 0.0000  | 0.0000  | 0.0786  | 0.0000  | 0.0000  | 0.0000  | 0.0000  | 0.0000  | 0.0000  | 0.0000  | 0.0000  | 0.0000  | 0.0000  | 0.0000  | 0.0000  | 0.0000  | 0.0000  | 0.0002  |\n",
       "EQUIPE|| 0.0000  | 0.0000  | 0.0000  | 0.0000  | 0.0000  | 0.0000  | 0.0000  | 0.0000  | 0.0000  | 0.0000  | 0.0827  | 0.2099  | 0.0000  | 0.0000  | 0.0000  | 0.0000  | 0.0406  | 0.0000  | 0.0000  | 0.0000  | 0.0000  | 0.0579  | 0.0697  | 0.3749  | 0.0000  | 0.0782  | 0.0000  | 0.0000  | 0.0822  | 0.0000  | 0.0002  | 0.0000  | 0.0000  | 0.0000  | 0.0000  | 0.0000  | 0.0000  | 0.0018  | 0.0000  | 0.0000  | 0.0000  | 0.0000  | 0.0019  | 0.0000  | 0.0000  |\n",
       "EQUIPE|| 0.0000  | 0.0000  | 0.0000  | 0.0000  | 0.0000  | 0.0000  | 0.0000  | 0.0000  | 0.0000  | 0.0000  | 0.0000  | 0.0000  | 0.0000  | 0.0000  | 0.8969  | 0.0000  | 0.0000  | 0.1031  | 0.0000  | 0.0000  | 0.0000  | 0.0000  | 0.0000  | 0.0000  | 0.0000  | 0.0000  | 0.0000  | 0.0000  | 0.0000  | 0.0000  | 0.0000  | 0.0000  | 0.0000  | 0.0000  | 0.0000  | 0.0000  | 0.0000  | 0.0000  | 0.0000  | 0.0000  | 0.0000  | 0.0000  | 0.0000  | 0.0000  | 0.0000  |\n",
       "EQUIPE|| 0.0000  | 0.0000  | 0.0000  | 0.0000  | 0.0000  | 0.0000  | 0.0000  | 0.0000  | 0.0000  | 0.0000  | 0.0000  | 0.0000  | 0.0000  | 0.0000  | 0.0000  | 0.0000  | 0.0000  | 0.0000  | 0.0000  | 0.0000  | 0.0000  | 0.0000  | 0.0000  | 0.0000  | 0.0000  | 0.0000  | 0.9724  | 0.0000  | 0.0000  | 0.0000  | 0.0000  | 0.0000  | 0.0000  | 0.0000  | 0.0000  | 0.0000  | 0.0276  | 0.0000  | 0.0000  | 0.0000  | 0.0000  | 0.0000  | 0.0000  | 0.0000  | 0.0000  |\n",
       "DIVERS|| 0.0000  | 0.0000  | 0.0000  | 0.0000  | 0.0000  | 0.0000  | 0.0000  | 0.0000  | 0.0000  | 0.0000  | 0.0000  | 0.0000  | 0.0000  | 0.0000  | 0.0000  | 0.0000  | 0.0000  | 0.0000  | 0.0000  | 0.0000  | 0.0000  | 0.0000  | 0.0000  | 0.0000  | 0.0000  | 0.0000  | 0.0000  | 0.0000  | 0.0000  | 0.0000  | 0.0000  | 0.0000  | 0.0000  | 0.0000  | 0.0000  | 0.0000  | 0.0000  | 0.0000  | 0.0000  | 0.0000  | 1.0000  | 0.0000  | 0.0000  | 0.0000  | 0.0000  |"
      ]
     },
     "execution_count": 75,
     "metadata": {},
     "output_type": "execute_result"
    }
   ],
   "source": [
    "for liste_N1 in ot_odr_df['SYSTEM_N1'].unique():\n",
    "    ot_odf_SYSTEM_N1 = ot_odr_df.loc[ot_odr_df['SYSTEM_N1'] == liste_N1]\n",
    "    liste_N1 = Delete_special_caractere(liste_N1)\n",
    "\n",
    "    rb_projet.cpt(\"SYSTEM_N2\")[{\"SYSTEM_N1\":liste_N1}] = Create_Probabilite(ot_odf_SYSTEM_N1,\"SYSTEM_N2\",ot_odr_df[\"SYSTEM_N2\"].unique())\n",
    "rb_projet.cpt(\"SYSTEM_N2\")"
   ]
  },
  {
   "attachments": {},
   "cell_type": "markdown",
   "metadata": {},
   "source": [
    "### Calcul des probabilité de SYSTEM_N3 en fonction de SYSTEM_N2"
   ]
  },
  {
   "cell_type": "code",
   "execution_count": 76,
   "metadata": {},
   "outputs": [
    {
     "data": {
      "text/plain": [
       "(pyAgrum.Potential<double>@0000017030A447E0) \n",
       "      ||  SYSTEM_N3                                                                                                                                                                                                                                                                                                                                                                                                                                                                                                                                                                                                                                                                                                                                                                                                                                                                                                                                                                                                                                                                                                                                                                                                                                                                                                                                                                                                                                                                                                                                                |\n",
       "SYSTEM||VITRAGE L|ECLAIRAGE|COMMANDE |PROTECTIO|COMMANDE |GIROUETTE|VENTILATI|ROUE     |CIRCUIT F|ESSUIE_GL|COURROIE |CIRCUIT D|ORGANE HA|VITRAGE A|OSSATURE |PROTECTIO|PROTECTIO|CIRCUIT F|COMMANDE |MECANISME|_        |SUSPENSIO|ARBRE DE |VITRAGE A|ACCESSOIR|AERATEUR |ORGANE BA|SILENCIEU|CARROSSER|CAPTEUR M|AVERTISSE|ASSISTANC|CIRCUIT D|AMORTISSE|CONNEXION|CANALISAT|ORGANE D |CABLAGE M|SECURITES|CIRCUIT D|STOCKAGE |COMMANDE |COFFRE TE|COMMANDE |ORGANE DE|ORGANE BV|ORGANE DE|COMMANDE |COMMANDE |CIRCUIT D|CIRCUIT H|COMMANDE |EQUIPEMEN|PARE SOLE|ORGANE D |DISTRIBUT|SIEGE MAC|ANNONCEUR|RETROVISI|COMMANDE |COMMANDE |TRAIN AV |CIRCUIT P|CARROSSER|CAA      |COMMANDE |MECANISME|RADIATEUR|RETROVISI|PUBLICITE|HABILLAGE|MECANISME|CARROSSER|INDICATEU|CABLAGE F|HABILLAGE|CABLAGE B|INDICATEU|CIRCUIT V|CIRCUIT D|COMMANDE |BOITIER E|TRAIN AR |SIEGE BAT|ORGANE DU|VASE D EX|ORGANE DE|MECANISME|COMPTAGE |SOUBASSEM|COMMANDE |FILTRATIO|RESERVOIR|CABLAGE C|COMMANDE |COMMANDE |ORGANE DE|BATTERIES|EMBRAYAGE|ORGANE BV|CANALISAT|ECLAIRAGE|PONT     |ORGANE BL|MANOMETRE|LAVE_GLAC|COMMANDE |ALARME DI|ORDINATEU|VIDEOSURV|CABLAGE B|CIRCUIT D|BALE     |CONCENTRA|RADIO    |VALIDEUR |MECANISME|PASSE SAN|ORGANE BV|PUBLICITE|VIDEOSURV|RADIOLOCA|PUPITRE I|MAINTENAN|BOITIER T|VITRAGE I|DISPOSITI|VIDEOSURV|STRUCTURE|CABLAGE B|ANNONCEUR|COMMANDE |CIRCUIT H|GENERATRI|CIRCUIT D|DESCENTE |MOTEUR DE|TRAIN MIL|ECHANGEUR|CABLAGE P|CONNEXION|VIDEOSURV|CIRCUIT F|PRIORITE |TOITURE  |CABLAGE F|CABLAGE D|STOCKAGE |COMMANDE |MAINTENAN|\n",
       "------||---------|---------|---------|---------|---------|---------|---------|---------|---------|---------|---------|---------|---------|---------|---------|---------|---------|---------|---------|---------|---------|---------|---------|---------|---------|---------|---------|---------|---------|---------|---------|---------|---------|---------|---------|---------|---------|---------|---------|---------|---------|---------|---------|---------|---------|---------|---------|---------|---------|---------|---------|---------|---------|---------|---------|---------|---------|---------|---------|---------|---------|---------|---------|---------|---------|---------|---------|---------|---------|---------|---------|---------|---------|---------|---------|---------|---------|---------|---------|---------|---------|---------|---------|---------|---------|---------|---------|---------|---------|---------|---------|---------|---------|---------|---------|---------|---------|---------|---------|---------|---------|---------|---------|---------|---------|---------|---------|---------|---------|---------|---------|---------|---------|---------|---------|---------|---------|---------|---------|---------|---------|---------|---------|---------|---------|---------|---------|---------|---------|---------|---------|---------|---------|---------|---------|---------|---------|---------|---------|---------|---------|---------|---------|---------|---------|---------|---------|---------|---------|---------|\n",
       "VITRAG|| 0.7279  | 0.0000  | 0.0000  | 0.0000  | 0.0000  | 0.0000  | 0.0000  | 0.0000  | 0.0000  | 0.0000  | 0.0000  | 0.0000  | 0.0000  | 0.0267  | 0.0000  | 0.0000  | 0.0000  | 0.0000  | 0.0000  | 0.0000  | 0.0000  | 0.0000  | 0.0000  | 0.2247  | 0.0000  | 0.0000  | 0.0000  | 0.0000  | 0.0000  | 0.0000  | 0.0000  | 0.0000  | 0.0000  | 0.0000  | 0.0000  | 0.0000  | 0.0000  | 0.0000  | 0.0000  | 0.0000  | 0.0000  | 0.0000  | 0.0000  | 0.0000  | 0.0000  | 0.0000  | 0.0000  | 0.0000  | 0.0000  | 0.0000  | 0.0000  | 0.0000  | 0.0000  | 0.0000  | 0.0000  | 0.0000  | 0.0000  | 0.0000  | 0.0000  | 0.0000  | 0.0000  | 0.0000  | 0.0000  | 0.0000  | 0.0000  | 0.0000  | 0.0000  | 0.0000  | 0.0000  | 0.0000  | 0.0000  | 0.0000  | 0.0000  | 0.0000  | 0.0000  | 0.0000  | 0.0000  | 0.0000  | 0.0000  | 0.0000  | 0.0000  | 0.0000  | 0.0000  | 0.0000  | 0.0000  | 0.0000  | 0.0000  | 0.0000  | 0.0000  | 0.0000  | 0.0000  | 0.0000  | 0.0000  | 0.0000  | 0.0000  | 0.0000  | 0.0000  | 0.0000  | 0.0000  | 0.0000  | 0.0000  | 0.0000  | 0.0000  | 0.0000  | 0.0000  | 0.0000  | 0.0000  | 0.0000  | 0.0000  | 0.0000  | 0.0000  | 0.0000  | 0.0000  | 0.0000  | 0.0000  | 0.0000  | 0.0000  | 0.0000  | 0.0000  | 0.0000  | 0.0000  | 0.0000  | 0.0000  | 0.0000  | 0.0000  | 0.0207  | 0.0000  | 0.0000  | 0.0000  | 0.0000  | 0.0000  | 0.0000  | 0.0000  | 0.0000  | 0.0000  | 0.0000  | 0.0000  | 0.0000  | 0.0000  | 0.0000  | 0.0000  | 0.0000  | 0.0000  | 0.0000  | 0.0000  | 0.0000  | 0.0000  | 0.0000  | 0.0000  | 0.0000  |\n",
       "ECLAIR|| 0.0000  | 0.9378  | 0.0000  | 0.0000  | 0.0000  | 0.0000  | 0.0000  | 0.0000  | 0.0000  | 0.0000  | 0.0000  | 0.0000  | 0.0000  | 0.0000  | 0.0000  | 0.0000  | 0.0000  | 0.0000  | 0.0000  | 0.0000  | 0.0000  | 0.0000  | 0.0000  | 0.0000  | 0.0000  | 0.0000  | 0.0000  | 0.0000  | 0.0000  | 0.0000  | 0.0014  | 0.0000  | 0.0000  | 0.0000  | 0.0000  | 0.0000  | 0.0000  | 0.0000  | 0.0000  | 0.0000  | 0.0000  | 0.0000  | 0.0000  | 0.0000  | 0.0000  | 0.0000  | 0.0000  | 0.0000  | 0.0000  | 0.0000  | 0.0000  | 0.0000  | 0.0000  | 0.0000  | 0.0000  | 0.0000  | 0.0000  | 0.0000  | 0.0000  | 0.0000  | 0.0000  | 0.0000  | 0.0000  | 0.0000  | 0.0000  | 0.0000  | 0.0000  | 0.0000  | 0.0000  | 0.0000  | 0.0000  | 0.0000  | 0.0000  | 0.0000  | 0.0000  | 0.0000  | 0.0000  | 0.0000  | 0.0000  | 0.0000  | 0.0000  | 0.0000  | 0.0000  | 0.0000  | 0.0000  | 0.0000  | 0.0000  | 0.0000  | 0.0000  | 0.0000  | 0.0000  | 0.0000  | 0.0000  | 0.0000  | 0.0000  | 0.0000  | 0.0000  | 0.0000  | 0.0000  | 0.0000  | 0.0000  | 0.0607  | 0.0000  | 0.0000  | 0.0000  | 0.0000  | 0.0000  | 0.0000  | 0.0000  | 0.0000  | 0.0000  | 0.0000  | 0.0000  | 0.0000  | 0.0000  | 0.0000  | 0.0000  | 0.0000  | 0.0000  | 0.0000  | 0.0000  | 0.0000  | 0.0000  | 0.0000  | 0.0000  | 0.0000  | 0.0000  | 0.0000  | 0.0000  | 0.0000  | 0.0000  | 0.0000  | 0.0000  | 0.0000  | 0.0000  | 0.0000  | 0.0000  | 0.0000  | 0.0000  | 0.0000  | 0.0000  | 0.0000  | 0.0000  | 0.0000  | 0.0000  | 0.0000  | 0.0000  | 0.0000  | 0.0000  | 0.0000  |\n",
       "EQUIPE|| 0.0000  | 0.0000  | 0.7495  | 0.0000  | 0.0000  | 0.0000  | 0.0000  | 0.0000  | 0.0000  | 0.0000  | 0.0000  | 0.0000  | 0.0000  | 0.0000  | 0.0000  | 0.0000  | 0.0000  | 0.0000  | 0.0000  | 0.0000  | 0.0000  | 0.0000  | 0.0000  | 0.0000  | 0.0000  | 0.0000  | 0.0000  | 0.0000  | 0.0000  | 0.0000  | 0.0000  | 0.2505  | 0.0000  | 0.0000  | 0.0000  | 0.0000  | 0.0000  | 0.0000  | 0.0000  | 0.0000  | 0.0000  | 0.0000  | 0.0000  | 0.0000  | 0.0000  | 0.0000  | 0.0000  | 0.0000  | 0.0000  | 0.0000  | 0.0000  | 0.0000  | 0.0000  | 0.0000  | 0.0000  | 0.0000  | 0.0000  | 0.0000  | 0.0000  | 0.0000  | 0.0000  | 0.0000  | 0.0000  | 0.0000  | 0.0000  | 0.0000  | 0.0000  | 0.0000  | 0.0000  | 0.0000  | 0.0000  | 0.0000  | 0.0000  | 0.0000  | 0.0000  | 0.0000  | 0.0000  | 0.0000  | 0.0000  | 0.0000  | 0.0000  | 0.0000  | 0.0000  | 0.0000  | 0.0000  | 0.0000  | 0.0000  | 0.0000  | 0.0000  | 0.0000  | 0.0000  | 0.0000  | 0.0000  | 0.0000  | 0.0000  | 0.0000  | 0.0000  | 0.0000  | 0.0000  | 0.0000  | 0.0000  | 0.0000  | 0.0000  | 0.0000  | 0.0000  | 0.0000  | 0.0000  | 0.0000  | 0.0000  | 0.0000  | 0.0000  | 0.0000  | 0.0000  | 0.0000  | 0.0000  | 0.0000  | 0.0000  | 0.0000  | 0.0000  | 0.0000  | 0.0000  | 0.0000  | 0.0000  | 0.0000  | 0.0000  | 0.0000  | 0.0000  | 0.0000  | 0.0000  | 0.0000  | 0.0000  | 0.0000  | 0.0000  | 0.0000  | 0.0000  | 0.0000  | 0.0000  | 0.0000  | 0.0000  | 0.0000  | 0.0000  | 0.0000  | 0.0000  | 0.0000  | 0.0000  | 0.0000  | 0.0000  | 0.0000  | 0.0000  | 0.0000  |\n",
       "ELEMEN|| 0.0000  | 0.0000  | 0.0000  | 0.1797  | 0.0000  | 0.0000  | 0.0000  | 0.0000  | 0.0000  | 0.0000  | 0.0000  | 0.0000  | 0.0000  | 0.0000  | 0.0000  | 0.1663  | 0.0583  | 0.0000  | 0.0000  | 0.0000  | 0.0000  | 0.0000  | 0.0000  | 0.0000  | 0.0000  | 0.0000  | 0.0000  | 0.0000  | 0.2316  | 0.0000  | 0.0000  | 0.0000  | 0.0000  | 0.0000  | 0.0000  | 0.0000  | 0.0000  | 0.0000  | 0.0000  | 0.0000  | 0.0000  | 0.0000  | 0.0000  | 0.0000  | 0.0000  | 0.0000  | 0.0000  | 0.0000  | 0.0000  | 0.0000  | 0.0000  | 0.0000  | 0.0000  | 0.0000  | 0.0000  | 0.0000  | 0.0000  | 0.0000  | 0.0000  | 0.0000  | 0.0000  | 0.0000  | 0.0000  | 0.1392  | 0.0000  | 0.0000  | 0.0000  | 0.0000  | 0.0000  | 0.0640  | 0.0000  | 0.0000  | 0.1608  | 0.0000  | 0.0000  | 0.0000  | 0.0000  | 0.0000  | 0.0000  | 0.0000  | 0.0000  | 0.0000  | 0.0000  | 0.0000  | 0.0000  | 0.0000  | 0.0000  | 0.0000  | 0.0000  | 0.0000  | 0.0000  | 0.0000  | 0.0000  | 0.0000  | 0.0000  | 0.0000  | 0.0000  | 0.0000  | 0.0000  | 0.0000  | 0.0000  | 0.0000  | 0.0000  | 0.0000  | 0.0000  | 0.0000  | 0.0000  | 0.0000  | 0.0000  | 0.0000  | 0.0000  | 0.0000  | 0.0000  | 0.0000  | 0.0000  | 0.0000  | 0.0000  | 0.0000  | 0.0000  | 0.0000  | 0.0000  | 0.0000  | 0.0000  | 0.0000  | 0.0000  | 0.0000  | 0.0000  | 0.0000  | 0.0000  | 0.0000  | 0.0000  | 0.0000  | 0.0000  | 0.0000  | 0.0000  | 0.0000  | 0.0000  | 0.0000  | 0.0000  | 0.0000  | 0.0000  | 0.0000  | 0.0000  | 0.0000  | 0.0002  | 0.0000  | 0.0000  | 0.0000  | 0.0000  | 0.0000  |\n",
       "PORTE || 0.0000  | 0.0000  | 0.0000  | 0.0000  | 0.4368  | 0.0000  | 0.0000  | 0.0000  | 0.0000  | 0.0000  | 0.0000  | 0.0000  | 0.0000  | 0.0000  | 0.0000  | 0.0000  | 0.0000  | 0.0000  | 0.0000  | 0.0000  | 0.0004  | 0.0000  | 0.0000  | 0.0000  | 0.0000  | 0.0000  | 0.0000  | 0.0000  | 0.0000  | 0.0000  | 0.0000  | 0.0000  | 0.0000  | 0.0000  | 0.0000  | 0.0000  | 0.0000  | 0.0000  | 0.1914  | 0.0000  | 0.0000  | 0.0000  | 0.0000  | 0.0000  | 0.0000  | 0.0000  | 0.0000  | 0.0000  | 0.0000  | 0.0000  | 0.0000  | 0.0000  | 0.0000  | 0.0000  | 0.0000  | 0.0000  | 0.0000  | 0.0000  | 0.0000  | 0.0000  | 0.0000  | 0.0000  | 0.1785  | 0.0000  | 0.0000  | 0.0000  | 0.0000  | 0.0000  | 0.0000  | 0.0000  | 0.0000  | 0.1927  | 0.0000  | 0.0000  | 0.0000  | 0.0000  | 0.0000  | 0.0000  | 0.0000  | 0.0000  | 0.0000  | 0.0000  | 0.0000  | 0.0000  | 0.0000  | 0.0000  | 0.0000  | 0.0000  | 0.0000  | 0.0000  | 0.0000  | 0.0000  | 0.0000  | 0.0000  | 0.0000  | 0.0000  | 0.0000  | 0.0000  | 0.0000  | 0.0000  | 0.0000  | 0.0000  | 0.0000  | 0.0000  | 0.0000  | 0.0000  | 0.0000  | 0.0000  | 0.0000  | 0.0000  | 0.0000  | 0.0000  | 0.0000  | 0.0000  | 0.0000  | 0.0000  | 0.0000  | 0.0000  | 0.0000  | 0.0000  | 0.0000  | 0.0000  | 0.0000  | 0.0000  | 0.0000  | 0.0000  | 0.0000  | 0.0000  | 0.0000  | 0.0000  | 0.0000  | 0.0000  | 0.0000  | 0.0000  | 0.0000  | 0.0000  | 0.0000  | 0.0000  | 0.0000  | 0.0001  | 0.0000  | 0.0000  | 0.0000  | 0.0000  | 0.0000  | 0.0000  | 0.0000  | 0.0000  | 0.0000  | 0.0000  |\n",
       "INFORM|| 0.0000  | 0.0000  | 0.0000  | 0.0000  | 0.0000  | 0.6569  | 0.0000  | 0.0000  | 0.0000  | 0.0000  | 0.0000  | 0.0000  | 0.0000  | 0.0000  | 0.0000  | 0.0000  | 0.0000  | 0.0000  | 0.0000  | 0.0000  | 0.0040  | 0.0000  | 0.0000  | 0.0000  | 0.0000  | 0.0000  | 0.0000  | 0.0000  | 0.0000  | 0.0000  | 0.0000  | 0.0000  | 0.0000  | 0.0000  | 0.0000  | 0.0000  | 0.0000  | 0.0000  | 0.0000  | 0.0000  | 0.0000  | 0.0000  | 0.0000  | 0.0000  | 0.0000  | 0.0000  | 0.0000  | 0.0000  | 0.0000  | 0.0000  | 0.0000  | 0.0000  | 0.0000  | 0.0000  | 0.0000  | 0.0000  | 0.0000  | 0.3285  | 0.0000  | 0.0000  | 0.0000  | 0.0000  | 0.0000  | 0.0000  | 0.0000  | 0.0000  | 0.0000  | 0.0000  | 0.0000  | 0.0000  | 0.0000  | 0.0000  | 0.0000  | 0.0000  | 0.0000  | 0.0000  | 0.0000  | 0.0000  | 0.0000  | 0.0000  | 0.0000  | 0.0000  | 0.0000  | 0.0000  | 0.0000  | 0.0000  | 0.0000  | 0.0000  | 0.0000  | 0.0000  | 0.0000  | 0.0000  | 0.0000  | 0.0000  | 0.0000  | 0.0000  | 0.0000  | 0.0000  | 0.0000  | 0.0000  | 0.0000  | 0.0000  | 0.0000  | 0.0000  | 0.0000  | 0.0000  | 0.0000  | 0.0000  | 0.0000  | 0.0000  | 0.0000  | 0.0000  | 0.0000  | 0.0000  | 0.0000  | 0.0000  | 0.0000  | 0.0000  | 0.0000  | 0.0000  | 0.0000  | 0.0000  | 0.0000  | 0.0000  | 0.0000  | 0.0000  | 0.0000  | 0.0000  | 0.0000  | 0.0000  | 0.0106  | 0.0000  | 0.0000  | 0.0000  | 0.0000  | 0.0000  | 0.0000  | 0.0000  | 0.0000  | 0.0000  | 0.0000  | 0.0000  | 0.0000  | 0.0000  | 0.0000  | 0.0000  | 0.0000  | 0.0000  | 0.0000  | 0.0000  |\n",
       "[...33 more line(s) ...]\n",
       "TELEBI|| 0.0000  | 0.0000  | 0.0000  | 0.0000  | 0.0000  | 0.0000  | 0.0000  | 0.0000  | 0.0000  | 0.0000  | 0.0000  | 0.0000  | 0.0000  | 0.0000  | 0.0000  | 0.0000  | 0.0000  | 0.0000  | 0.0000  | 0.0000  | 0.0000  | 0.0000  | 0.0000  | 0.0000  | 0.0000  | 0.0000  | 0.0000  | 0.0000  | 0.0000  | 0.0000  | 0.0000  | 0.0000  | 0.0000  | 0.0000  | 0.0000  | 0.0000  | 0.0000  | 0.0000  | 0.0000  | 0.0000  | 0.0000  | 0.0000  | 0.0000  | 0.0000  | 0.0000  | 0.0000  | 0.0000  | 0.0000  | 0.0000  | 0.0000  | 0.0000  | 0.0000  | 0.0000  | 0.0000  | 0.0000  | 0.0000  | 0.0000  | 0.0000  | 0.0000  | 0.0000  | 0.0000  | 0.0000  | 0.0000  | 0.0000  | 0.0000  | 0.0000  | 0.0000  | 0.0000  | 0.0000  | 0.0000  | 0.0000  | 0.0000  | 0.0000  | 0.0000  | 0.0000  | 0.0000  | 0.0000  | 0.0000  | 0.0000  | 0.0000  | 0.0000  | 0.0000  | 0.0000  | 0.0000  | 0.0000  | 0.0000  | 0.0000  | 0.0000  | 0.0000  | 0.0000  | 0.0000  | 0.0000  | 0.0000  | 0.0000  | 0.0000  | 0.0000  | 0.0000  | 0.0000  | 0.0000  | 0.0000  | 0.0000  | 0.0000  | 0.0000  | 0.0000  | 0.0000  | 0.0000  | 0.0000  | 0.0000  | 0.0000  | 0.0000  | 0.0000  | 0.0000  | 0.0099  | 0.1157  | 0.0000  | 0.3651  | 0.0000  | 0.5093  | 0.0000  | 0.0000  | 0.0000  | 0.0000  | 0.0000  | 0.0000  | 0.0000  | 0.0000  | 0.0000  | 0.0000  | 0.0000  | 0.0000  | 0.0000  | 0.0000  | 0.0000  | 0.0000  | 0.0000  | 0.0000  | 0.0000  | 0.0000  | 0.0000  | 0.0000  | 0.0000  | 0.0000  | 0.0000  | 0.0000  | 0.0000  | 0.0000  | 0.0000  | 0.0000  | 0.0000  | 0.0000  |\n",
       "MAINTE|| 0.0000  | 0.0000  | 0.0000  | 0.0000  | 0.0000  | 0.0000  | 0.0000  | 0.0000  | 0.0000  | 0.0000  | 0.0000  | 0.0000  | 0.0000  | 0.0000  | 0.0000  | 0.0000  | 0.0000  | 0.0000  | 0.0000  | 0.0000  | 0.0000  | 0.0000  | 0.0000  | 0.0000  | 0.0000  | 0.0000  | 0.0000  | 0.0000  | 0.0000  | 0.0000  | 0.0000  | 0.0000  | 0.0000  | 0.0000  | 0.0000  | 0.0000  | 0.0000  | 0.0000  | 0.0000  | 0.0000  | 0.0000  | 0.0000  | 0.0000  | 0.0000  | 0.0000  | 0.0000  | 0.0000  | 0.0000  | 0.0000  | 0.0000  | 0.0000  | 0.0000  | 0.0000  | 0.0000  | 0.0000  | 0.0000  | 0.0000  | 0.0000  | 0.0000  | 0.0000  | 0.0000  | 0.0000  | 0.0000  | 0.0000  | 0.0000  | 0.0000  | 0.0000  | 0.0000  | 0.0000  | 0.0000  | 0.0000  | 0.0000  | 0.0000  | 0.0000  | 0.0000  | 0.0000  | 0.0000  | 0.0000  | 0.0000  | 0.0000  | 0.0000  | 0.0000  | 0.0000  | 0.0000  | 0.0000  | 0.0000  | 0.0000  | 0.0000  | 0.0000  | 0.0000  | 0.0000  | 0.0000  | 0.0000  | 0.0000  | 0.0000  | 0.0000  | 0.0000  | 0.0000  | 0.0000  | 0.0000  | 0.0000  | 0.0000  | 0.0000  | 0.0000  | 0.0000  | 0.0000  | 0.0000  | 0.0000  | 0.0000  | 0.0000  | 0.0000  | 0.0000  | 0.0000  | 0.0000  | 0.0000  | 0.0000  | 0.0000  | 0.0000  | 0.0000  | 0.0000  | 0.0000  | 0.0000  | 0.0000  | 0.9149  | 0.0000  | 0.0000  | 0.0000  | 0.0000  | 0.0000  | 0.0000  | 0.0000  | 0.0000  | 0.0000  | 0.0000  | 0.0000  | 0.0000  | 0.0000  | 0.0000  | 0.0000  | 0.0000  | 0.0000  | 0.0000  | 0.0000  | 0.0000  | 0.0000  | 0.0000  | 0.0000  | 0.0000  | 0.0000  | 0.0851  |\n",
       "ENERGI|| 0.0000  | 0.0000  | 0.0000  | 0.0000  | 0.0000  | 0.0000  | 0.0000  | 0.0000  | 0.0000  | 0.0000  | 0.0000  | 0.0000  | 0.0000  | 0.0000  | 0.0000  | 0.0000  | 0.0000  | 0.0000  | 0.0000  | 0.0000  | 0.0000  | 0.0000  | 0.0000  | 0.0000  | 0.0000  | 0.0000  | 0.0000  | 0.0000  | 0.0000  | 0.0000  | 0.0000  | 0.0000  | 0.0000  | 0.0000  | 0.0000  | 0.0000  | 0.0000  | 0.0000  | 0.0000  | 0.0000  | 0.0000  | 0.0000  | 0.0000  | 0.0000  | 0.0000  | 0.0000  | 0.0000  | 0.0000  | 0.0000  | 0.0000  | 0.0000  | 0.0000  | 0.0000  | 0.0000  | 0.0000  | 0.0000  | 0.0000  | 0.0000  | 0.0000  | 0.0000  | 0.0000  | 0.0000  | 0.0000  | 0.0000  | 0.0000  | 0.0000  | 0.0000  | 0.0000  | 0.0000  | 0.0000  | 0.0000  | 0.0000  | 0.0000  | 0.0000  | 0.0000  | 0.0000  | 0.0000  | 0.0000  | 0.0000  | 0.0000  | 0.0000  | 0.0000  | 0.0000  | 0.0000  | 0.0000  | 0.0000  | 0.0000  | 0.0000  | 0.0000  | 0.0000  | 0.0000  | 0.0000  | 0.0000  | 0.0000  | 0.0000  | 0.0000  | 0.0000  | 0.0000  | 0.0000  | 0.0000  | 0.0000  | 0.0000  | 0.0000  | 0.0000  | 0.0000  | 0.0000  | 0.0000  | 0.0000  | 0.0000  | 0.0000  | 0.0000  | 0.0000  | 0.0000  | 0.0000  | 0.0000  | 0.0000  | 0.0000  | 0.0000  | 0.0000  | 0.0000  | 0.0000  | 0.0000  | 0.0000  | 0.0000  | 0.0000  | 0.0000  | 0.0000  | 0.0000  | 0.0000  | 0.0000  | 0.0000  | 0.0000  | 0.0000  | 0.7857  | 0.0000  | 0.0000  | 0.0000  | 0.0000  | 0.0000  | 0.0000  | 0.0000  | 0.0000  | 0.0000  | 0.0000  | 0.0000  | 0.0000  | 0.0000  | 0.2143  | 0.0000  | 0.0000  |\n",
       "MOTEUR|| 0.0000  | 0.0000  | 0.0000  | 0.0000  | 0.0000  | 0.0000  | 0.0000  | 0.0000  | 0.0000  | 0.0000  | 0.0000  | 0.0000  | 0.0000  | 0.0000  | 0.0000  | 0.0000  | 0.0000  | 0.0000  | 0.0000  | 0.0000  | 0.0000  | 0.0000  | 0.0000  | 0.0000  | 0.0000  | 0.0000  | 0.0000  | 0.0000  | 0.0000  | 0.0000  | 0.0000  | 0.0000  | 0.0000  | 0.0000  | 0.0000  | 0.0000  | 0.0000  | 0.0000  | 0.0000  | 0.0000  | 0.0000  | 0.0000  | 0.0000  | 0.0000  | 0.0000  | 0.0000  | 0.0000  | 0.0000  | 0.0000  | 0.0000  | 0.0000  | 0.0000  | 0.0000  | 0.0000  | 0.0000  | 0.0000  | 0.0000  | 0.0000  | 0.0000  | 0.0000  | 0.0000  | 0.0000  | 0.0000  | 0.0000  | 0.0000  | 0.0000  | 0.0000  | 0.0000  | 0.0000  | 0.0000  | 0.0000  | 0.0000  | 0.0000  | 0.0000  | 0.0000  | 0.0000  | 0.0000  | 0.0000  | 0.0000  | 0.0000  | 0.0000  | 0.0000  | 0.0000  | 0.0000  | 0.0000  | 0.0000  | 0.0000  | 0.0000  | 0.0000  | 0.0000  | 0.0000  | 0.0000  | 0.0000  | 0.0000  | 0.0000  | 0.0000  | 0.0000  | 0.0000  | 0.0000  | 0.0000  | 0.0000  | 0.0000  | 0.0000  | 0.0000  | 0.0000  | 0.0000  | 0.0000  | 0.0000  | 0.0000  | 0.0000  | 0.0000  | 0.0000  | 0.0000  | 0.0000  | 0.0000  | 0.0000  | 0.0000  | 0.0000  | 0.0000  | 0.0000  | 0.0000  | 0.0000  | 0.0000  | 0.0000  | 0.0000  | 0.0000  | 0.0000  | 0.0000  | 0.0000  | 0.0000  | 0.0000  | 0.0000  | 0.0000  | 0.0000  | 0.0000  | 0.0000  | 1.0000  | 0.0000  | 0.0000  | 0.0000  | 0.0000  | 0.0000  | 0.0000  | 0.0000  | 0.0000  | 0.0000  | 0.0000  | 0.0000  | 0.0000  | 0.0000  |\n",
       "CIRCUI|| 0.0000  | 0.0000  | 0.0000  | 0.0000  | 0.0000  | 0.0000  | 0.0000  | 0.0000  | 0.0000  | 0.0000  | 0.0000  | 0.0000  | 0.0000  | 0.0000  | 0.0000  | 0.0000  | 0.0000  | 0.0000  | 0.0000  | 0.0000  | 0.3400  | 0.0000  | 0.0000  | 0.0000  | 0.0000  | 0.0000  | 0.0000  | 0.0000  | 0.0000  | 0.0000  | 0.0000  | 0.0000  | 0.0000  | 0.0000  | 0.0000  | 0.0000  | 0.0000  | 0.0000  | 0.0000  | 0.0000  | 0.0000  | 0.0000  | 0.0000  | 0.0000  | 0.0000  | 0.0000  | 0.0000  | 0.0000  | 0.0000  | 0.0000  | 0.0000  | 0.0000  | 0.0000  | 0.0000  | 0.0000  | 0.0000  | 0.0000  | 0.0000  | 0.0000  | 0.0000  | 0.0000  | 0.0000  | 0.0000  | 0.0000  | 0.0000  | 0.0000  | 0.0000  | 0.0000  | 0.0000  | 0.0000  | 0.0000  | 0.0000  | 0.0000  | 0.0000  | 0.0000  | 0.0000  | 0.0000  | 0.0000  | 0.0000  | 0.0000  | 0.0000  | 0.0000  | 0.0000  | 0.0000  | 0.0000  | 0.0000  | 0.0000  | 0.0000  | 0.0000  | 0.0000  | 0.0000  | 0.0000  | 0.0000  | 0.0000  | 0.0000  | 0.0000  | 0.0000  | 0.0000  | 0.0000  | 0.0000  | 0.0000  | 0.0000  | 0.0000  | 0.0000  | 0.0000  | 0.0000  | 0.0000  | 0.0000  | 0.0000  | 0.0000  | 0.0000  | 0.0000  | 0.0000  | 0.0000  | 0.0000  | 0.0000  | 0.0000  | 0.0000  | 0.0000  | 0.0000  | 0.0000  | 0.0000  | 0.0000  | 0.0000  | 0.0000  | 0.0000  | 0.0000  | 0.0000  | 0.0000  | 0.0000  | 0.0000  | 0.0000  | 0.0000  | 0.0000  | 0.0000  | 0.0000  | 0.0000  | 0.0000  | 0.0000  | 0.0000  | 0.6600  | 0.0000  | 0.0000  | 0.0000  | 0.0000  | 0.0000  | 0.0000  | 0.0000  | 0.0000  | 0.0000  |\n",
       "FREIN || 0.0000  | 0.0000  | 0.0000  | 0.0000  | 0.0000  | 0.0000  | 0.0000  | 0.0000  | 0.0000  | 0.0000  | 0.0000  | 0.0000  | 0.0000  | 0.0000  | 0.0000  | 0.0000  | 0.0000  | 0.0000  | 0.0000  | 0.0000  | 0.0000  | 0.0000  | 0.0000  | 0.0000  | 0.0000  | 0.0000  | 0.0000  | 0.0000  | 0.0000  | 0.0000  | 0.0000  | 0.0000  | 0.0000  | 0.0000  | 0.0000  | 0.0000  | 0.0000  | 0.0000  | 0.0000  | 0.0000  | 0.0000  | 0.0000  | 0.0000  | 0.0000  | 0.0000  | 0.0000  | 0.0000  | 0.0000  | 0.0000  | 0.0000  | 0.0000  | 0.0000  | 0.0000  | 0.0000  | 0.0000  | 0.0000  | 0.0000  | 0.0000  | 0.0000  | 0.0000  | 0.0000  | 0.0000  | 0.0000  | 0.0000  | 0.0000  | 0.0000  | 0.0000  | 0.0000  | 0.0000  | 0.0000  | 0.0000  | 0.0000  | 0.0000  | 0.0000  | 0.0000  | 0.0000  | 0.0000  | 0.0000  | 0.0000  | 0.0000  | 0.0000  | 0.0000  | 0.0000  | 0.0000  | 0.0000  | 0.0000  | 0.0000  | 0.0000  | 0.0000  | 0.0000  | 0.0000  | 0.0000  | 0.0000  | 0.0000  | 0.0000  | 0.0000  | 0.0000  | 0.0000  | 0.0000  | 0.0000  | 0.0000  | 0.0000  | 0.0000  | 0.0000  | 0.0000  | 0.0000  | 0.0000  | 0.0000  | 0.0000  | 0.0000  | 0.0000  | 0.0000  | 0.0000  | 0.0000  | 0.0000  | 0.0000  | 0.0000  | 0.0000  | 0.0000  | 0.0000  | 0.0000  | 0.0000  | 0.0000  | 0.0000  | 0.0000  | 0.0000  | 0.0000  | 0.0000  | 0.0000  | 0.0000  | 0.0000  | 0.0000  | 0.0000  | 0.0000  | 0.0000  | 0.0000  | 0.0000  | 0.0000  | 0.0000  | 0.0000  | 0.0000  | 0.0000  | 0.0000  | 0.0000  | 0.0000  | 0.0000  | 0.0000  | 0.0000  | 1.0000  | 0.0000  |"
      ]
     },
     "execution_count": 76,
     "metadata": {},
     "output_type": "execute_result"
    }
   ],
   "source": [
    "for liste_N2 in ot_odr_df['SYSTEM_N2'].unique():\n",
    "    ot_odf_SYSTEM_N2 = ot_odr_df.loc[ot_odr_df['SYSTEM_N2'] == liste_N2]\n",
    "    liste_N2 = Delete_special_caractere(liste_N2)\n",
    "    rb_projet.cpt(\"SYSTEM_N3\")[{\"SYSTEM_N2\":liste_N2}] = Create_Probabilite(ot_odf_SYSTEM_N2,\"SYSTEM_N3\",ot_odr_df[\"SYSTEM_N3\"].unique())\n",
    "rb_projet.cpt(\"SYSTEM_N3\")"
   ]
  },
  {
   "attachments": {},
   "cell_type": "markdown",
   "metadata": {},
   "source": [
    "# Affichage"
   ]
  },
  {
   "attachments": {},
   "cell_type": "markdown",
   "metadata": {},
   "source": [
    "### Affichage Tableau"
   ]
  },
  {
   "cell_type": "code",
   "execution_count": 77,
   "metadata": {},
   "outputs": [
    {
     "name": "stdout",
     "output_type": "stream",
     "text": [
      "| Variable                   | Probabilité |\n",
      "+----------------------------+-------------+\n",
      "| EQUIPEMENT DE CARROSSERIE  | 0.0028      |\n",
      "| EQUIPEMENT ELECTRIQUE      | 0.9958      |\n",
      "| EQUIPEMENT CHASSIS         | 0.0001      |\n",
      "| EQUIPEMENT EMBARQUE        | 0.0004      |\n",
      "| EQUIPEMENT CLIMATIQUE      | 0.0002      |\n",
      "| EQUIPEMENT DE FREINAGE     | 0.0001      |\n",
      "| EQUIPEMENT DE MOTORISATION | 0.0006      |\n",
      "| EQUIPEMENT DE TRANSMISSION | 0.0000      |\n",
      "| EQUIPEMENT PNEUMATIQUE     | 0.0001      |\n",
      "| DIVERS                     | 0.0000      |\n",
      "+----------------------------+-------------+\n"
     ]
    }
   ],
   "source": [
    "def afficher_probabilites_tableau(sig_organe,sig_obs,rb_projet):\n",
    "    # Définir la valeur choisie pour SIG_ORGANE\n",
    "    rb_projet.cpt(\"SIG_ORGANE\")[{\"SIG_ORGANE\": sig_organe, \"SIG_OBS\": sig_obs}] = 1.0\n",
    "    colonnes = ot_odr_df['SYSTEM_N1'].unique()\n",
    "    # Calculer la probabilité conditionnelle pour SYSTEM_N1\n",
    "    proba_system_n1 = rb_projet.cpt(\"SYSTEM_N1\")[{\"SIG_ORGANE\": sig_organe, \"SIG_OBS\": sig_obs}]\n",
    "    # Déterminer la longueur maximale des noms de colonnes\n",
    "    longueur_max = max(len(colonne) for colonne in colonnes)\n",
    "\n",
    "    # Afficher l'en-tête du tableau\n",
    "    print(f\"| {'Variable':<{longueur_max}} | Probabilité |\")\n",
    "    print(f\"+{'-' * (longueur_max + 2)}+-------------+\")\n",
    "\n",
    "    # Afficher les lignes du tableau avec les noms de colonnes et les probabilités\n",
    "    for colonne, probabilite in zip(colonnes, proba_system_n1):\n",
    "        print(f\"| {colonne:<{longueur_max}} | {probabilite:.4f}      |\")\n",
    "\n",
    "    # Afficher la ligne de séparation du tableau\n",
    "    print(f\"+{'-' * (longueur_max + 2)}+-------------+\")\n",
    "\n",
    "sig_organe_choisi = \"ECLAIRAGE FEUX EXTERIEURS\"\n",
    "# sig_obs_choisi = \"CASSE\"\n",
    "sig_obs_choisi = \"NE FONCTIONNE PAS\"\n",
    "\n",
    "afficher_probabilites_tableau(sig_organe_choisi,sig_obs_choisi,rb_projet)"
   ]
  },
  {
   "cell_type": "code",
   "execution_count": 78,
   "metadata": {},
   "outputs": [
    {
     "data": {
      "image/png": "[encoded data removed]",
      "text/plain": [
       "<Figure size 4000x2000 with 1 Axes>"
      ]
     },
     "metadata": {},
     "output_type": "display_data"
    }
   ],
   "source": [
    "import matplotlib.pyplot as plt\n",
    "\n",
    "def afficher_probabilites(sig_organe,sig_obs,rb_projet):\n",
    "    # Définir la valeur choisie pour SIG_ORGANE\n",
    "    rb_projet.cpt(\"SIG_ORGANE\")[{\"SIG_ORGANE\": sig_organe, \"SIG_OBS\": sig_obs}] = 1.0\n",
    "    colonne = ot_odr_df['SYSTEM_N1'].unique()\n",
    "    # Calculer la probabilité conditionnelle pour SYSTEM_N1\n",
    "    proba_system_n1 = rb_projet.cpt(\"SYSTEM_N1\")[{\"SIG_ORGANE\": sig_organe, \"SIG_OBS\": sig_obs}]\n",
    "\n",
    "    # Afficher la probabilité pour SYSTEM_N1 avec une taille de figure plus grande\n",
    "    plt.figure(figsize=(40, 20))\n",
    "    plt.bar(colonne, proba_system_n1, color='blue')\n",
    "    plt.title(str(\"Probabilité la plus probable pour SYSTEM_N1 en ayant \" + sig_organe_choisi + \" \" + sig_obs))\n",
    "    plt.xlabel(\"SYSTEM_N1\")\n",
    "    plt.ylabel(\"Probabilité\")\n",
    "    plt.show()\n",
    "    \n",
    "\n",
    "sig_organe_choisi = \"ECLAIRAGE FEUX EXTERIEURS\"\n",
    "sig_obs_choisi = \"CASSE\"\n",
    "afficher_probabilites(sig_organe_choisi,sig_obs_choisi,rb_projet)\n"
   ]
  }
 ],
 "metadata": {
  "kernelspec": {
   "display_name": "Python 3",
   "language": "python",
   "name": "python3"
  },
  "language_info": {
   "codemirror_mode": {
    "name": "ipython",
    "version": 3
   },
   "file_extension": ".py",
   "mimetype": "text/x-python",
   "name": "python",
   "nbconvert_exporter": "python",
   "pygments_lexer": "ipython3",
   "version": "3.11.3"
  },
  "orig_nbformat": 4
 },
 "nbformat": 4,
 "nbformat_minor": 2
}
