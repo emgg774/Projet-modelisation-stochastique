{
 "cells": [
  {
   "cell_type": "code",
   "execution_count": 39,
   "metadata": {},
   "outputs": [],
   "source": [
    "import pandas as pd\n",
    "import os\n",
    "\n",
    "ot_odr_filename = os.path.join(\".\", \"OT_ODR.csv.bz2\")\n",
    "ot_odr_df = pd.read_csv(ot_odr_filename, compression=\"bz2\", sep=\";\")\n",
    "longueur_ot_odr_df = len(ot_odr_df)\n",
    "\n",
    "equipements_filename = os.path.join(\".\", 'EQUIPEMENTS.csv')\n",
    "equipements_df = pd.read_csv(equipements_filename, sep=\";\")\n"
   ]
  },
  {
   "cell_type": "code",
   "execution_count": 2,
   "metadata": {},
   "outputs": [
    {
     "data": {
      "text/html": [
       "<div>\n",
       "<style scoped>\n",
       "    .dataframe tbody tr th:only-of-type {\n",
       "        vertical-align: middle;\n",
       "    }\n",
       "\n",
       "    .dataframe tbody tr th {\n",
       "        vertical-align: top;\n",
       "    }\n",
       "\n",
       "    .dataframe thead th {\n",
       "        text-align: right;\n",
       "    }\n",
       "</style>\n",
       "<table border=\"1\" class=\"dataframe\">\n",
       "  <thead>\n",
       "    <tr style=\"text-align: right;\">\n",
       "      <th></th>\n",
       "      <th>EQU_ID</th>\n",
       "      <th>MODELE</th>\n",
       "      <th>CONSTRUCTEUR</th>\n",
       "      <th>MOTEUR</th>\n",
       "    </tr>\n",
       "  </thead>\n",
       "  <tbody>\n",
       "    <tr>\n",
       "      <th>4882</th>\n",
       "      <td>E00271009</td>\n",
       "      <td>MD023</td>\n",
       "      <td>C007</td>\n",
       "      <td>MT021</td>\n",
       "    </tr>\n",
       "    <tr>\n",
       "      <th>4883</th>\n",
       "      <td>E00341892</td>\n",
       "      <td>MD063</td>\n",
       "      <td>C007</td>\n",
       "      <td>MT023</td>\n",
       "    </tr>\n",
       "    <tr>\n",
       "      <th>4884</th>\n",
       "      <td>E00331551</td>\n",
       "      <td>MD005</td>\n",
       "      <td>C000</td>\n",
       "      <td>MT040</td>\n",
       "    </tr>\n",
       "    <tr>\n",
       "      <th>4885</th>\n",
       "      <td>E00373890</td>\n",
       "      <td>MD021</td>\n",
       "      <td>C011</td>\n",
       "      <td>MT0-1</td>\n",
       "    </tr>\n",
       "    <tr>\n",
       "      <th>4886</th>\n",
       "      <td>E00365136</td>\n",
       "      <td>MD032</td>\n",
       "      <td>C006</td>\n",
       "      <td>MT016</td>\n",
       "    </tr>\n",
       "  </tbody>\n",
       "</table>\n",
       "</div>"
      ],
      "text/plain": [
       "         EQU_ID MODELE CONSTRUCTEUR MOTEUR\n",
       "4882  E00271009  MD023         C007  MT021\n",
       "4883  E00341892  MD063         C007  MT023\n",
       "4884  E00331551  MD005         C000  MT040\n",
       "4885  E00373890  MD021         C011  MT0-1\n",
       "4886  E00365136  MD032         C006  MT016"
      ]
     },
     "execution_count": 2,
     "metadata": {},
     "output_type": "execute_result"
    }
   ],
   "source": [
    "equipements_df.tail()\n"
   ]
  },
  {
   "cell_type": "code",
   "execution_count": 3,
   "metadata": {},
   "outputs": [
    {
     "data": {
      "text/html": [
       "<div>\n",
       "<style scoped>\n",
       "    .dataframe tbody tr th:only-of-type {\n",
       "        vertical-align: middle;\n",
       "    }\n",
       "\n",
       "    .dataframe tbody tr th {\n",
       "        vertical-align: top;\n",
       "    }\n",
       "\n",
       "    .dataframe thead th {\n",
       "        text-align: right;\n",
       "    }\n",
       "</style>\n",
       "<table border=\"1\" class=\"dataframe\">\n",
       "  <thead>\n",
       "    <tr style=\"text-align: right;\">\n",
       "      <th></th>\n",
       "      <th>OT_ID</th>\n",
       "      <th>ODR_ID</th>\n",
       "      <th>ODR_LIBELLE</th>\n",
       "      <th>TYPE_TRAVAIL</th>\n",
       "      <th>DUREE_TRAVAIL</th>\n",
       "      <th>SYSTEM_N1</th>\n",
       "      <th>SYSTEM_N2</th>\n",
       "      <th>SYSTEM_N3</th>\n",
       "      <th>EQU_ID</th>\n",
       "      <th>DATE_OT</th>\n",
       "      <th>KILOMETRAGE</th>\n",
       "      <th>SIG_ORGANE</th>\n",
       "      <th>SIG_CONTEXTE</th>\n",
       "      <th>SIG_OBS</th>\n",
       "      <th>LIGNE</th>\n",
       "    </tr>\n",
       "  </thead>\n",
       "  <tbody>\n",
       "    <tr>\n",
       "      <th>506553</th>\n",
       "      <td>OT000405952</td>\n",
       "      <td>OM000506539</td>\n",
       "      <td>REMPLACEMENT D'UN FEU DE RECUL</td>\n",
       "      <td>ELECTRICITE</td>\n",
       "      <td>0.04</td>\n",
       "      <td>EQUIPEMENT ELECTRIQUE</td>\n",
       "      <td>ECLAIRAGE-SIGNALISATION</td>\n",
       "      <td>ECLAIRAGE-SIGNALISATION EXT</td>\n",
       "      <td>E00040793</td>\n",
       "      <td>2019-09-30 20:38:09</td>\n",
       "      <td>296005.373397</td>\n",
       "      <td>ECLAIRAGE FEUX EXTERIEURS</td>\n",
       "      <td>ARRIERE/EXTERIEUR/DROIT</td>\n",
       "      <td>CASSE</td>\n",
       "      <td>L0283</td>\n",
       "    </tr>\n",
       "    <tr>\n",
       "      <th>506554</th>\n",
       "      <td>OT000405953</td>\n",
       "      <td>OM000506546</td>\n",
       "      <td>REMPLACEMENT D'UN ECLAIRAGE EXT</td>\n",
       "      <td>MECANIQUE</td>\n",
       "      <td>0.75</td>\n",
       "      <td>EQUIPEMENT ELECTRIQUE</td>\n",
       "      <td>ECLAIRAGE-SIGNALISATION</td>\n",
       "      <td>ECLAIRAGE-SIGNALISATION EXT</td>\n",
       "      <td>E00274690</td>\n",
       "      <td>2019-09-30 21:21:20</td>\n",
       "      <td>153050.080050</td>\n",
       "      <td>ECLAIRAGE FEUX EXTERIEURS</td>\n",
       "      <td>ARRIERE/LATERAL</td>\n",
       "      <td>CASSE</td>\n",
       "      <td>L0116</td>\n",
       "    </tr>\n",
       "    <tr>\n",
       "      <th>506555</th>\n",
       "      <td>OT000405954</td>\n",
       "      <td>OM000506536</td>\n",
       "      <td>REMPLACEMENT D'UN PASSE SANS CONTACT</td>\n",
       "      <td>EQUIPEMENT EMBARQUE</td>\n",
       "      <td>0.03</td>\n",
       "      <td>EQUIPEMENT EMBARQUE</td>\n",
       "      <td>TELEBILLETIQUE</td>\n",
       "      <td>PASSE SANS CONTACT</td>\n",
       "      <td>E00256452</td>\n",
       "      <td>2019-09-30 21:39:29</td>\n",
       "      <td>175063.182439</td>\n",
       "      <td>AVTT</td>\n",
       "      <td>AVANT/PORTE</td>\n",
       "      <td>INTERMITTENT</td>\n",
       "      <td>L0134</td>\n",
       "    </tr>\n",
       "    <tr>\n",
       "      <th>506556</th>\n",
       "      <td>OT000405955</td>\n",
       "      <td>OM000506545</td>\n",
       "      <td>REMPLACEMENT D'UNE LAMPE DE FEU DE GABARIT</td>\n",
       "      <td>ELECTRICITE</td>\n",
       "      <td>0.04</td>\n",
       "      <td>EQUIPEMENT ELECTRIQUE</td>\n",
       "      <td>ECLAIRAGE-SIGNALISATION</td>\n",
       "      <td>ECLAIRAGE-SIGNALISATION EXT</td>\n",
       "      <td>E00006122</td>\n",
       "      <td>2019-09-30 21:55:28</td>\n",
       "      <td>437053.614263</td>\n",
       "      <td>ECLAIRAGE FEUX EXTERIEURS</td>\n",
       "      <td>LATERAL/HAUT/GAUCHE</td>\n",
       "      <td>NE FONCTIONNE PAS</td>\n",
       "      <td>L0270</td>\n",
       "    </tr>\n",
       "    <tr>\n",
       "      <th>506557</th>\n",
       "      <td>OT000405956</td>\n",
       "      <td>OM000506547</td>\n",
       "      <td>REMPLACEMENT DE LA CASSETTE ENCREUSE D'UN VALI...</td>\n",
       "      <td>EQUIPEMENT EMBARQUE</td>\n",
       "      <td>0.03</td>\n",
       "      <td>EQUIPEMENT EMBARQUE</td>\n",
       "      <td>TELEBILLETIQUE</td>\n",
       "      <td>VALIDEUR MAGNETIQUE</td>\n",
       "      <td>E00315330</td>\n",
       "      <td>2019-09-30 23:43:42</td>\n",
       "      <td>83269.095630</td>\n",
       "      <td>AVTT</td>\n",
       "      <td>POSTE CONDUITE/AVANT</td>\n",
       "      <td>NE FONCTIONNE PAS</td>\n",
       "      <td>L0047</td>\n",
       "    </tr>\n",
       "  </tbody>\n",
       "</table>\n",
       "</div>"
      ],
      "text/plain": [
       "              OT_ID       ODR_ID   \n",
       "506553  OT000405952  OM000506539  \\\n",
       "506554  OT000405953  OM000506546   \n",
       "506555  OT000405954  OM000506536   \n",
       "506556  OT000405955  OM000506545   \n",
       "506557  OT000405956  OM000506547   \n",
       "\n",
       "                                              ODR_LIBELLE   \n",
       "506553                     REMPLACEMENT D'UN FEU DE RECUL  \\\n",
       "506554                    REMPLACEMENT D'UN ECLAIRAGE EXT   \n",
       "506555               REMPLACEMENT D'UN PASSE SANS CONTACT   \n",
       "506556         REMPLACEMENT D'UNE LAMPE DE FEU DE GABARIT   \n",
       "506557  REMPLACEMENT DE LA CASSETTE ENCREUSE D'UN VALI...   \n",
       "\n",
       "               TYPE_TRAVAIL  DUREE_TRAVAIL              SYSTEM_N1   \n",
       "506553          ELECTRICITE           0.04  EQUIPEMENT ELECTRIQUE  \\\n",
       "506554            MECANIQUE           0.75  EQUIPEMENT ELECTRIQUE   \n",
       "506555  EQUIPEMENT EMBARQUE           0.03    EQUIPEMENT EMBARQUE   \n",
       "506556          ELECTRICITE           0.04  EQUIPEMENT ELECTRIQUE   \n",
       "506557  EQUIPEMENT EMBARQUE           0.03    EQUIPEMENT EMBARQUE   \n",
       "\n",
       "                      SYSTEM_N2                    SYSTEM_N3     EQU_ID   \n",
       "506553  ECLAIRAGE-SIGNALISATION  ECLAIRAGE-SIGNALISATION EXT  E00040793  \\\n",
       "506554  ECLAIRAGE-SIGNALISATION  ECLAIRAGE-SIGNALISATION EXT  E00274690   \n",
       "506555           TELEBILLETIQUE           PASSE SANS CONTACT  E00256452   \n",
       "506556  ECLAIRAGE-SIGNALISATION  ECLAIRAGE-SIGNALISATION EXT  E00006122   \n",
       "506557           TELEBILLETIQUE          VALIDEUR MAGNETIQUE  E00315330   \n",
       "\n",
       "                    DATE_OT    KILOMETRAGE                 SIG_ORGANE   \n",
       "506553  2019-09-30 20:38:09  296005.373397  ECLAIRAGE FEUX EXTERIEURS  \\\n",
       "506554  2019-09-30 21:21:20  153050.080050  ECLAIRAGE FEUX EXTERIEURS   \n",
       "506555  2019-09-30 21:39:29  175063.182439                       AVTT   \n",
       "506556  2019-09-30 21:55:28  437053.614263  ECLAIRAGE FEUX EXTERIEURS   \n",
       "506557  2019-09-30 23:43:42   83269.095630                       AVTT   \n",
       "\n",
       "                   SIG_CONTEXTE            SIG_OBS  LIGNE  \n",
       "506553  ARRIERE/EXTERIEUR/DROIT              CASSE  L0283  \n",
       "506554          ARRIERE/LATERAL              CASSE  L0116  \n",
       "506555              AVANT/PORTE       INTERMITTENT  L0134  \n",
       "506556      LATERAL/HAUT/GAUCHE  NE FONCTIONNE PAS  L0270  \n",
       "506557     POSTE CONDUITE/AVANT  NE FONCTIONNE PAS  L0047  "
      ]
     },
     "execution_count": 3,
     "metadata": {},
     "output_type": "execute_result"
    }
   ],
   "source": [
    "ot_odr_df.tail()"
   ]
  },
  {
   "cell_type": "code",
   "execution_count": 4,
   "metadata": {},
   "outputs": [
    {
     "data": {
      "text/plain": [
       "SIG_ORGANE\n",
       "ECLAIRAGE FEUX EXTERIEURS    189559\n",
       "CLIGNOTANTS/ DETRESSE         38986\n",
       "PARE-CHOCS                    33191\n",
       "RETROVISEUR                   25005\n",
       "PORTE                         23043\n",
       "                              ...  \n",
       "TACHYGRAPHE                       2\n",
       "LUBRIMATIC                        1\n",
       "COLMATAGE.F.AIR                   1\n",
       "PILE BTSAM                        1\n",
       "ISSUE SEC.                        1\n",
       "Name: count, Length: 116, dtype: int64"
      ]
     },
     "execution_count": 4,
     "metadata": {},
     "output_type": "execute_result"
    }
   ],
   "source": [
    "ot_odr_df['SIG_ORGANE'].value_counts()"
   ]
  },
  {
   "attachments": {},
   "cell_type": "markdown",
   "metadata": {},
   "source": [
    "### PyAgrum"
   ]
  },
  {
   "cell_type": "code",
   "execution_count": 24,
   "metadata": {},
   "outputs": [
    {
     "name": "stdout",
     "output_type": "stream",
     "text": [
      "Requirement already satisfied: pyAgrum in c:\\users\\jujo6\\appdata\\local\\packages\\pythonsoftwarefoundation.python.3.11_qbz5n2kfra8p0\\localcache\\local-packages\\python311\\site-packages (1.8.1)\n",
      "Requirement already satisfied: numpy in c:\\users\\jujo6\\appdata\\local\\packages\\pythonsoftwarefoundation.python.3.11_qbz5n2kfra8p0\\localcache\\local-packages\\python311\\site-packages (from pyAgrum) (1.24.3)\n",
      "Requirement already satisfied: matplotlib in c:\\users\\jujo6\\appdata\\local\\packages\\pythonsoftwarefoundation.python.3.11_qbz5n2kfra8p0\\localcache\\local-packages\\python311\\site-packages (from pyAgrum) (3.7.1)\n",
      "Requirement already satisfied: pydot in c:\\users\\jujo6\\appdata\\local\\packages\\pythonsoftwarefoundation.python.3.11_qbz5n2kfra8p0\\localcache\\local-packages\\python311\\site-packages (from pyAgrum) (1.4.2)\n",
      "Requirement already satisfied: contourpy>=1.0.1 in c:\\users\\jujo6\\appdata\\local\\packages\\pythonsoftwarefoundation.python.3.11_qbz5n2kfra8p0\\localcache\\local-packages\\python311\\site-packages (from matplotlib->pyAgrum) (1.0.7)\n",
      "Requirement already satisfied: cycler>=0.10 in c:\\users\\jujo6\\appdata\\local\\packages\\pythonsoftwarefoundation.python.3.11_qbz5n2kfra8p0\\localcache\\local-packages\\python311\\site-packages (from matplotlib->pyAgrum) (0.11.0)\n",
      "Requirement already satisfied: fonttools>=4.22.0 in c:\\users\\jujo6\\appdata\\local\\packages\\pythonsoftwarefoundation.python.3.11_qbz5n2kfra8p0\\localcache\\local-packages\\python311\\site-packages (from matplotlib->pyAgrum) (4.39.4)\n",
      "Requirement already satisfied: kiwisolver>=1.0.1 in c:\\users\\jujo6\\appdata\\local\\packages\\pythonsoftwarefoundation.python.3.11_qbz5n2kfra8p0\\localcache\\local-packages\\python311\\site-packages (from matplotlib->pyAgrum) (1.4.4)\n",
      "Requirement already satisfied: packaging>=20.0 in c:\\users\\jujo6\\appdata\\local\\packages\\pythonsoftwarefoundation.python.3.11_qbz5n2kfra8p0\\localcache\\local-packages\\python311\\site-packages (from matplotlib->pyAgrum) (23.1)\n",
      "Requirement already satisfied: pillow>=6.2.0 in c:\\users\\jujo6\\appdata\\local\\packages\\pythonsoftwarefoundation.python.3.11_qbz5n2kfra8p0\\localcache\\local-packages\\python311\\site-packages (from matplotlib->pyAgrum) (9.5.0)\n",
      "Requirement already satisfied: pyparsing>=2.3.1 in c:\\users\\jujo6\\appdata\\local\\packages\\pythonsoftwarefoundation.python.3.11_qbz5n2kfra8p0\\localcache\\local-packages\\python311\\site-packages (from matplotlib->pyAgrum) (3.0.9)\n",
      "Requirement already satisfied: python-dateutil>=2.7 in c:\\users\\jujo6\\appdata\\local\\packages\\pythonsoftwarefoundation.python.3.11_qbz5n2kfra8p0\\localcache\\local-packages\\python311\\site-packages (from matplotlib->pyAgrum) (2.8.2)\n",
      "Requirement already satisfied: six>=1.5 in c:\\users\\jujo6\\appdata\\local\\packages\\pythonsoftwarefoundation.python.3.11_qbz5n2kfra8p0\\localcache\\local-packages\\python311\\site-packages (from python-dateutil>=2.7->matplotlib->pyAgrum) (1.16.0)\n"
     ]
    }
   ],
   "source": [
    "!pip install pyAgrum\n",
    "import pyAgrum as gum\n",
    "\n",
    "rb_projet =  gum.BayesNet(\"Réseau bayésien\")"
   ]
  },
  {
   "attachments": {},
   "cell_type": "markdown",
   "metadata": {},
   "source": [
    "## Création du noeud de SIG_ORGANE"
   ]
  },
  {
   "cell_type": "code",
   "execution_count": 26,
   "metadata": {},
   "outputs": [],
   "source": [
    "\n",
    "SIG_ORGANE_ELEMENT = ot_odr_df['SIG_ORGANE'].value_counts()\n",
    "\n",
    "va_SIG_ORGANE = gum.LabelizedVariable(\"SIG_ORGANE\", \"SIG_ORGANE\", len(SIG_ORGANE_ELEMENT))\n",
    "\n",
    "i = 0\n",
    "for liste in ot_odr_df['SIG_ORGANE'].unique():\n",
    "    va_SIG_ORGANE.changeLabel(i,liste)\n",
    "    i += 1\n"
   ]
  },
  {
   "cell_type": "code",
   "execution_count": 27,
   "metadata": {},
   "outputs": [],
   "source": [
    "\n",
    "SIG_SYSTEM_N1 = ot_odr_df['SYSTEM_N1'].value_counts()\n",
    "\n",
    "va_SYSTEM_N1 = gum.LabelizedVariable(\"SYSTEM_N1\", \"SYSTEM_N1\", len(SIG_SYSTEM_N1))\n",
    "\n",
    "i = 0\n",
    "for liste in ot_odr_df['SYSTEM_N1'].unique():\n",
    "    va_SYSTEM_N1.changeLabel(i,liste)\n",
    "    i += 1\n"
   ]
  },
  {
   "cell_type": "code",
   "execution_count": 28,
   "metadata": {},
   "outputs": [],
   "source": [
    "for va in [va_SIG_ORGANE,va_SYSTEM_N1]:\n",
    "    rb_projet.add(va)"
   ]
  },
  {
   "cell_type": "code",
   "execution_count": 29,
   "metadata": {},
   "outputs": [],
   "source": [
    "rb_projet.addArc(\"SIG_ORGANE\",\"SYSTEM_N1\")"
   ]
  },
  {
   "attachments": {},
   "cell_type": "markdown",
   "metadata": {},
   "source": [
    "## Probabilité pour SIG_ORGANE"
   ]
  },
  {
   "cell_type": "code",
   "execution_count": 41,
   "metadata": {},
   "outputs": [
    {
     "name": "stdout",
     "output_type": "stream",
     "text": [
      "[0.0024064371700772665, 0.0008607109156305892, 0.016896386988261958, 0.06552260550618093, 0.0007935912570722405, 0.0014509690894231263, 0.3742098634312359, 0.03726522925311613, 0.0029137828244741966, 0.0454893615341185, 0.013929303258462013, 0.03490024834273667, 0.0012535583289573948, 0.0039620339625472305, 0.010040311277287103, 0.011418238385337908, 0.022380457913999976, 0.07696255907517006, 0.00766743393648901, 6.317144334903408e-05, 0.013575937997228353, 0.0042186679511526815, 0.0003020384635125691, 0.0024735568286356154, 0.0033658534659407216, 0.0010087689859798877, 0.049362560654456156, 0.03116326264712037, 0.0030835560784747253, 0.0007225233833045772, 0.003211873072777451, 0.00047378582511775554, 0.004165367045826934, 0.0001480580703492986, 0.0008745296688631904, 0.00346258473856893, 0.005014233315829579, 0.0021438808586578435, 0.0007639796430023807, 0.0013818753232601204, 0.0008488662700026453, 0.0019839781426806012, 0.008832157423236826, 0.0010778627521428937, 0.0003632357992569459, 0.004214719735943367, 0.00026058220381476555, 0.0028190256594506453, 0.0004402259958385812, 0.001644431634679543, 0.0051287315568997035, 0.0025327800567753345, 0.01866518740203491, 0.0013976681840973787, 0.00351391153629002, 0.00021320362130298998, 0.000671196585583487, 9.673127262820841e-05, 0.00026650452662873745, 0.0007244974909092344, 0.01893761425147762, 0.001687862001982004, 0.0010897073977708376, 0.0029789283754278876, 0.00037113222967557515, 0.0009890279099333146, 0.0004382518882339239, 0.000596180496606509, 0.002033330832797034, 0.0004698376099084409, 0.00029019381788462527, 0.004783262726084673, 0.0019425218829827976, 0.004137729539361731, 0.0016266646662376272, 0.0002408411277681924, 0.00022110005172161924, 0.0010818109673522084, 0.0003632357992569459, 0.0006968599844440321, 8.488662700026453e-05, 0.0008212287635374429, 0.0004422001034432385, 0.0007481867821651222, 0.003983749146198461, 0.0003355982927917435, 0.0005803876357692505, 0.020256318131388704, 0.0016858878943773468, 1.579286083725852e-05, 9.278305741889379e-05, 0.0012318431453061643, 8.686073460492185e-05, 4.737858251177555e-05, 8.883484220957916e-05, 0.0010897073977708376, 0.004641126978549346, 0.0005981546042111664, 9.870538023286573e-06, 0.0004303554578152946, 0.00016779914639587174, 0.0004086402741640641, 3.750804448848898e-05, 2.3689291255887775e-05, 1.579286083725852e-05, 1.1844645627943887e-05, 1.974107604657315e-06, 7.89643041862926e-06, 1.974107604657315e-06, 2.3689291255887775e-05, 5.922322813971944e-06, 3.94821520931463e-06, 3.5533936883831664e-05, 1.974107604657315e-06, 1.974107604657315e-06, 3.94821520931463e-06]\n"
     ]
    }
   ],
   "source": [
    "count_SIG_ORGANE = []\n",
    "\n",
    "for liste in ot_odr_df['SIG_ORGANE'].unique():\n",
    "    count_SIG_ORGANE.append(len(ot_odr_df.loc[ot_odr_df['SIG_ORGANE'] == liste])/longueur_ot_odr_df)\n",
    "\n",
    "print(count_SIG_ORGANE)\n",
    "rb_projet.cpt(\"SIG_ORGANE\")[:] = count_SIG_ORGANE\n",
    "\n"
   ]
  }
 ],
 "metadata": {
  "kernelspec": {
   "display_name": "Python 3",
   "language": "python",
   "name": "python3"
  },
  "language_info": {
   "codemirror_mode": {
    "name": "ipython",
    "version": 3
   },
   "file_extension": ".py",
   "mimetype": "text/x-python",
   "name": "python",
   "nbconvert_exporter": "python",
   "pygments_lexer": "ipython3",
   "version": "3.11.3"
  },
  "orig_nbformat": 4
 },
 "nbformat": 4,
 "nbformat_minor": 2
}
